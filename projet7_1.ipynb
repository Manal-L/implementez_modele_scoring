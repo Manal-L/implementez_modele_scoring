{
  "nbformat": 4,
  "nbformat_minor": 0,
  "metadata": {
    "colab": {
      "provenance": [],
      "toc_visible": true,
      "authorship_tag": "ABX9TyPY7KjQ9c9TzLuX2YSMh1El",
      "include_colab_link": true
    },
    "kernelspec": {
      "name": "python3",
      "display_name": "Python 3"
    },
    "language_info": {
      "name": "python"
    }
  },
  "cells": [
    {
      "cell_type": "markdown",
      "metadata": {
        "id": "view-in-github",
        "colab_type": "text"
      },
      "source": [
        "<a href=\"https://colab.research.google.com/github/Manal-L/implementez_modele_scoring/blob/main/projet7_1.ipynb\" target=\"_parent\"><img src=\"https://colab.research.google.com/assets/colab-badge.svg\" alt=\"Open In Colab\"/></a>"
      ]
    },
    {
      "cell_type": "markdown",
      "source": [
        "\n",
        "Implémentez un modèle de scoring"
      ],
      "metadata": {
        "id": "C-ZGz8ZMzU52"
      }
    },
    {
      "cell_type": "markdown",
      "source": [
        "#Chargement des données"
      ],
      "metadata": {
        "id": "33wuzhgcK0DB"
      }
    },
    {
      "cell_type": "code",
      "source": [
        "import pandas as pd\n",
        "import zipfile\n",
        "from google.colab import drive\n",
        "\n",
        "drive.mount('/content/drive')\n",
        "\n",
        "#le chemin vers le fichier\n",
        "file_path = '/content/drive/My Drive/df_clean.zip'\n",
        "\n",
        "with zipfile.ZipFile(file_path, 'r') as zip_ref:\n",
        "    zip_ref.extractall('/content/')"
      ],
      "metadata": {
        "colab": {
          "base_uri": "https://localhost:8080/"
        },
        "id": "Q6QELSQEEnlo",
        "outputId": "92b57ce3-00b3-435a-c1af-6e5a41251d7c"
      },
      "execution_count": 1,
      "outputs": [
        {
          "output_type": "stream",
          "name": "stdout",
          "text": [
            "Mounted at /content/drive\n"
          ]
        }
      ]
    },
    {
      "cell_type": "code",
      "source": [
        "import os\n",
        "os.chdir('/content/drive/My Drive/MLflow')\n"
      ],
      "metadata": {
        "id": "wjdOO4maMZyZ"
      },
      "execution_count": 2,
      "outputs": []
    },
    {
      "cell_type": "code",
      "source": [
        "!ls"
      ],
      "metadata": {
        "id": "-Qv3R87iNghJ",
        "outputId": "0a0d327d-dc69-4950-aba7-f97ba1b686f6",
        "colab": {
          "base_uri": "https://localhost:8080/"
        }
      },
      "execution_count": 3,
      "outputs": [
        {
          "output_type": "stream",
          "name": "stdout",
          "text": [
            "mlruns\tprojet7_1.ipynb\n"
          ]
        }
      ]
    },
    {
      "cell_type": "code",
      "source": [
        "df = pd.read_csv('/content/df_clean.csv')\n",
        "print(df.shape)\n",
        "df.head()"
      ],
      "metadata": {
        "id": "ma5LKB6PEni-",
        "outputId": "2ada1686-16d5-4cd9-cf55-ac3506647018",
        "colab": {
          "base_uri": "https://localhost:8080/",
          "height": 290
        }
      },
      "execution_count": 6,
      "outputs": [
        {
          "output_type": "stream",
          "name": "stdout",
          "text": [
            "(356251, 770)\n"
          ]
        },
        {
          "output_type": "execute_result",
          "data": {
            "text/plain": [
              "   SK_ID_CURR  TARGET  CODE_GENDER  FLAG_OWN_CAR  FLAG_OWN_REALTY  \\\n",
              "0      100002     1.0            0             0                0   \n",
              "1      100003     0.0            1             0                1   \n",
              "2      100004     0.0            0             1                0   \n",
              "3      100006     0.0            1             0                0   \n",
              "4      100007     0.0            0             0                0   \n",
              "\n",
              "   CNT_CHILDREN  AMT_INCOME_TOTAL  AMT_CREDIT  AMT_ANNUITY  AMT_GOODS_PRICE  \\\n",
              "0             0          202500.0    406597.5      24700.5         351000.0   \n",
              "1             0          270000.0   1293502.5      35698.5        1129500.0   \n",
              "2             0           67500.0    135000.0       6750.0         135000.0   \n",
              "3             0          135000.0    312682.5      29686.5         297000.0   \n",
              "4             0          121500.0    513000.0      21865.5         513000.0   \n",
              "\n",
              "   ...  CC_NAME_CONTRACT_STATUS_Sent proposal_MAX  \\\n",
              "0  ...                                        NaN   \n",
              "1  ...                                        NaN   \n",
              "2  ...                                        NaN   \n",
              "3  ...                                      False   \n",
              "4  ...                                        NaN   \n",
              "\n",
              "   CC_NAME_CONTRACT_STATUS_Sent proposal_MEAN  \\\n",
              "0                                         NaN   \n",
              "1                                         NaN   \n",
              "2                                         NaN   \n",
              "3                                         0.0   \n",
              "4                                         NaN   \n",
              "\n",
              "   CC_NAME_CONTRACT_STATUS_Sent proposal_SUM  \\\n",
              "0                                        NaN   \n",
              "1                                        NaN   \n",
              "2                                        NaN   \n",
              "3                                        0.0   \n",
              "4                                        NaN   \n",
              "\n",
              "   CC_NAME_CONTRACT_STATUS_Sent proposal_VAR  \\\n",
              "0                                        NaN   \n",
              "1                                        NaN   \n",
              "2                                        NaN   \n",
              "3                                        0.0   \n",
              "4                                        NaN   \n",
              "\n",
              "   CC_NAME_CONTRACT_STATUS_Signed_MIN  CC_NAME_CONTRACT_STATUS_Signed_MAX  \\\n",
              "0                                 NaN                                 NaN   \n",
              "1                                 NaN                                 NaN   \n",
              "2                                 NaN                                 NaN   \n",
              "3                               False                               False   \n",
              "4                                 NaN                                 NaN   \n",
              "\n",
              "   CC_NAME_CONTRACT_STATUS_Signed_MEAN  CC_NAME_CONTRACT_STATUS_Signed_SUM  \\\n",
              "0                                  NaN                                 NaN   \n",
              "1                                  NaN                                 NaN   \n",
              "2                                  NaN                                 NaN   \n",
              "3                                  0.0                                 0.0   \n",
              "4                                  NaN                                 NaN   \n",
              "\n",
              "   CC_NAME_CONTRACT_STATUS_Signed_VAR  CC_COUNT  \n",
              "0                                 NaN       NaN  \n",
              "1                                 NaN       NaN  \n",
              "2                                 NaN       NaN  \n",
              "3                                 0.0       6.0  \n",
              "4                                 NaN       NaN  \n",
              "\n",
              "[5 rows x 770 columns]"
            ],
            "text/html": [
              "\n",
              "  <div id=\"df-2bbc7325-e729-4f39-8556-3dc5c398d3ae\" class=\"colab-df-container\">\n",
              "    <div>\n",
              "<style scoped>\n",
              "    .dataframe tbody tr th:only-of-type {\n",
              "        vertical-align: middle;\n",
              "    }\n",
              "\n",
              "    .dataframe tbody tr th {\n",
              "        vertical-align: top;\n",
              "    }\n",
              "\n",
              "    .dataframe thead th {\n",
              "        text-align: right;\n",
              "    }\n",
              "</style>\n",
              "<table border=\"1\" class=\"dataframe\">\n",
              "  <thead>\n",
              "    <tr style=\"text-align: right;\">\n",
              "      <th></th>\n",
              "      <th>SK_ID_CURR</th>\n",
              "      <th>TARGET</th>\n",
              "      <th>CODE_GENDER</th>\n",
              "      <th>FLAG_OWN_CAR</th>\n",
              "      <th>FLAG_OWN_REALTY</th>\n",
              "      <th>CNT_CHILDREN</th>\n",
              "      <th>AMT_INCOME_TOTAL</th>\n",
              "      <th>AMT_CREDIT</th>\n",
              "      <th>AMT_ANNUITY</th>\n",
              "      <th>AMT_GOODS_PRICE</th>\n",
              "      <th>...</th>\n",
              "      <th>CC_NAME_CONTRACT_STATUS_Sent proposal_MAX</th>\n",
              "      <th>CC_NAME_CONTRACT_STATUS_Sent proposal_MEAN</th>\n",
              "      <th>CC_NAME_CONTRACT_STATUS_Sent proposal_SUM</th>\n",
              "      <th>CC_NAME_CONTRACT_STATUS_Sent proposal_VAR</th>\n",
              "      <th>CC_NAME_CONTRACT_STATUS_Signed_MIN</th>\n",
              "      <th>CC_NAME_CONTRACT_STATUS_Signed_MAX</th>\n",
              "      <th>CC_NAME_CONTRACT_STATUS_Signed_MEAN</th>\n",
              "      <th>CC_NAME_CONTRACT_STATUS_Signed_SUM</th>\n",
              "      <th>CC_NAME_CONTRACT_STATUS_Signed_VAR</th>\n",
              "      <th>CC_COUNT</th>\n",
              "    </tr>\n",
              "  </thead>\n",
              "  <tbody>\n",
              "    <tr>\n",
              "      <th>0</th>\n",
              "      <td>100002</td>\n",
              "      <td>1.0</td>\n",
              "      <td>0</td>\n",
              "      <td>0</td>\n",
              "      <td>0</td>\n",
              "      <td>0</td>\n",
              "      <td>202500.0</td>\n",
              "      <td>406597.5</td>\n",
              "      <td>24700.5</td>\n",
              "      <td>351000.0</td>\n",
              "      <td>...</td>\n",
              "      <td>NaN</td>\n",
              "      <td>NaN</td>\n",
              "      <td>NaN</td>\n",
              "      <td>NaN</td>\n",
              "      <td>NaN</td>\n",
              "      <td>NaN</td>\n",
              "      <td>NaN</td>\n",
              "      <td>NaN</td>\n",
              "      <td>NaN</td>\n",
              "      <td>NaN</td>\n",
              "    </tr>\n",
              "    <tr>\n",
              "      <th>1</th>\n",
              "      <td>100003</td>\n",
              "      <td>0.0</td>\n",
              "      <td>1</td>\n",
              "      <td>0</td>\n",
              "      <td>1</td>\n",
              "      <td>0</td>\n",
              "      <td>270000.0</td>\n",
              "      <td>1293502.5</td>\n",
              "      <td>35698.5</td>\n",
              "      <td>1129500.0</td>\n",
              "      <td>...</td>\n",
              "      <td>NaN</td>\n",
              "      <td>NaN</td>\n",
              "      <td>NaN</td>\n",
              "      <td>NaN</td>\n",
              "      <td>NaN</td>\n",
              "      <td>NaN</td>\n",
              "      <td>NaN</td>\n",
              "      <td>NaN</td>\n",
              "      <td>NaN</td>\n",
              "      <td>NaN</td>\n",
              "    </tr>\n",
              "    <tr>\n",
              "      <th>2</th>\n",
              "      <td>100004</td>\n",
              "      <td>0.0</td>\n",
              "      <td>0</td>\n",
              "      <td>1</td>\n",
              "      <td>0</td>\n",
              "      <td>0</td>\n",
              "      <td>67500.0</td>\n",
              "      <td>135000.0</td>\n",
              "      <td>6750.0</td>\n",
              "      <td>135000.0</td>\n",
              "      <td>...</td>\n",
              "      <td>NaN</td>\n",
              "      <td>NaN</td>\n",
              "      <td>NaN</td>\n",
              "      <td>NaN</td>\n",
              "      <td>NaN</td>\n",
              "      <td>NaN</td>\n",
              "      <td>NaN</td>\n",
              "      <td>NaN</td>\n",
              "      <td>NaN</td>\n",
              "      <td>NaN</td>\n",
              "    </tr>\n",
              "    <tr>\n",
              "      <th>3</th>\n",
              "      <td>100006</td>\n",
              "      <td>0.0</td>\n",
              "      <td>1</td>\n",
              "      <td>0</td>\n",
              "      <td>0</td>\n",
              "      <td>0</td>\n",
              "      <td>135000.0</td>\n",
              "      <td>312682.5</td>\n",
              "      <td>29686.5</td>\n",
              "      <td>297000.0</td>\n",
              "      <td>...</td>\n",
              "      <td>False</td>\n",
              "      <td>0.0</td>\n",
              "      <td>0.0</td>\n",
              "      <td>0.0</td>\n",
              "      <td>False</td>\n",
              "      <td>False</td>\n",
              "      <td>0.0</td>\n",
              "      <td>0.0</td>\n",
              "      <td>0.0</td>\n",
              "      <td>6.0</td>\n",
              "    </tr>\n",
              "    <tr>\n",
              "      <th>4</th>\n",
              "      <td>100007</td>\n",
              "      <td>0.0</td>\n",
              "      <td>0</td>\n",
              "      <td>0</td>\n",
              "      <td>0</td>\n",
              "      <td>0</td>\n",
              "      <td>121500.0</td>\n",
              "      <td>513000.0</td>\n",
              "      <td>21865.5</td>\n",
              "      <td>513000.0</td>\n",
              "      <td>...</td>\n",
              "      <td>NaN</td>\n",
              "      <td>NaN</td>\n",
              "      <td>NaN</td>\n",
              "      <td>NaN</td>\n",
              "      <td>NaN</td>\n",
              "      <td>NaN</td>\n",
              "      <td>NaN</td>\n",
              "      <td>NaN</td>\n",
              "      <td>NaN</td>\n",
              "      <td>NaN</td>\n",
              "    </tr>\n",
              "  </tbody>\n",
              "</table>\n",
              "<p>5 rows × 770 columns</p>\n",
              "</div>\n",
              "    <div class=\"colab-df-buttons\">\n",
              "\n",
              "  <div class=\"colab-df-container\">\n",
              "    <button class=\"colab-df-convert\" onclick=\"convertToInteractive('df-2bbc7325-e729-4f39-8556-3dc5c398d3ae')\"\n",
              "            title=\"Convert this dataframe to an interactive table.\"\n",
              "            style=\"display:none;\">\n",
              "\n",
              "  <svg xmlns=\"http://www.w3.org/2000/svg\" height=\"24px\" viewBox=\"0 -960 960 960\">\n",
              "    <path d=\"M120-120v-720h720v720H120Zm60-500h600v-160H180v160Zm220 220h160v-160H400v160Zm0 220h160v-160H400v160ZM180-400h160v-160H180v160Zm440 0h160v-160H620v160ZM180-180h160v-160H180v160Zm440 0h160v-160H620v160Z\"/>\n",
              "  </svg>\n",
              "    </button>\n",
              "\n",
              "  <style>\n",
              "    .colab-df-container {\n",
              "      display:flex;\n",
              "      gap: 12px;\n",
              "    }\n",
              "\n",
              "    .colab-df-convert {\n",
              "      background-color: #E8F0FE;\n",
              "      border: none;\n",
              "      border-radius: 50%;\n",
              "      cursor: pointer;\n",
              "      display: none;\n",
              "      fill: #1967D2;\n",
              "      height: 32px;\n",
              "      padding: 0 0 0 0;\n",
              "      width: 32px;\n",
              "    }\n",
              "\n",
              "    .colab-df-convert:hover {\n",
              "      background-color: #E2EBFA;\n",
              "      box-shadow: 0px 1px 2px rgba(60, 64, 67, 0.3), 0px 1px 3px 1px rgba(60, 64, 67, 0.15);\n",
              "      fill: #174EA6;\n",
              "    }\n",
              "\n",
              "    .colab-df-buttons div {\n",
              "      margin-bottom: 4px;\n",
              "    }\n",
              "\n",
              "    [theme=dark] .colab-df-convert {\n",
              "      background-color: #3B4455;\n",
              "      fill: #D2E3FC;\n",
              "    }\n",
              "\n",
              "    [theme=dark] .colab-df-convert:hover {\n",
              "      background-color: #434B5C;\n",
              "      box-shadow: 0px 1px 3px 1px rgba(0, 0, 0, 0.15);\n",
              "      filter: drop-shadow(0px 1px 2px rgba(0, 0, 0, 0.3));\n",
              "      fill: #FFFFFF;\n",
              "    }\n",
              "  </style>\n",
              "\n",
              "    <script>\n",
              "      const buttonEl =\n",
              "        document.querySelector('#df-2bbc7325-e729-4f39-8556-3dc5c398d3ae button.colab-df-convert');\n",
              "      buttonEl.style.display =\n",
              "        google.colab.kernel.accessAllowed ? 'block' : 'none';\n",
              "\n",
              "      async function convertToInteractive(key) {\n",
              "        const element = document.querySelector('#df-2bbc7325-e729-4f39-8556-3dc5c398d3ae');\n",
              "        const dataTable =\n",
              "          await google.colab.kernel.invokeFunction('convertToInteractive',\n",
              "                                                    [key], {});\n",
              "        if (!dataTable) return;\n",
              "\n",
              "        const docLinkHtml = 'Like what you see? Visit the ' +\n",
              "          '<a target=\"_blank\" href=https://colab.research.google.com/notebooks/data_table.ipynb>data table notebook</a>'\n",
              "          + ' to learn more about interactive tables.';\n",
              "        element.innerHTML = '';\n",
              "        dataTable['output_type'] = 'display_data';\n",
              "        await google.colab.output.renderOutput(dataTable, element);\n",
              "        const docLink = document.createElement('div');\n",
              "        docLink.innerHTML = docLinkHtml;\n",
              "        element.appendChild(docLink);\n",
              "      }\n",
              "    </script>\n",
              "  </div>\n",
              "\n",
              "\n",
              "<div id=\"df-6878015d-df46-4399-828f-9ed6dd23fc2c\">\n",
              "  <button class=\"colab-df-quickchart\" onclick=\"quickchart('df-6878015d-df46-4399-828f-9ed6dd23fc2c')\"\n",
              "            title=\"Suggest charts\"\n",
              "            style=\"display:none;\">\n",
              "\n",
              "<svg xmlns=\"http://www.w3.org/2000/svg\" height=\"24px\"viewBox=\"0 0 24 24\"\n",
              "     width=\"24px\">\n",
              "    <g>\n",
              "        <path d=\"M19 3H5c-1.1 0-2 .9-2 2v14c0 1.1.9 2 2 2h14c1.1 0 2-.9 2-2V5c0-1.1-.9-2-2-2zM9 17H7v-7h2v7zm4 0h-2V7h2v10zm4 0h-2v-4h2v4z\"/>\n",
              "    </g>\n",
              "</svg>\n",
              "  </button>\n",
              "\n",
              "<style>\n",
              "  .colab-df-quickchart {\n",
              "      --bg-color: #E8F0FE;\n",
              "      --fill-color: #1967D2;\n",
              "      --hover-bg-color: #E2EBFA;\n",
              "      --hover-fill-color: #174EA6;\n",
              "      --disabled-fill-color: #AAA;\n",
              "      --disabled-bg-color: #DDD;\n",
              "  }\n",
              "\n",
              "  [theme=dark] .colab-df-quickchart {\n",
              "      --bg-color: #3B4455;\n",
              "      --fill-color: #D2E3FC;\n",
              "      --hover-bg-color: #434B5C;\n",
              "      --hover-fill-color: #FFFFFF;\n",
              "      --disabled-bg-color: #3B4455;\n",
              "      --disabled-fill-color: #666;\n",
              "  }\n",
              "\n",
              "  .colab-df-quickchart {\n",
              "    background-color: var(--bg-color);\n",
              "    border: none;\n",
              "    border-radius: 50%;\n",
              "    cursor: pointer;\n",
              "    display: none;\n",
              "    fill: var(--fill-color);\n",
              "    height: 32px;\n",
              "    padding: 0;\n",
              "    width: 32px;\n",
              "  }\n",
              "\n",
              "  .colab-df-quickchart:hover {\n",
              "    background-color: var(--hover-bg-color);\n",
              "    box-shadow: 0 1px 2px rgba(60, 64, 67, 0.3), 0 1px 3px 1px rgba(60, 64, 67, 0.15);\n",
              "    fill: var(--button-hover-fill-color);\n",
              "  }\n",
              "\n",
              "  .colab-df-quickchart-complete:disabled,\n",
              "  .colab-df-quickchart-complete:disabled:hover {\n",
              "    background-color: var(--disabled-bg-color);\n",
              "    fill: var(--disabled-fill-color);\n",
              "    box-shadow: none;\n",
              "  }\n",
              "\n",
              "  .colab-df-spinner {\n",
              "    border: 2px solid var(--fill-color);\n",
              "    border-color: transparent;\n",
              "    border-bottom-color: var(--fill-color);\n",
              "    animation:\n",
              "      spin 1s steps(1) infinite;\n",
              "  }\n",
              "\n",
              "  @keyframes spin {\n",
              "    0% {\n",
              "      border-color: transparent;\n",
              "      border-bottom-color: var(--fill-color);\n",
              "      border-left-color: var(--fill-color);\n",
              "    }\n",
              "    20% {\n",
              "      border-color: transparent;\n",
              "      border-left-color: var(--fill-color);\n",
              "      border-top-color: var(--fill-color);\n",
              "    }\n",
              "    30% {\n",
              "      border-color: transparent;\n",
              "      border-left-color: var(--fill-color);\n",
              "      border-top-color: var(--fill-color);\n",
              "      border-right-color: var(--fill-color);\n",
              "    }\n",
              "    40% {\n",
              "      border-color: transparent;\n",
              "      border-right-color: var(--fill-color);\n",
              "      border-top-color: var(--fill-color);\n",
              "    }\n",
              "    60% {\n",
              "      border-color: transparent;\n",
              "      border-right-color: var(--fill-color);\n",
              "    }\n",
              "    80% {\n",
              "      border-color: transparent;\n",
              "      border-right-color: var(--fill-color);\n",
              "      border-bottom-color: var(--fill-color);\n",
              "    }\n",
              "    90% {\n",
              "      border-color: transparent;\n",
              "      border-bottom-color: var(--fill-color);\n",
              "    }\n",
              "  }\n",
              "</style>\n",
              "\n",
              "  <script>\n",
              "    async function quickchart(key) {\n",
              "      const quickchartButtonEl =\n",
              "        document.querySelector('#' + key + ' button');\n",
              "      quickchartButtonEl.disabled = true;  // To prevent multiple clicks.\n",
              "      quickchartButtonEl.classList.add('colab-df-spinner');\n",
              "      try {\n",
              "        const charts = await google.colab.kernel.invokeFunction(\n",
              "            'suggestCharts', [key], {});\n",
              "      } catch (error) {\n",
              "        console.error('Error during call to suggestCharts:', error);\n",
              "      }\n",
              "      quickchartButtonEl.classList.remove('colab-df-spinner');\n",
              "      quickchartButtonEl.classList.add('colab-df-quickchart-complete');\n",
              "    }\n",
              "    (() => {\n",
              "      let quickchartButtonEl =\n",
              "        document.querySelector('#df-6878015d-df46-4399-828f-9ed6dd23fc2c button');\n",
              "      quickchartButtonEl.style.display =\n",
              "        google.colab.kernel.accessAllowed ? 'block' : 'none';\n",
              "    })();\n",
              "  </script>\n",
              "</div>\n",
              "\n",
              "    </div>\n",
              "  </div>\n"
            ],
            "application/vnd.google.colaboratory.intrinsic+json": {
              "type": "dataframe",
              "variable_name": "df"
            }
          },
          "metadata": {},
          "execution_count": 6
        }
      ]
    },
    {
      "cell_type": "code",
      "source": [
        "list(df)"
      ],
      "metadata": {
        "colab": {
          "base_uri": "https://localhost:8080/"
        },
        "id": "1xDPmBi6ui2c",
        "outputId": "aaf955f1-fe2a-44ba-8a38-f220bc592de0"
      },
      "execution_count": null,
      "outputs": [
        {
          "output_type": "execute_result",
          "data": {
            "text/plain": [
              "['SK_ID_CURR',\n",
              " 'TARGET',\n",
              " 'CODE_GENDER',\n",
              " 'FLAG_OWN_CAR',\n",
              " 'FLAG_OWN_REALTY',\n",
              " 'CNT_CHILDREN',\n",
              " 'AMT_INCOME_TOTAL',\n",
              " 'AMT_CREDIT',\n",
              " 'AMT_ANNUITY',\n",
              " 'AMT_GOODS_PRICE',\n",
              " 'REGION_POPULATION_RELATIVE',\n",
              " 'DAYS_BIRTH',\n",
              " 'DAYS_EMPLOYED',\n",
              " 'DAYS_REGISTRATION',\n",
              " 'DAYS_ID_PUBLISH',\n",
              " 'OWN_CAR_AGE',\n",
              " 'FLAG_MOBIL',\n",
              " 'FLAG_EMP_PHONE',\n",
              " 'FLAG_WORK_PHONE',\n",
              " 'FLAG_CONT_MOBILE',\n",
              " 'FLAG_PHONE',\n",
              " 'FLAG_EMAIL',\n",
              " 'CNT_FAM_MEMBERS',\n",
              " 'REGION_RATING_CLIENT',\n",
              " 'REGION_RATING_CLIENT_W_CITY',\n",
              " 'HOUR_APPR_PROCESS_START',\n",
              " 'REG_REGION_NOT_LIVE_REGION',\n",
              " 'REG_REGION_NOT_WORK_REGION',\n",
              " 'LIVE_REGION_NOT_WORK_REGION',\n",
              " 'REG_CITY_NOT_LIVE_CITY',\n",
              " 'REG_CITY_NOT_WORK_CITY',\n",
              " 'LIVE_CITY_NOT_WORK_CITY',\n",
              " 'EXT_SOURCE_1',\n",
              " 'EXT_SOURCE_2',\n",
              " 'EXT_SOURCE_3',\n",
              " 'APARTMENTS_AVG',\n",
              " 'BASEMENTAREA_AVG',\n",
              " 'YEARS_BEGINEXPLUATATION_AVG',\n",
              " 'YEARS_BUILD_AVG',\n",
              " 'COMMONAREA_AVG',\n",
              " 'ELEVATORS_AVG',\n",
              " 'ENTRANCES_AVG',\n",
              " 'FLOORSMAX_AVG',\n",
              " 'FLOORSMIN_AVG',\n",
              " 'LANDAREA_AVG',\n",
              " 'LIVINGAPARTMENTS_AVG',\n",
              " 'LIVINGAREA_AVG',\n",
              " 'NONLIVINGAPARTMENTS_AVG',\n",
              " 'NONLIVINGAREA_AVG',\n",
              " 'APARTMENTS_MODE',\n",
              " 'BASEMENTAREA_MODE',\n",
              " 'YEARS_BEGINEXPLUATATION_MODE',\n",
              " 'YEARS_BUILD_MODE',\n",
              " 'COMMONAREA_MODE',\n",
              " 'ELEVATORS_MODE',\n",
              " 'ENTRANCES_MODE',\n",
              " 'FLOORSMAX_MODE',\n",
              " 'FLOORSMIN_MODE',\n",
              " 'LANDAREA_MODE',\n",
              " 'LIVINGAPARTMENTS_MODE',\n",
              " 'LIVINGAREA_MODE',\n",
              " 'NONLIVINGAPARTMENTS_MODE',\n",
              " 'NONLIVINGAREA_MODE',\n",
              " 'APARTMENTS_MEDI',\n",
              " 'BASEMENTAREA_MEDI',\n",
              " 'YEARS_BEGINEXPLUATATION_MEDI',\n",
              " 'YEARS_BUILD_MEDI',\n",
              " 'COMMONAREA_MEDI',\n",
              " 'ELEVATORS_MEDI',\n",
              " 'ENTRANCES_MEDI',\n",
              " 'FLOORSMAX_MEDI',\n",
              " 'FLOORSMIN_MEDI',\n",
              " 'LANDAREA_MEDI',\n",
              " 'LIVINGAPARTMENTS_MEDI',\n",
              " 'LIVINGAREA_MEDI',\n",
              " 'NONLIVINGAPARTMENTS_MEDI',\n",
              " 'NONLIVINGAREA_MEDI',\n",
              " 'TOTALAREA_MODE',\n",
              " 'OBS_30_CNT_SOCIAL_CIRCLE',\n",
              " 'DEF_30_CNT_SOCIAL_CIRCLE',\n",
              " 'OBS_60_CNT_SOCIAL_CIRCLE',\n",
              " 'DEF_60_CNT_SOCIAL_CIRCLE',\n",
              " 'DAYS_LAST_PHONE_CHANGE',\n",
              " 'FLAG_DOCUMENT_2',\n",
              " 'FLAG_DOCUMENT_3',\n",
              " 'FLAG_DOCUMENT_4',\n",
              " 'FLAG_DOCUMENT_5',\n",
              " 'FLAG_DOCUMENT_6',\n",
              " 'FLAG_DOCUMENT_7',\n",
              " 'FLAG_DOCUMENT_8',\n",
              " 'FLAG_DOCUMENT_9',\n",
              " 'FLAG_DOCUMENT_10',\n",
              " 'FLAG_DOCUMENT_11',\n",
              " 'FLAG_DOCUMENT_12',\n",
              " 'FLAG_DOCUMENT_13',\n",
              " 'FLAG_DOCUMENT_14',\n",
              " 'FLAG_DOCUMENT_15',\n",
              " 'FLAG_DOCUMENT_16',\n",
              " 'FLAG_DOCUMENT_17',\n",
              " 'FLAG_DOCUMENT_18',\n",
              " 'FLAG_DOCUMENT_19',\n",
              " 'FLAG_DOCUMENT_20',\n",
              " 'FLAG_DOCUMENT_21',\n",
              " 'AMT_REQ_CREDIT_BUREAU_HOUR',\n",
              " 'AMT_REQ_CREDIT_BUREAU_DAY',\n",
              " 'AMT_REQ_CREDIT_BUREAU_WEEK',\n",
              " 'AMT_REQ_CREDIT_BUREAU_MON',\n",
              " 'AMT_REQ_CREDIT_BUREAU_QRT',\n",
              " 'AMT_REQ_CREDIT_BUREAU_YEAR',\n",
              " 'NAME_CONTRACT_TYPE_Cash loans',\n",
              " 'NAME_CONTRACT_TYPE_Revolving loans',\n",
              " 'NAME_TYPE_SUITE_Children',\n",
              " 'NAME_TYPE_SUITE_Family',\n",
              " 'NAME_TYPE_SUITE_Group of people',\n",
              " 'NAME_TYPE_SUITE_Other_A',\n",
              " 'NAME_TYPE_SUITE_Other_B',\n",
              " 'NAME_TYPE_SUITE_Spouse, partner',\n",
              " 'NAME_TYPE_SUITE_Unaccompanied',\n",
              " 'NAME_INCOME_TYPE_Businessman',\n",
              " 'NAME_INCOME_TYPE_Commercial associate',\n",
              " 'NAME_INCOME_TYPE_Maternity leave',\n",
              " 'NAME_INCOME_TYPE_Pensioner',\n",
              " 'NAME_INCOME_TYPE_State servant',\n",
              " 'NAME_INCOME_TYPE_Student',\n",
              " 'NAME_INCOME_TYPE_Unemployed',\n",
              " 'NAME_INCOME_TYPE_Working',\n",
              " 'NAME_EDUCATION_TYPE_Academic degree',\n",
              " 'NAME_EDUCATION_TYPE_Higher education',\n",
              " 'NAME_EDUCATION_TYPE_Incomplete higher',\n",
              " 'NAME_EDUCATION_TYPE_Lower secondary',\n",
              " 'NAME_EDUCATION_TYPE_Secondary / secondary special',\n",
              " 'NAME_FAMILY_STATUS_Civil marriage',\n",
              " 'NAME_FAMILY_STATUS_Married',\n",
              " 'NAME_FAMILY_STATUS_Separated',\n",
              " 'NAME_FAMILY_STATUS_Single / not married',\n",
              " 'NAME_FAMILY_STATUS_Unknown',\n",
              " 'NAME_FAMILY_STATUS_Widow',\n",
              " 'NAME_HOUSING_TYPE_Co-op apartment',\n",
              " 'NAME_HOUSING_TYPE_House / apartment',\n",
              " 'NAME_HOUSING_TYPE_Municipal apartment',\n",
              " 'NAME_HOUSING_TYPE_Office apartment',\n",
              " 'NAME_HOUSING_TYPE_Rented apartment',\n",
              " 'NAME_HOUSING_TYPE_With parents',\n",
              " 'OCCUPATION_TYPE_Accountants',\n",
              " 'OCCUPATION_TYPE_Cleaning staff',\n",
              " 'OCCUPATION_TYPE_Cooking staff',\n",
              " 'OCCUPATION_TYPE_Core staff',\n",
              " 'OCCUPATION_TYPE_Drivers',\n",
              " 'OCCUPATION_TYPE_HR staff',\n",
              " 'OCCUPATION_TYPE_High skill tech staff',\n",
              " 'OCCUPATION_TYPE_IT staff',\n",
              " 'OCCUPATION_TYPE_Laborers',\n",
              " 'OCCUPATION_TYPE_Low-skill Laborers',\n",
              " 'OCCUPATION_TYPE_Managers',\n",
              " 'OCCUPATION_TYPE_Medicine staff',\n",
              " 'OCCUPATION_TYPE_Private service staff',\n",
              " 'OCCUPATION_TYPE_Realty agents',\n",
              " 'OCCUPATION_TYPE_Sales staff',\n",
              " 'OCCUPATION_TYPE_Secretaries',\n",
              " 'OCCUPATION_TYPE_Security staff',\n",
              " 'OCCUPATION_TYPE_Waiters/barmen staff',\n",
              " 'WEEKDAY_APPR_PROCESS_START_FRIDAY',\n",
              " 'WEEKDAY_APPR_PROCESS_START_MONDAY',\n",
              " 'WEEKDAY_APPR_PROCESS_START_SATURDAY',\n",
              " 'WEEKDAY_APPR_PROCESS_START_SUNDAY',\n",
              " 'WEEKDAY_APPR_PROCESS_START_THURSDAY',\n",
              " 'WEEKDAY_APPR_PROCESS_START_TUESDAY',\n",
              " 'WEEKDAY_APPR_PROCESS_START_WEDNESDAY',\n",
              " 'ORGANIZATION_TYPE_Advertising',\n",
              " 'ORGANIZATION_TYPE_Agriculture',\n",
              " 'ORGANIZATION_TYPE_Bank',\n",
              " 'ORGANIZATION_TYPE_Business Entity Type 1',\n",
              " 'ORGANIZATION_TYPE_Business Entity Type 2',\n",
              " 'ORGANIZATION_TYPE_Business Entity Type 3',\n",
              " 'ORGANIZATION_TYPE_Cleaning',\n",
              " 'ORGANIZATION_TYPE_Construction',\n",
              " 'ORGANIZATION_TYPE_Culture',\n",
              " 'ORGANIZATION_TYPE_Electricity',\n",
              " 'ORGANIZATION_TYPE_Emergency',\n",
              " 'ORGANIZATION_TYPE_Government',\n",
              " 'ORGANIZATION_TYPE_Hotel',\n",
              " 'ORGANIZATION_TYPE_Housing',\n",
              " 'ORGANIZATION_TYPE_Industry: type 1',\n",
              " 'ORGANIZATION_TYPE_Industry: type 10',\n",
              " 'ORGANIZATION_TYPE_Industry: type 11',\n",
              " 'ORGANIZATION_TYPE_Industry: type 12',\n",
              " 'ORGANIZATION_TYPE_Industry: type 13',\n",
              " 'ORGANIZATION_TYPE_Industry: type 2',\n",
              " 'ORGANIZATION_TYPE_Industry: type 3',\n",
              " 'ORGANIZATION_TYPE_Industry: type 4',\n",
              " 'ORGANIZATION_TYPE_Industry: type 5',\n",
              " 'ORGANIZATION_TYPE_Industry: type 6',\n",
              " 'ORGANIZATION_TYPE_Industry: type 7',\n",
              " 'ORGANIZATION_TYPE_Industry: type 8',\n",
              " 'ORGANIZATION_TYPE_Industry: type 9',\n",
              " 'ORGANIZATION_TYPE_Insurance',\n",
              " 'ORGANIZATION_TYPE_Kindergarten',\n",
              " 'ORGANIZATION_TYPE_Legal Services',\n",
              " 'ORGANIZATION_TYPE_Medicine',\n",
              " 'ORGANIZATION_TYPE_Military',\n",
              " 'ORGANIZATION_TYPE_Mobile',\n",
              " 'ORGANIZATION_TYPE_Other',\n",
              " 'ORGANIZATION_TYPE_Police',\n",
              " 'ORGANIZATION_TYPE_Postal',\n",
              " 'ORGANIZATION_TYPE_Realtor',\n",
              " 'ORGANIZATION_TYPE_Religion',\n",
              " 'ORGANIZATION_TYPE_Restaurant',\n",
              " 'ORGANIZATION_TYPE_School',\n",
              " 'ORGANIZATION_TYPE_Security',\n",
              " 'ORGANIZATION_TYPE_Security Ministries',\n",
              " 'ORGANIZATION_TYPE_Self-employed',\n",
              " 'ORGANIZATION_TYPE_Services',\n",
              " 'ORGANIZATION_TYPE_Telecom',\n",
              " 'ORGANIZATION_TYPE_Trade: type 1',\n",
              " 'ORGANIZATION_TYPE_Trade: type 2',\n",
              " 'ORGANIZATION_TYPE_Trade: type 3',\n",
              " 'ORGANIZATION_TYPE_Trade: type 4',\n",
              " 'ORGANIZATION_TYPE_Trade: type 5',\n",
              " 'ORGANIZATION_TYPE_Trade: type 6',\n",
              " 'ORGANIZATION_TYPE_Trade: type 7',\n",
              " 'ORGANIZATION_TYPE_Transport: type 1',\n",
              " 'ORGANIZATION_TYPE_Transport: type 2',\n",
              " 'ORGANIZATION_TYPE_Transport: type 3',\n",
              " 'ORGANIZATION_TYPE_Transport: type 4',\n",
              " 'ORGANIZATION_TYPE_University',\n",
              " 'ORGANIZATION_TYPE_XNA',\n",
              " 'FONDKAPREMONT_MODE_not specified',\n",
              " 'FONDKAPREMONT_MODE_org spec account',\n",
              " 'FONDKAPREMONT_MODE_reg oper account',\n",
              " 'FONDKAPREMONT_MODE_reg oper spec account',\n",
              " 'HOUSETYPE_MODE_block of flats',\n",
              " 'HOUSETYPE_MODE_specific housing',\n",
              " 'HOUSETYPE_MODE_terraced house',\n",
              " 'WALLSMATERIAL_MODE_Block',\n",
              " 'WALLSMATERIAL_MODE_Mixed',\n",
              " 'WALLSMATERIAL_MODE_Monolithic',\n",
              " 'WALLSMATERIAL_MODE_Others',\n",
              " 'WALLSMATERIAL_MODE_Panel',\n",
              " 'WALLSMATERIAL_MODE_Stone, brick',\n",
              " 'WALLSMATERIAL_MODE_Wooden',\n",
              " 'EMERGENCYSTATE_MODE_No',\n",
              " 'EMERGENCYSTATE_MODE_Yes',\n",
              " 'DAYS_EMPLOYED_PERC',\n",
              " 'INCOME_CREDIT_PERC',\n",
              " 'INCOME_PER_PERSON',\n",
              " 'ANNUITY_INCOME_PERC',\n",
              " 'PAYMENT_RATE',\n",
              " 'BURO_DAYS_CREDIT_MIN',\n",
              " 'BURO_DAYS_CREDIT_MAX',\n",
              " 'BURO_DAYS_CREDIT_MEAN',\n",
              " 'BURO_DAYS_CREDIT_VAR',\n",
              " 'BURO_DAYS_CREDIT_ENDDATE_MIN',\n",
              " 'BURO_DAYS_CREDIT_ENDDATE_MAX',\n",
              " 'BURO_DAYS_CREDIT_ENDDATE_MEAN',\n",
              " 'BURO_DAYS_CREDIT_UPDATE_MEAN',\n",
              " 'BURO_CREDIT_DAY_OVERDUE_MAX',\n",
              " 'BURO_CREDIT_DAY_OVERDUE_MEAN',\n",
              " 'BURO_AMT_CREDIT_MAX_OVERDUE_MEAN',\n",
              " 'BURO_AMT_CREDIT_SUM_MAX',\n",
              " 'BURO_AMT_CREDIT_SUM_MEAN',\n",
              " 'BURO_AMT_CREDIT_SUM_SUM',\n",
              " 'BURO_AMT_CREDIT_SUM_DEBT_MAX',\n",
              " 'BURO_AMT_CREDIT_SUM_DEBT_MEAN',\n",
              " 'BURO_AMT_CREDIT_SUM_DEBT_SUM',\n",
              " 'BURO_AMT_CREDIT_SUM_OVERDUE_MEAN',\n",
              " 'BURO_AMT_CREDIT_SUM_LIMIT_MEAN',\n",
              " 'BURO_AMT_CREDIT_SUM_LIMIT_SUM',\n",
              " 'BURO_AMT_ANNUITY_MAX',\n",
              " 'BURO_AMT_ANNUITY_MEAN',\n",
              " 'BURO_CNT_CREDIT_PROLONG_SUM',\n",
              " 'BURO_MONTHS_BALANCE_MIN_MIN',\n",
              " 'BURO_MONTHS_BALANCE_MAX_MAX',\n",
              " 'BURO_MONTHS_BALANCE_SIZE_MEAN',\n",
              " 'BURO_MONTHS_BALANCE_SIZE_SUM',\n",
              " 'BURO_CREDIT_ACTIVE_Active_MEAN',\n",
              " 'BURO_CREDIT_ACTIVE_Bad debt_MEAN',\n",
              " 'BURO_CREDIT_ACTIVE_Closed_MEAN',\n",
              " 'BURO_CREDIT_ACTIVE_Sold_MEAN',\n",
              " 'BURO_CREDIT_CURRENCY_currency 1_MEAN',\n",
              " 'BURO_CREDIT_CURRENCY_currency 2_MEAN',\n",
              " 'BURO_CREDIT_CURRENCY_currency 3_MEAN',\n",
              " 'BURO_CREDIT_CURRENCY_currency 4_MEAN',\n",
              " 'BURO_CREDIT_TYPE_Another type of loan_MEAN',\n",
              " 'BURO_CREDIT_TYPE_Car loan_MEAN',\n",
              " 'BURO_CREDIT_TYPE_Cash loan (non-earmarked)_MEAN',\n",
              " 'BURO_CREDIT_TYPE_Consumer credit_MEAN',\n",
              " 'BURO_CREDIT_TYPE_Credit card_MEAN',\n",
              " 'BURO_CREDIT_TYPE_Interbank credit_MEAN',\n",
              " 'BURO_CREDIT_TYPE_Loan for business development_MEAN',\n",
              " 'BURO_CREDIT_TYPE_Loan for purchase of shares (margin lending)_MEAN',\n",
              " 'BURO_CREDIT_TYPE_Loan for the purchase of equipment_MEAN',\n",
              " 'BURO_CREDIT_TYPE_Loan for working capital replenishment_MEAN',\n",
              " 'BURO_CREDIT_TYPE_Microloan_MEAN',\n",
              " 'BURO_CREDIT_TYPE_Mobile operator loan_MEAN',\n",
              " 'BURO_CREDIT_TYPE_Mortgage_MEAN',\n",
              " 'BURO_CREDIT_TYPE_Real estate loan_MEAN',\n",
              " 'BURO_CREDIT_TYPE_Unknown type of loan_MEAN',\n",
              " 'BURO_STATUS_0_MEAN_MEAN',\n",
              " 'BURO_STATUS_1_MEAN_MEAN',\n",
              " 'BURO_STATUS_2_MEAN_MEAN',\n",
              " 'BURO_STATUS_3_MEAN_MEAN',\n",
              " 'BURO_STATUS_4_MEAN_MEAN',\n",
              " 'BURO_STATUS_5_MEAN_MEAN',\n",
              " 'BURO_STATUS_C_MEAN_MEAN',\n",
              " 'BURO_STATUS_X_MEAN_MEAN',\n",
              " 'ACTIVE_DAYS_CREDIT_MIN',\n",
              " 'ACTIVE_DAYS_CREDIT_MAX',\n",
              " 'ACTIVE_DAYS_CREDIT_MEAN',\n",
              " 'ACTIVE_DAYS_CREDIT_VAR',\n",
              " 'ACTIVE_DAYS_CREDIT_ENDDATE_MIN',\n",
              " 'ACTIVE_DAYS_CREDIT_ENDDATE_MAX',\n",
              " 'ACTIVE_DAYS_CREDIT_ENDDATE_MEAN',\n",
              " 'ACTIVE_DAYS_CREDIT_UPDATE_MEAN',\n",
              " 'ACTIVE_CREDIT_DAY_OVERDUE_MAX',\n",
              " 'ACTIVE_CREDIT_DAY_OVERDUE_MEAN',\n",
              " 'ACTIVE_AMT_CREDIT_MAX_OVERDUE_MEAN',\n",
              " 'ACTIVE_AMT_CREDIT_SUM_MAX',\n",
              " 'ACTIVE_AMT_CREDIT_SUM_MEAN',\n",
              " 'ACTIVE_AMT_CREDIT_SUM_SUM',\n",
              " 'ACTIVE_AMT_CREDIT_SUM_DEBT_MAX',\n",
              " 'ACTIVE_AMT_CREDIT_SUM_DEBT_MEAN',\n",
              " 'ACTIVE_AMT_CREDIT_SUM_DEBT_SUM',\n",
              " 'ACTIVE_AMT_CREDIT_SUM_OVERDUE_MEAN',\n",
              " 'ACTIVE_AMT_CREDIT_SUM_LIMIT_MEAN',\n",
              " 'ACTIVE_AMT_CREDIT_SUM_LIMIT_SUM',\n",
              " 'ACTIVE_AMT_ANNUITY_MAX',\n",
              " 'ACTIVE_AMT_ANNUITY_MEAN',\n",
              " 'ACTIVE_CNT_CREDIT_PROLONG_SUM',\n",
              " 'ACTIVE_MONTHS_BALANCE_MIN_MIN',\n",
              " 'ACTIVE_MONTHS_BALANCE_MAX_MAX',\n",
              " 'ACTIVE_MONTHS_BALANCE_SIZE_MEAN',\n",
              " 'ACTIVE_MONTHS_BALANCE_SIZE_SUM',\n",
              " 'CLOSED_DAYS_CREDIT_MIN',\n",
              " 'CLOSED_DAYS_CREDIT_MAX',\n",
              " 'CLOSED_DAYS_CREDIT_MEAN',\n",
              " 'CLOSED_DAYS_CREDIT_VAR',\n",
              " 'CLOSED_DAYS_CREDIT_ENDDATE_MIN',\n",
              " 'CLOSED_DAYS_CREDIT_ENDDATE_MAX',\n",
              " 'CLOSED_DAYS_CREDIT_ENDDATE_MEAN',\n",
              " 'CLOSED_DAYS_CREDIT_UPDATE_MEAN',\n",
              " 'CLOSED_CREDIT_DAY_OVERDUE_MAX',\n",
              " 'CLOSED_CREDIT_DAY_OVERDUE_MEAN',\n",
              " 'CLOSED_AMT_CREDIT_MAX_OVERDUE_MEAN',\n",
              " 'CLOSED_AMT_CREDIT_SUM_MAX',\n",
              " 'CLOSED_AMT_CREDIT_SUM_MEAN',\n",
              " 'CLOSED_AMT_CREDIT_SUM_SUM',\n",
              " 'CLOSED_AMT_CREDIT_SUM_DEBT_MAX',\n",
              " 'CLOSED_AMT_CREDIT_SUM_DEBT_MEAN',\n",
              " 'CLOSED_AMT_CREDIT_SUM_DEBT_SUM',\n",
              " 'CLOSED_AMT_CREDIT_SUM_OVERDUE_MEAN',\n",
              " 'CLOSED_AMT_CREDIT_SUM_LIMIT_MEAN',\n",
              " 'CLOSED_AMT_CREDIT_SUM_LIMIT_SUM',\n",
              " 'CLOSED_AMT_ANNUITY_MAX',\n",
              " 'CLOSED_AMT_ANNUITY_MEAN',\n",
              " 'CLOSED_CNT_CREDIT_PROLONG_SUM',\n",
              " 'CLOSED_MONTHS_BALANCE_MIN_MIN',\n",
              " 'CLOSED_MONTHS_BALANCE_MAX_MAX',\n",
              " 'CLOSED_MONTHS_BALANCE_SIZE_MEAN',\n",
              " 'CLOSED_MONTHS_BALANCE_SIZE_SUM',\n",
              " 'PREV_AMT_ANNUITY_MIN',\n",
              " 'PREV_AMT_ANNUITY_MAX',\n",
              " 'PREV_AMT_ANNUITY_MEAN',\n",
              " 'PREV_AMT_APPLICATION_MIN',\n",
              " 'PREV_AMT_APPLICATION_MAX',\n",
              " 'PREV_AMT_APPLICATION_MEAN',\n",
              " 'PREV_AMT_CREDIT_MIN',\n",
              " 'PREV_AMT_CREDIT_MAX',\n",
              " 'PREV_AMT_CREDIT_MEAN',\n",
              " 'PREV_APP_CREDIT_PERC_MIN',\n",
              " 'PREV_APP_CREDIT_PERC_MAX',\n",
              " 'PREV_APP_CREDIT_PERC_MEAN',\n",
              " 'PREV_APP_CREDIT_PERC_VAR',\n",
              " 'PREV_AMT_DOWN_PAYMENT_MIN',\n",
              " 'PREV_AMT_DOWN_PAYMENT_MAX',\n",
              " 'PREV_AMT_DOWN_PAYMENT_MEAN',\n",
              " 'PREV_AMT_GOODS_PRICE_MIN',\n",
              " 'PREV_AMT_GOODS_PRICE_MAX',\n",
              " 'PREV_AMT_GOODS_PRICE_MEAN',\n",
              " 'PREV_HOUR_APPR_PROCESS_START_MIN',\n",
              " 'PREV_HOUR_APPR_PROCESS_START_MAX',\n",
              " 'PREV_HOUR_APPR_PROCESS_START_MEAN',\n",
              " 'PREV_RATE_DOWN_PAYMENT_MIN',\n",
              " 'PREV_RATE_DOWN_PAYMENT_MAX',\n",
              " 'PREV_RATE_DOWN_PAYMENT_MEAN',\n",
              " 'PREV_DAYS_DECISION_MIN',\n",
              " 'PREV_DAYS_DECISION_MAX',\n",
              " 'PREV_DAYS_DECISION_MEAN',\n",
              " 'PREV_CNT_PAYMENT_MEAN',\n",
              " 'PREV_CNT_PAYMENT_SUM',\n",
              " 'PREV_NAME_CONTRACT_TYPE_Cash loans_MEAN',\n",
              " 'PREV_NAME_CONTRACT_TYPE_Consumer loans_MEAN',\n",
              " 'PREV_NAME_CONTRACT_TYPE_Revolving loans_MEAN',\n",
              " 'PREV_NAME_CONTRACT_TYPE_XNA_MEAN',\n",
              " 'PREV_WEEKDAY_APPR_PROCESS_START_FRIDAY_MEAN',\n",
              " 'PREV_WEEKDAY_APPR_PROCESS_START_MONDAY_MEAN',\n",
              " 'PREV_WEEKDAY_APPR_PROCESS_START_SATURDAY_MEAN',\n",
              " 'PREV_WEEKDAY_APPR_PROCESS_START_SUNDAY_MEAN',\n",
              " 'PREV_WEEKDAY_APPR_PROCESS_START_THURSDAY_MEAN',\n",
              " 'PREV_WEEKDAY_APPR_PROCESS_START_TUESDAY_MEAN',\n",
              " 'PREV_WEEKDAY_APPR_PROCESS_START_WEDNESDAY_MEAN',\n",
              " 'PREV_FLAG_LAST_APPL_PER_CONTRACT_N_MEAN',\n",
              " 'PREV_FLAG_LAST_APPL_PER_CONTRACT_Y_MEAN',\n",
              " 'PREV_NAME_CASH_LOAN_PURPOSE_Building a house or an annex_MEAN',\n",
              " 'PREV_NAME_CASH_LOAN_PURPOSE_Business development_MEAN',\n",
              " 'PREV_NAME_CASH_LOAN_PURPOSE_Buying a garage_MEAN',\n",
              " 'PREV_NAME_CASH_LOAN_PURPOSE_Buying a holiday home / land_MEAN',\n",
              " 'PREV_NAME_CASH_LOAN_PURPOSE_Buying a home_MEAN',\n",
              " 'PREV_NAME_CASH_LOAN_PURPOSE_Buying a new car_MEAN',\n",
              " 'PREV_NAME_CASH_LOAN_PURPOSE_Buying a used car_MEAN',\n",
              " 'PREV_NAME_CASH_LOAN_PURPOSE_Car repairs_MEAN',\n",
              " 'PREV_NAME_CASH_LOAN_PURPOSE_Education_MEAN',\n",
              " 'PREV_NAME_CASH_LOAN_PURPOSE_Everyday expenses_MEAN',\n",
              " 'PREV_NAME_CASH_LOAN_PURPOSE_Furniture_MEAN',\n",
              " 'PREV_NAME_CASH_LOAN_PURPOSE_Gasification / water supply_MEAN',\n",
              " 'PREV_NAME_CASH_LOAN_PURPOSE_Hobby_MEAN',\n",
              " 'PREV_NAME_CASH_LOAN_PURPOSE_Journey_MEAN',\n",
              " 'PREV_NAME_CASH_LOAN_PURPOSE_Medicine_MEAN',\n",
              " 'PREV_NAME_CASH_LOAN_PURPOSE_Money for a third person_MEAN',\n",
              " 'PREV_NAME_CASH_LOAN_PURPOSE_Other_MEAN',\n",
              " 'PREV_NAME_CASH_LOAN_PURPOSE_Payments on other loans_MEAN',\n",
              " 'PREV_NAME_CASH_LOAN_PURPOSE_Purchase of electronic equipment_MEAN',\n",
              " 'PREV_NAME_CASH_LOAN_PURPOSE_Refusal to name the goal_MEAN',\n",
              " 'PREV_NAME_CASH_LOAN_PURPOSE_Repairs_MEAN',\n",
              " 'PREV_NAME_CASH_LOAN_PURPOSE_Urgent needs_MEAN',\n",
              " 'PREV_NAME_CASH_LOAN_PURPOSE_Wedding / gift / holiday_MEAN',\n",
              " 'PREV_NAME_CASH_LOAN_PURPOSE_XAP_MEAN',\n",
              " 'PREV_NAME_CASH_LOAN_PURPOSE_XNA_MEAN',\n",
              " 'PREV_NAME_CONTRACT_STATUS_Approved_MEAN',\n",
              " 'PREV_NAME_CONTRACT_STATUS_Canceled_MEAN',\n",
              " 'PREV_NAME_CONTRACT_STATUS_Refused_MEAN',\n",
              " 'PREV_NAME_CONTRACT_STATUS_Unused offer_MEAN',\n",
              " 'PREV_NAME_PAYMENT_TYPE_Cash through the bank_MEAN',\n",
              " 'PREV_NAME_PAYMENT_TYPE_Cashless from the account of the employer_MEAN',\n",
              " 'PREV_NAME_PAYMENT_TYPE_Non-cash from your account_MEAN',\n",
              " 'PREV_NAME_PAYMENT_TYPE_XNA_MEAN',\n",
              " 'PREV_CODE_REJECT_REASON_CLIENT_MEAN',\n",
              " 'PREV_CODE_REJECT_REASON_HC_MEAN',\n",
              " 'PREV_CODE_REJECT_REASON_LIMIT_MEAN',\n",
              " 'PREV_CODE_REJECT_REASON_SCO_MEAN',\n",
              " 'PREV_CODE_REJECT_REASON_SCOFR_MEAN',\n",
              " 'PREV_CODE_REJECT_REASON_SYSTEM_MEAN',\n",
              " 'PREV_CODE_REJECT_REASON_VERIF_MEAN',\n",
              " 'PREV_CODE_REJECT_REASON_XAP_MEAN',\n",
              " 'PREV_CODE_REJECT_REASON_XNA_MEAN',\n",
              " 'PREV_NAME_TYPE_SUITE_Children_MEAN',\n",
              " 'PREV_NAME_TYPE_SUITE_Family_MEAN',\n",
              " 'PREV_NAME_TYPE_SUITE_Group of people_MEAN',\n",
              " 'PREV_NAME_TYPE_SUITE_Other_A_MEAN',\n",
              " 'PREV_NAME_TYPE_SUITE_Other_B_MEAN',\n",
              " 'PREV_NAME_TYPE_SUITE_Spouse, partner_MEAN',\n",
              " 'PREV_NAME_TYPE_SUITE_Unaccompanied_MEAN',\n",
              " 'PREV_NAME_TYPE_SUITE_nan_MEAN',\n",
              " 'PREV_NAME_CLIENT_TYPE_New_MEAN',\n",
              " 'PREV_NAME_CLIENT_TYPE_Refreshed_MEAN',\n",
              " 'PREV_NAME_CLIENT_TYPE_Repeater_MEAN',\n",
              " 'PREV_NAME_CLIENT_TYPE_XNA_MEAN',\n",
              " 'PREV_NAME_GOODS_CATEGORY_Additional Service_MEAN',\n",
              " 'PREV_NAME_GOODS_CATEGORY_Animals_MEAN',\n",
              " 'PREV_NAME_GOODS_CATEGORY_Audio/Video_MEAN',\n",
              " 'PREV_NAME_GOODS_CATEGORY_Auto Accessories_MEAN',\n",
              " 'PREV_NAME_GOODS_CATEGORY_Clothing and Accessories_MEAN',\n",
              " 'PREV_NAME_GOODS_CATEGORY_Computers_MEAN',\n",
              " 'PREV_NAME_GOODS_CATEGORY_Construction Materials_MEAN',\n",
              " 'PREV_NAME_GOODS_CATEGORY_Consumer Electronics_MEAN',\n",
              " 'PREV_NAME_GOODS_CATEGORY_Direct Sales_MEAN',\n",
              " 'PREV_NAME_GOODS_CATEGORY_Education_MEAN',\n",
              " 'PREV_NAME_GOODS_CATEGORY_Fitness_MEAN',\n",
              " 'PREV_NAME_GOODS_CATEGORY_Furniture_MEAN',\n",
              " 'PREV_NAME_GOODS_CATEGORY_Gardening_MEAN',\n",
              " 'PREV_NAME_GOODS_CATEGORY_Homewares_MEAN',\n",
              " 'PREV_NAME_GOODS_CATEGORY_House Construction_MEAN',\n",
              " 'PREV_NAME_GOODS_CATEGORY_Insurance_MEAN',\n",
              " 'PREV_NAME_GOODS_CATEGORY_Jewelry_MEAN',\n",
              " 'PREV_NAME_GOODS_CATEGORY_Medical Supplies_MEAN',\n",
              " 'PREV_NAME_GOODS_CATEGORY_Medicine_MEAN',\n",
              " 'PREV_NAME_GOODS_CATEGORY_Mobile_MEAN',\n",
              " 'PREV_NAME_GOODS_CATEGORY_Office Appliances_MEAN',\n",
              " 'PREV_NAME_GOODS_CATEGORY_Other_MEAN',\n",
              " 'PREV_NAME_GOODS_CATEGORY_Photo / Cinema Equipment_MEAN',\n",
              " 'PREV_NAME_GOODS_CATEGORY_Sport and Leisure_MEAN',\n",
              " 'PREV_NAME_GOODS_CATEGORY_Tourism_MEAN',\n",
              " 'PREV_NAME_GOODS_CATEGORY_Vehicles_MEAN',\n",
              " 'PREV_NAME_GOODS_CATEGORY_Weapon_MEAN',\n",
              " 'PREV_NAME_GOODS_CATEGORY_XNA_MEAN',\n",
              " 'PREV_NAME_PORTFOLIO_Cards_MEAN',\n",
              " 'PREV_NAME_PORTFOLIO_Cars_MEAN',\n",
              " 'PREV_NAME_PORTFOLIO_Cash_MEAN',\n",
              " 'PREV_NAME_PORTFOLIO_POS_MEAN',\n",
              " 'PREV_NAME_PORTFOLIO_XNA_MEAN',\n",
              " 'PREV_NAME_PRODUCT_TYPE_XNA_MEAN',\n",
              " 'PREV_NAME_PRODUCT_TYPE_walk-in_MEAN',\n",
              " 'PREV_NAME_PRODUCT_TYPE_x-sell_MEAN',\n",
              " 'PREV_CHANNEL_TYPE_AP+ (Cash loan)_MEAN',\n",
              " 'PREV_CHANNEL_TYPE_Car dealer_MEAN',\n",
              " 'PREV_CHANNEL_TYPE_Channel of corporate sales_MEAN',\n",
              " 'PREV_CHANNEL_TYPE_Contact center_MEAN',\n",
              " 'PREV_CHANNEL_TYPE_Country-wide_MEAN',\n",
              " 'PREV_CHANNEL_TYPE_Credit and cash offices_MEAN',\n",
              " 'PREV_CHANNEL_TYPE_Regional / Local_MEAN',\n",
              " 'PREV_CHANNEL_TYPE_Stone_MEAN',\n",
              " 'PREV_NAME_SELLER_INDUSTRY_Auto technology_MEAN',\n",
              " 'PREV_NAME_SELLER_INDUSTRY_Clothing_MEAN',\n",
              " 'PREV_NAME_SELLER_INDUSTRY_Connectivity_MEAN',\n",
              " 'PREV_NAME_SELLER_INDUSTRY_Construction_MEAN',\n",
              " 'PREV_NAME_SELLER_INDUSTRY_Consumer electronics_MEAN',\n",
              " 'PREV_NAME_SELLER_INDUSTRY_Furniture_MEAN',\n",
              " 'PREV_NAME_SELLER_INDUSTRY_Industry_MEAN',\n",
              " 'PREV_NAME_SELLER_INDUSTRY_Jewelry_MEAN',\n",
              " 'PREV_NAME_SELLER_INDUSTRY_MLM partners_MEAN',\n",
              " 'PREV_NAME_SELLER_INDUSTRY_Tourism_MEAN',\n",
              " 'PREV_NAME_SELLER_INDUSTRY_XNA_MEAN',\n",
              " 'PREV_NAME_YIELD_GROUP_XNA_MEAN',\n",
              " 'PREV_NAME_YIELD_GROUP_high_MEAN',\n",
              " 'PREV_NAME_YIELD_GROUP_low_action_MEAN',\n",
              " 'PREV_NAME_YIELD_GROUP_low_normal_MEAN',\n",
              " 'PREV_NAME_YIELD_GROUP_middle_MEAN',\n",
              " 'PREV_PRODUCT_COMBINATION_Card Street_MEAN',\n",
              " 'PREV_PRODUCT_COMBINATION_Card X-Sell_MEAN',\n",
              " 'PREV_PRODUCT_COMBINATION_Cash_MEAN',\n",
              " 'PREV_PRODUCT_COMBINATION_Cash Street: high_MEAN',\n",
              " 'PREV_PRODUCT_COMBINATION_Cash Street: low_MEAN',\n",
              " 'PREV_PRODUCT_COMBINATION_Cash Street: middle_MEAN',\n",
              " 'PREV_PRODUCT_COMBINATION_Cash X-Sell: high_MEAN',\n",
              " 'PREV_PRODUCT_COMBINATION_Cash X-Sell: low_MEAN',\n",
              " 'PREV_PRODUCT_COMBINATION_Cash X-Sell: middle_MEAN',\n",
              " 'PREV_PRODUCT_COMBINATION_POS household with interest_MEAN',\n",
              " 'PREV_PRODUCT_COMBINATION_POS household without interest_MEAN',\n",
              " 'PREV_PRODUCT_COMBINATION_POS industry with interest_MEAN',\n",
              " 'PREV_PRODUCT_COMBINATION_POS industry without interest_MEAN',\n",
              " 'PREV_PRODUCT_COMBINATION_POS mobile with interest_MEAN',\n",
              " 'PREV_PRODUCT_COMBINATION_POS mobile without interest_MEAN',\n",
              " 'PREV_PRODUCT_COMBINATION_POS other with interest_MEAN',\n",
              " 'PREV_PRODUCT_COMBINATION_POS others without interest_MEAN',\n",
              " 'PREV_PRODUCT_COMBINATION_nan_MEAN',\n",
              " 'APPROVED_AMT_ANNUITY_MIN',\n",
              " 'APPROVED_AMT_ANNUITY_MAX',\n",
              " 'APPROVED_AMT_ANNUITY_MEAN',\n",
              " 'APPROVED_AMT_APPLICATION_MIN',\n",
              " 'APPROVED_AMT_APPLICATION_MAX',\n",
              " 'APPROVED_AMT_APPLICATION_MEAN',\n",
              " 'APPROVED_AMT_CREDIT_MIN',\n",
              " 'APPROVED_AMT_CREDIT_MAX',\n",
              " 'APPROVED_AMT_CREDIT_MEAN',\n",
              " 'APPROVED_APP_CREDIT_PERC_MIN',\n",
              " 'APPROVED_APP_CREDIT_PERC_MAX',\n",
              " 'APPROVED_APP_CREDIT_PERC_MEAN',\n",
              " 'APPROVED_APP_CREDIT_PERC_VAR',\n",
              " 'APPROVED_AMT_DOWN_PAYMENT_MIN',\n",
              " 'APPROVED_AMT_DOWN_PAYMENT_MAX',\n",
              " 'APPROVED_AMT_DOWN_PAYMENT_MEAN',\n",
              " 'APPROVED_AMT_GOODS_PRICE_MIN',\n",
              " 'APPROVED_AMT_GOODS_PRICE_MAX',\n",
              " 'APPROVED_AMT_GOODS_PRICE_MEAN',\n",
              " 'APPROVED_HOUR_APPR_PROCESS_START_MIN',\n",
              " 'APPROVED_HOUR_APPR_PROCESS_START_MAX',\n",
              " 'APPROVED_HOUR_APPR_PROCESS_START_MEAN',\n",
              " 'APPROVED_RATE_DOWN_PAYMENT_MIN',\n",
              " 'APPROVED_RATE_DOWN_PAYMENT_MAX',\n",
              " 'APPROVED_RATE_DOWN_PAYMENT_MEAN',\n",
              " 'APPROVED_DAYS_DECISION_MIN',\n",
              " 'APPROVED_DAYS_DECISION_MAX',\n",
              " 'APPROVED_DAYS_DECISION_MEAN',\n",
              " 'APPROVED_CNT_PAYMENT_MEAN',\n",
              " 'APPROVED_CNT_PAYMENT_SUM',\n",
              " 'REFUSED_AMT_ANNUITY_MIN',\n",
              " 'REFUSED_AMT_ANNUITY_MAX',\n",
              " 'REFUSED_AMT_ANNUITY_MEAN',\n",
              " 'REFUSED_AMT_APPLICATION_MIN',\n",
              " 'REFUSED_AMT_APPLICATION_MAX',\n",
              " 'REFUSED_AMT_APPLICATION_MEAN',\n",
              " 'REFUSED_AMT_CREDIT_MIN',\n",
              " 'REFUSED_AMT_CREDIT_MAX',\n",
              " 'REFUSED_AMT_CREDIT_MEAN',\n",
              " 'REFUSED_APP_CREDIT_PERC_MIN',\n",
              " 'REFUSED_APP_CREDIT_PERC_MAX',\n",
              " 'REFUSED_APP_CREDIT_PERC_MEAN',\n",
              " 'REFUSED_APP_CREDIT_PERC_VAR',\n",
              " 'REFUSED_AMT_DOWN_PAYMENT_MIN',\n",
              " 'REFUSED_AMT_DOWN_PAYMENT_MAX',\n",
              " 'REFUSED_AMT_DOWN_PAYMENT_MEAN',\n",
              " 'REFUSED_AMT_GOODS_PRICE_MIN',\n",
              " 'REFUSED_AMT_GOODS_PRICE_MAX',\n",
              " 'REFUSED_AMT_GOODS_PRICE_MEAN',\n",
              " 'REFUSED_HOUR_APPR_PROCESS_START_MIN',\n",
              " 'REFUSED_HOUR_APPR_PROCESS_START_MAX',\n",
              " 'REFUSED_HOUR_APPR_PROCESS_START_MEAN',\n",
              " 'REFUSED_RATE_DOWN_PAYMENT_MIN',\n",
              " 'REFUSED_RATE_DOWN_PAYMENT_MAX',\n",
              " 'REFUSED_RATE_DOWN_PAYMENT_MEAN',\n",
              " 'REFUSED_DAYS_DECISION_MIN',\n",
              " 'REFUSED_DAYS_DECISION_MAX',\n",
              " 'REFUSED_DAYS_DECISION_MEAN',\n",
              " 'REFUSED_CNT_PAYMENT_MEAN',\n",
              " 'REFUSED_CNT_PAYMENT_SUM',\n",
              " 'POS_MONTHS_BALANCE_MAX',\n",
              " 'POS_MONTHS_BALANCE_MEAN',\n",
              " 'POS_MONTHS_BALANCE_SIZE',\n",
              " 'POS_SK_DPD_MAX',\n",
              " 'POS_SK_DPD_MEAN',\n",
              " 'POS_SK_DPD_DEF_MAX',\n",
              " 'POS_SK_DPD_DEF_MEAN',\n",
              " 'POS_NAME_CONTRACT_STATUS_Active_MEAN',\n",
              " 'POS_NAME_CONTRACT_STATUS_Amortized debt_MEAN',\n",
              " 'POS_NAME_CONTRACT_STATUS_Approved_MEAN',\n",
              " 'POS_NAME_CONTRACT_STATUS_Canceled_MEAN',\n",
              " 'POS_NAME_CONTRACT_STATUS_Completed_MEAN',\n",
              " 'POS_NAME_CONTRACT_STATUS_Demand_MEAN',\n",
              " 'POS_NAME_CONTRACT_STATUS_Returned to the store_MEAN',\n",
              " 'POS_NAME_CONTRACT_STATUS_Signed_MEAN',\n",
              " 'POS_NAME_CONTRACT_STATUS_XNA_MEAN',\n",
              " 'POS_COUNT',\n",
              " 'INSTAL_NUM_INSTALMENT_VERSION_NUNIQUE',\n",
              " 'INSTAL_DPD_MAX',\n",
              " 'INSTAL_DPD_MEAN',\n",
              " 'INSTAL_DPD_SUM',\n",
              " 'INSTAL_DBD_MAX',\n",
              " 'INSTAL_DBD_MEAN',\n",
              " 'INSTAL_DBD_SUM',\n",
              " 'INSTAL_PAYMENT_PERC_MAX',\n",
              " 'INSTAL_PAYMENT_PERC_MEAN',\n",
              " 'INSTAL_PAYMENT_PERC_SUM',\n",
              " 'INSTAL_PAYMENT_PERC_VAR',\n",
              " 'INSTAL_PAYMENT_DIFF_MAX',\n",
              " 'INSTAL_PAYMENT_DIFF_MEAN',\n",
              " 'INSTAL_PAYMENT_DIFF_SUM',\n",
              " 'INSTAL_PAYMENT_DIFF_VAR',\n",
              " 'INSTAL_AMT_INSTALMENT_MAX',\n",
              " 'INSTAL_AMT_INSTALMENT_MEAN',\n",
              " 'INSTAL_AMT_INSTALMENT_SUM',\n",
              " 'INSTAL_AMT_PAYMENT_MIN',\n",
              " 'INSTAL_AMT_PAYMENT_MAX',\n",
              " 'INSTAL_AMT_PAYMENT_MEAN',\n",
              " 'INSTAL_AMT_PAYMENT_SUM',\n",
              " 'INSTAL_DAYS_ENTRY_PAYMENT_MAX',\n",
              " 'INSTAL_DAYS_ENTRY_PAYMENT_MEAN',\n",
              " 'INSTAL_DAYS_ENTRY_PAYMENT_SUM',\n",
              " 'INSTAL_COUNT',\n",
              " 'CC_MONTHS_BALANCE_MIN',\n",
              " 'CC_MONTHS_BALANCE_MAX',\n",
              " 'CC_MONTHS_BALANCE_MEAN',\n",
              " 'CC_MONTHS_BALANCE_SUM',\n",
              " 'CC_MONTHS_BALANCE_VAR',\n",
              " 'CC_AMT_BALANCE_MIN',\n",
              " 'CC_AMT_BALANCE_MAX',\n",
              " 'CC_AMT_BALANCE_MEAN',\n",
              " 'CC_AMT_BALANCE_SUM',\n",
              " 'CC_AMT_BALANCE_VAR',\n",
              " 'CC_AMT_CREDIT_LIMIT_ACTUAL_MIN',\n",
              " 'CC_AMT_CREDIT_LIMIT_ACTUAL_MAX',\n",
              " 'CC_AMT_CREDIT_LIMIT_ACTUAL_MEAN',\n",
              " 'CC_AMT_CREDIT_LIMIT_ACTUAL_SUM',\n",
              " 'CC_AMT_CREDIT_LIMIT_ACTUAL_VAR',\n",
              " 'CC_AMT_DRAWINGS_ATM_CURRENT_MIN',\n",
              " 'CC_AMT_DRAWINGS_ATM_CURRENT_MAX',\n",
              " 'CC_AMT_DRAWINGS_ATM_CURRENT_MEAN',\n",
              " 'CC_AMT_DRAWINGS_ATM_CURRENT_SUM',\n",
              " 'CC_AMT_DRAWINGS_ATM_CURRENT_VAR',\n",
              " 'CC_AMT_DRAWINGS_CURRENT_MIN',\n",
              " 'CC_AMT_DRAWINGS_CURRENT_MAX',\n",
              " 'CC_AMT_DRAWINGS_CURRENT_MEAN',\n",
              " 'CC_AMT_DRAWINGS_CURRENT_SUM',\n",
              " 'CC_AMT_DRAWINGS_CURRENT_VAR',\n",
              " 'CC_AMT_DRAWINGS_OTHER_CURRENT_MIN',\n",
              " 'CC_AMT_DRAWINGS_OTHER_CURRENT_MAX',\n",
              " 'CC_AMT_DRAWINGS_OTHER_CURRENT_MEAN',\n",
              " 'CC_AMT_DRAWINGS_OTHER_CURRENT_SUM',\n",
              " 'CC_AMT_DRAWINGS_OTHER_CURRENT_VAR',\n",
              " 'CC_AMT_DRAWINGS_POS_CURRENT_MIN',\n",
              " 'CC_AMT_DRAWINGS_POS_CURRENT_MAX',\n",
              " 'CC_AMT_DRAWINGS_POS_CURRENT_MEAN',\n",
              " 'CC_AMT_DRAWINGS_POS_CURRENT_SUM',\n",
              " 'CC_AMT_DRAWINGS_POS_CURRENT_VAR',\n",
              " 'CC_AMT_INST_MIN_REGULARITY_MIN',\n",
              " 'CC_AMT_INST_MIN_REGULARITY_MAX',\n",
              " 'CC_AMT_INST_MIN_REGULARITY_MEAN',\n",
              " 'CC_AMT_INST_MIN_REGULARITY_SUM',\n",
              " 'CC_AMT_INST_MIN_REGULARITY_VAR',\n",
              " 'CC_AMT_PAYMENT_CURRENT_MIN',\n",
              " 'CC_AMT_PAYMENT_CURRENT_MAX',\n",
              " 'CC_AMT_PAYMENT_CURRENT_MEAN',\n",
              " 'CC_AMT_PAYMENT_CURRENT_SUM',\n",
              " 'CC_AMT_PAYMENT_CURRENT_VAR',\n",
              " 'CC_AMT_PAYMENT_TOTAL_CURRENT_MIN',\n",
              " 'CC_AMT_PAYMENT_TOTAL_CURRENT_MAX',\n",
              " 'CC_AMT_PAYMENT_TOTAL_CURRENT_MEAN',\n",
              " 'CC_AMT_PAYMENT_TOTAL_CURRENT_SUM',\n",
              " 'CC_AMT_PAYMENT_TOTAL_CURRENT_VAR',\n",
              " 'CC_AMT_RECEIVABLE_PRINCIPAL_MIN',\n",
              " 'CC_AMT_RECEIVABLE_PRINCIPAL_MAX',\n",
              " 'CC_AMT_RECEIVABLE_PRINCIPAL_MEAN',\n",
              " 'CC_AMT_RECEIVABLE_PRINCIPAL_SUM',\n",
              " 'CC_AMT_RECEIVABLE_PRINCIPAL_VAR',\n",
              " 'CC_AMT_RECIVABLE_MIN',\n",
              " 'CC_AMT_RECIVABLE_MAX',\n",
              " 'CC_AMT_RECIVABLE_MEAN',\n",
              " 'CC_AMT_RECIVABLE_SUM',\n",
              " 'CC_AMT_RECIVABLE_VAR',\n",
              " 'CC_AMT_TOTAL_RECEIVABLE_MIN',\n",
              " 'CC_AMT_TOTAL_RECEIVABLE_MAX',\n",
              " 'CC_AMT_TOTAL_RECEIVABLE_MEAN',\n",
              " 'CC_AMT_TOTAL_RECEIVABLE_SUM',\n",
              " 'CC_AMT_TOTAL_RECEIVABLE_VAR',\n",
              " 'CC_CNT_DRAWINGS_ATM_CURRENT_MIN',\n",
              " 'CC_CNT_DRAWINGS_ATM_CURRENT_MAX',\n",
              " 'CC_CNT_DRAWINGS_ATM_CURRENT_MEAN',\n",
              " 'CC_CNT_DRAWINGS_ATM_CURRENT_SUM',\n",
              " 'CC_CNT_DRAWINGS_ATM_CURRENT_VAR',\n",
              " 'CC_CNT_DRAWINGS_CURRENT_MIN',\n",
              " 'CC_CNT_DRAWINGS_CURRENT_MAX',\n",
              " 'CC_CNT_DRAWINGS_CURRENT_MEAN',\n",
              " 'CC_CNT_DRAWINGS_CURRENT_SUM',\n",
              " 'CC_CNT_DRAWINGS_CURRENT_VAR',\n",
              " 'CC_CNT_DRAWINGS_OTHER_CURRENT_MIN',\n",
              " 'CC_CNT_DRAWINGS_OTHER_CURRENT_MAX',\n",
              " 'CC_CNT_DRAWINGS_OTHER_CURRENT_MEAN',\n",
              " 'CC_CNT_DRAWINGS_OTHER_CURRENT_SUM',\n",
              " 'CC_CNT_DRAWINGS_OTHER_CURRENT_VAR',\n",
              " 'CC_CNT_DRAWINGS_POS_CURRENT_MIN',\n",
              " 'CC_CNT_DRAWINGS_POS_CURRENT_MAX',\n",
              " 'CC_CNT_DRAWINGS_POS_CURRENT_MEAN',\n",
              " 'CC_CNT_DRAWINGS_POS_CURRENT_SUM',\n",
              " 'CC_CNT_DRAWINGS_POS_CURRENT_VAR',\n",
              " 'CC_CNT_INSTALMENT_MATURE_CUM_MIN',\n",
              " 'CC_CNT_INSTALMENT_MATURE_CUM_MAX',\n",
              " 'CC_CNT_INSTALMENT_MATURE_CUM_MEAN',\n",
              " 'CC_CNT_INSTALMENT_MATURE_CUM_SUM',\n",
              " 'CC_CNT_INSTALMENT_MATURE_CUM_VAR',\n",
              " 'CC_SK_DPD_MIN',\n",
              " 'CC_SK_DPD_MAX',\n",
              " 'CC_SK_DPD_MEAN',\n",
              " 'CC_SK_DPD_SUM',\n",
              " 'CC_SK_DPD_VAR',\n",
              " 'CC_SK_DPD_DEF_MIN',\n",
              " 'CC_SK_DPD_DEF_MAX',\n",
              " 'CC_SK_DPD_DEF_MEAN',\n",
              " 'CC_SK_DPD_DEF_SUM',\n",
              " 'CC_SK_DPD_DEF_VAR',\n",
              " 'CC_NAME_CONTRACT_STATUS_Active_MIN',\n",
              " 'CC_NAME_CONTRACT_STATUS_Active_MAX',\n",
              " 'CC_NAME_CONTRACT_STATUS_Active_MEAN',\n",
              " 'CC_NAME_CONTRACT_STATUS_Active_SUM',\n",
              " 'CC_NAME_CONTRACT_STATUS_Active_VAR',\n",
              " 'CC_NAME_CONTRACT_STATUS_Approved_MAX',\n",
              " 'CC_NAME_CONTRACT_STATUS_Approved_MEAN',\n",
              " 'CC_NAME_CONTRACT_STATUS_Approved_SUM',\n",
              " 'CC_NAME_CONTRACT_STATUS_Approved_VAR',\n",
              " 'CC_NAME_CONTRACT_STATUS_Completed_MIN',\n",
              " 'CC_NAME_CONTRACT_STATUS_Completed_MAX',\n",
              " 'CC_NAME_CONTRACT_STATUS_Completed_MEAN',\n",
              " 'CC_NAME_CONTRACT_STATUS_Completed_SUM',\n",
              " 'CC_NAME_CONTRACT_STATUS_Completed_VAR',\n",
              " 'CC_NAME_CONTRACT_STATUS_Demand_MIN',\n",
              " 'CC_NAME_CONTRACT_STATUS_Demand_MAX',\n",
              " 'CC_NAME_CONTRACT_STATUS_Demand_MEAN',\n",
              " 'CC_NAME_CONTRACT_STATUS_Demand_SUM',\n",
              " 'CC_NAME_CONTRACT_STATUS_Demand_VAR',\n",
              " 'CC_NAME_CONTRACT_STATUS_Refused_MAX',\n",
              " 'CC_NAME_CONTRACT_STATUS_Refused_MEAN',\n",
              " 'CC_NAME_CONTRACT_STATUS_Refused_SUM',\n",
              " 'CC_NAME_CONTRACT_STATUS_Refused_VAR',\n",
              " 'CC_NAME_CONTRACT_STATUS_Sent proposal_MAX',\n",
              " 'CC_NAME_CONTRACT_STATUS_Sent proposal_MEAN',\n",
              " 'CC_NAME_CONTRACT_STATUS_Sent proposal_SUM',\n",
              " 'CC_NAME_CONTRACT_STATUS_Sent proposal_VAR',\n",
              " 'CC_NAME_CONTRACT_STATUS_Signed_MIN',\n",
              " 'CC_NAME_CONTRACT_STATUS_Signed_MAX',\n",
              " 'CC_NAME_CONTRACT_STATUS_Signed_MEAN',\n",
              " 'CC_NAME_CONTRACT_STATUS_Signed_SUM',\n",
              " 'CC_NAME_CONTRACT_STATUS_Signed_VAR',\n",
              " 'CC_COUNT']"
            ]
          },
          "metadata": {},
          "execution_count": 3
        }
      ]
    },
    {
      "cell_type": "code",
      "source": [
        "df.info()"
      ],
      "metadata": {
        "colab": {
          "base_uri": "https://localhost:8080/"
        },
        "id": "BxtHTELlvL5C",
        "outputId": "51cba574-8bc4-4f77-c055-225c3b3c9631"
      },
      "execution_count": 7,
      "outputs": [
        {
          "output_type": "stream",
          "name": "stdout",
          "text": [
            "<class 'pandas.core.frame.DataFrame'>\n",
            "RangeIndex: 356251 entries, 0 to 356250\n",
            "Columns: 770 entries, SK_ID_CURR to CC_COUNT\n",
            "dtypes: bool(133), float64(584), int64(42), object(11)\n",
            "memory usage: 1.7+ GB\n"
          ]
        }
      ]
    },
    {
      "cell_type": "markdown",
      "source": [
        "#Les valeurs manquantes"
      ],
      "metadata": {
        "id": "zhBDVV49zY7E"
      }
    },
    {
      "cell_type": "code",
      "source": [
        "#le pourcentage de valeurs manquantes pour chaque colonne\n",
        "valeur_m_p = df.isnull().mean() * 100\n",
        "\n",
        "#les colonnes avec plus de 70% de valeurs manquantes\n",
        "valeur_m_cols = valeur_m_p[valeur_m_p > 70].index\n",
        "\n",
        "#le nombre de colonnes avec plus de 70% de valeurs manquantes\n",
        "nb_valeur_m_cols = valeur_m_cols.shape[0]\n",
        "print(f\"Le nombre de colonnes avec plus de 70% de valeurs manquantes: {nb_valeur_m_cols}\")"
      ],
      "metadata": {
        "colab": {
          "base_uri": "https://localhost:8080/"
        },
        "id": "1hFZEgxSCcxy",
        "outputId": "86ed3094-c8f1-4d36-c77e-7dfabd4fd8cc"
      },
      "execution_count": 8,
      "outputs": [
        {
          "output_type": "stream",
          "name": "stdout",
          "text": [
            "Le nombre de colonnes avec plus de 70% de valeurs manquantes: 144\n"
          ]
        }
      ]
    },
    {
      "cell_type": "code",
      "source": [
        "#le nombre de valeurs manquantes par colonne\n",
        "missing_values = df.isnull().sum()\n",
        "missing_values = missing_values[missing_values > 0]\n",
        "print(missing_values)"
      ],
      "metadata": {
        "colab": {
          "base_uri": "https://localhost:8080/"
        },
        "id": "q9l0XlrlyeQd",
        "outputId": "e59840c2-6017-491d-a643-d3c82f599bf3"
      },
      "execution_count": null,
      "outputs": [
        {
          "output_type": "stream",
          "name": "stdout",
          "text": [
            "TARGET                                  48744\n",
            "AMT_ANNUITY                                36\n",
            "AMT_GOODS_PRICE                           278\n",
            "DAYS_EMPLOYED                           64648\n",
            "OWN_CAR_AGE                            235239\n",
            "                                        ...  \n",
            "CC_NAME_CONTRACT_STATUS_Signed_MAX     252693\n",
            "CC_NAME_CONTRACT_STATUS_Signed_MEAN    252693\n",
            "CC_NAME_CONTRACT_STATUS_Signed_SUM     252693\n",
            "CC_NAME_CONTRACT_STATUS_Signed_VAR     253385\n",
            "CC_COUNT                               252693\n",
            "Length: 590, dtype: int64\n"
          ]
        }
      ]
    },
    {
      "cell_type": "code",
      "source": [
        "#la suppression des colonnes avec plus de 70% de valeurs manquantes\n",
        "df = df.drop(columns=valeur_m_cols)\n",
        "\n",
        "print(f\"Le nombre de colonnes restantes après suppression: {df.shape[1]}\")\n",
        "print(f\"Le nombre de colonnes supprimées: {len(valeur_m_cols)}\")"
      ],
      "metadata": {
        "colab": {
          "base_uri": "https://localhost:8080/"
        },
        "id": "S_6i9lxGDY6j",
        "outputId": "1d70fbc1-4544-49a5-9c05-17821f50d395"
      },
      "execution_count": 9,
      "outputs": [
        {
          "output_type": "stream",
          "name": "stdout",
          "text": [
            "Le nombre de colonnes restantes après suppression: 626\n",
            "Le nombre de colonnes supprimées: 144\n"
          ]
        }
      ]
    },
    {
      "cell_type": "code",
      "source": [
        "#je ne garde que les donneées où la colonne 'TARGET' n'est pas vide.\n",
        "# 'TARGET' est la variable à prédire (classification), donc ces données sont nécessaires pour l'entraînement.\n",
        "df_classification = df[df['TARGET'].notnull()]\n",
        "print(df_classification.shape)"
      ],
      "metadata": {
        "colab": {
          "base_uri": "https://localhost:8080/"
        },
        "id": "4SHbGvaH0rdr",
        "outputId": "d65a1010-b34e-47ad-8ddf-be45d3abe617"
      },
      "execution_count": 10,
      "outputs": [
        {
          "output_type": "stream",
          "name": "stdout",
          "text": [
            "(307507, 626)\n"
          ]
        }
      ]
    },
    {
      "cell_type": "code",
      "source": [
        "#les colonnes cat\n",
        "cat_cols = df_classification.select_dtypes(include=['object']).columns\n",
        "print(cat_cols)"
      ],
      "metadata": {
        "colab": {
          "base_uri": "https://localhost:8080/"
        },
        "id": "2hTKLkbSBDne",
        "outputId": "88d5130a-b42f-44ed-8e97-9a87ffba15d5"
      },
      "execution_count": 11,
      "outputs": [
        {
          "output_type": "stream",
          "name": "stdout",
          "text": [
            "Index([], dtype='object')\n"
          ]
        }
      ]
    },
    {
      "cell_type": "markdown",
      "source": [
        "Après la suppression des cols à >70% de valeurs manquantes, il ne reste plus de cols cat."
      ],
      "metadata": {
        "id": "Vvkx2M03BSrV"
      }
    },
    {
      "cell_type": "markdown",
      "source": [
        "#Imputation"
      ],
      "metadata": {
        "id": "YeV9rabqL71P"
      }
    },
    {
      "cell_type": "code",
      "source": [
        "#je remplace les valeurs manquantes par la moyenne des colonnes numériques\n",
        "df_classification_imputed = df_classification.copy()\n",
        "df_classification_imputed.fillna(df_classification.mean(), inplace=True)"
      ],
      "metadata": {
        "id": "D3aJa4VFL-Rw"
      },
      "execution_count": 12,
      "outputs": []
    },
    {
      "cell_type": "code",
      "source": [
        "#vérification qu'il n'y a plus de valeurs manquantes\n",
        "print(df_classification_imputed.isnull().sum().sum())"
      ],
      "metadata": {
        "colab": {
          "base_uri": "https://localhost:8080/"
        },
        "id": "AwKQhSVHMAC3",
        "outputId": "de51537d-e946-4668-a5d9-6e973ac81447"
      },
      "execution_count": 13,
      "outputs": [
        {
          "output_type": "stream",
          "name": "stdout",
          "text": [
            "0\n"
          ]
        }
      ]
    },
    {
      "cell_type": "code",
      "source": [
        "#le df avec imputation mean en csv\n",
        "df_classification_imputed.to_csv('df_classification_imputed.csv', index=False)"
      ],
      "metadata": {
        "id": "9Rpbt8SjCIOR"
      },
      "execution_count": 14,
      "outputs": []
    },
    {
      "cell_type": "code",
      "source": [
        "df = pd.read_csv('df_classification_imputed.csv')\n",
        "df.shape"
      ],
      "metadata": {
        "id": "5HjpwVTNCY6C"
      },
      "execution_count": null,
      "outputs": []
    },
    {
      "cell_type": "markdown",
      "source": [
        "#Echantillon"
      ],
      "metadata": {
        "id": "zImo0YahPW0O"
      }
    },
    {
      "cell_type": "markdown",
      "source": [
        "\n",
        "Dans mon df la target est déséquilibrée : environ 90% sont de la classe 0 (négatif), et seulement 10% sont de la classe 1 (positif).\n",
        "\n",
        "Donc mon modèle pourrait prédire la majorité comme étant de la classe 0 sans optimiser la performance, surtout pour la classe 1\n",
        "\n",
        "\n",
        "Pour mieux gérer ce déséquilibre, je vais utiliser deux approches :\n",
        "\n",
        "\n",
        "**SMOTE (Synthetic Minority Over-sampling Technique)** : c'est une technique d'augmentation de données qui permet de créer des données synthétiques de la classe minoritaire (ici 1) pour équilibrer les classes.\n",
        "\n",
        "**F-beta score (avec β=10)** : c'est une métrique d'évaluation qui permet de pénalizer davantage les faux négatifs (FN, erreurs coûteuses).\n",
        "\n",
        "___________________________________________________\n",
        "\n",
        "C'est pour mieux gérer le déséquilibre de classes et optimiser les performances des modèles sur la classe minoritaire\n"
      ],
      "metadata": {
        "id": "Lvj1MQoxBLZk"
      }
    },
    {
      "cell_type": "code",
      "source": [
        "import pandas as pd\n",
        "\n",
        "#la taille de l'échantillon total\n",
        "sample_size = 50000\n",
        "\n",
        "#je calcule la proportion des classes\n",
        "class_distribution = df_classification_imputed['TARGET'].value_counts(normalize=True)\n",
        "\n",
        "#échantillon stratifié en fonction de la distribution de 'TARGET'\n",
        "df_sample = df_classification_imputed.groupby('TARGET', group_keys=False).apply(lambda x: x.sample(int(sample_size * class_distribution.loc[x.name]), random_state=42))\n",
        "\n",
        "#la distribution dans l'échantillon\n",
        "print(df_sample['TARGET'].value_counts(normalize=True))\n"
      ],
      "metadata": {
        "colab": {
          "base_uri": "https://localhost:8080/"
        },
        "id": "Ay_faa2WPAXO",
        "outputId": "a7cc35c7-a653-4605-a83c-1bac15bf06d7"
      },
      "execution_count": 23,
      "outputs": [
        {
          "output_type": "stream",
          "name": "stdout",
          "text": [
            "TARGET\n",
            "0.0    0.919278\n",
            "1.0    0.080722\n",
            "Name: proportion, dtype: float64\n"
          ]
        }
      ]
    },
    {
      "cell_type": "markdown",
      "metadata": {
        "id": "b23a68e4-4a07-49d7-8f18-b38e440b1676"
      },
      "source": [
        "- TARGET = 1 -> Client avec des difficultés de payments\n",
        "- TARGET = 0 -> Client sans difficultés de payments"
      ]
    },
    {
      "cell_type": "code",
      "source": [
        "df_sample.to_csv('/content/df_sample.csv', index=False)"
      ],
      "metadata": {
        "id": "VURV7sRYEpXy"
      },
      "execution_count": 2,
      "outputs": []
    },
    {
      "cell_type": "code",
      "source": [
        "import pandas as pd\n",
        "\n",
        "#pour obtenir un échantillon stratifié en fonction de la distribution de la classe\n",
        "\n",
        "# La taille de l'échantillon total\n",
        "sample_size = 50000\n",
        "\n",
        "# Calcul de la proportion des classes\n",
        "class_distribution = df_classification_imputed['TARGET'].value_counts(normalize=True)\n",
        "\n",
        "# Échantillon stratifié en fonction de la distribution de 'TARGET'\n",
        "df_sample = df_classification_imputed.groupby('TARGET', group_keys=False).apply(lambda x: x.sample(int(sample_size * class_distribution.loc[x.name]), random_state=42))\n",
        "\n",
        "# Distribution dans l'échantillon\n",
        "print(df_sample['TARGET'].value_counts(normalize=True))\n"
      ],
      "metadata": {
        "id": "1bnGtUULPtg8",
        "outputId": "c258fbde-6a43-4812-8728-186a543cea89",
        "colab": {
          "base_uri": "https://localhost:8080/"
        }
      },
      "execution_count": 43,
      "outputs": [
        {
          "output_type": "stream",
          "name": "stdout",
          "text": [
            "TARGET\n",
            "0.0    0.919278\n",
            "1.0    0.080722\n",
            "Name: proportion, dtype: float64\n"
          ]
        }
      ]
    },
    {
      "cell_type": "markdown",
      "source": [
        "#Entrainement des modeles avec tracking MLFlow"
      ],
      "metadata": {
        "id": "dzDOQwAYClgC"
      }
    },
    {
      "cell_type": "code",
      "source": [
        "import pandas as pd\n",
        "\n",
        "df_sample = pd.read_csv('/content/df_sample.csv')\n",
        "df_sample.shape"
      ],
      "metadata": {
        "colab": {
          "base_uri": "https://localhost:8080/"
        },
        "id": "ykYKPPXvEs6r",
        "outputId": "89c3348c-a45b-46ac-e3d1-50728bc54d51"
      },
      "execution_count": 3,
      "outputs": [
        {
          "output_type": "execute_result",
          "data": {
            "text/plain": [
              "(49999, 626)"
            ]
          },
          "metadata": {},
          "execution_count": 3
        }
      ]
    },
    {
      "cell_type": "code",
      "source": [
        "#lightGBM ne prend pas en charge les caractères spéciaux dans les noms de colonnes donc je les supprime\n",
        "import re\n",
        "\n",
        "#la fonction pour nettoyer les noms de colonnes\n",
        "def clean_column_names(df):\n",
        "    df.columns = [re.sub(r'\\W+', '_', col) for col in df.columns]\n",
        "    return df\n",
        "\n",
        "#j'applique la fonction à X_train et X_val\n",
        "df_sample = clean_column_names(df_sample)\n",
        "\n",
        "\n",
        "#maintenant les colonnes ne contiennent plus de caractères spéciaux"
      ],
      "metadata": {
        "id": "l7G06hRBTDDR"
      },
      "execution_count": 4,
      "outputs": []
    },
    {
      "cell_type": "markdown",
      "source": [
        "##SMOTE"
      ],
      "metadata": {
        "id": "xcp0Tu0sg0KT"
      }
    },
    {
      "cell_type": "markdown",
      "source": [
        "J'utilise **X_train_resampled et y_train_resampled** pour l'**entraînement**.\n",
        "\n",
        "J'utilise **X_val et y_val (sans SMOTE)** pour la **validation**, car il est important de ne pas modifier l'ensemble de validation avec SMOTE."
      ],
      "metadata": {
        "id": "4I9mzzJFiUZB"
      }
    },
    {
      "cell_type": "code",
      "source": [
        "from sklearn.model_selection import train_test_split\n",
        "from imblearn.over_sampling import SMOTE\n",
        "\n",
        "#Une fois que j'ai df_sample, j'applique SMOTE pour équilibrer les classes\n",
        "\n",
        "# Séparer les features et la cible\n",
        "X = df_sample.drop(columns=[\"TARGET\", \"SK_ID_CURR\"])\n",
        "y = df_sample[\"TARGET\"]\n",
        "\n",
        "# Diviser les données en ensembles d'entraînement et de validation\n",
        "X_train, X_val, y_train, y_val = train_test_split(X, y, test_size=0.2, random_state=42, stratify=y)\n",
        "\n",
        "# Application de SMOTE sur l'ensemble d'entraînement\n",
        "smote = SMOTE(sampling_strategy='auto', random_state=42)\n",
        "X_train_resampled, y_train_resampled = smote.fit_resample(X_train, y_train)\n",
        "\n",
        "# Afficher la nouvelle distribution des classes après SMOTE\n",
        "print(pd.Series(y_train_resampled).value_counts(normalize=True))\n",
        "\n",
        "# Vérifier les dimensions des ensembles\n",
        "print(\"X_train_resampled shape:\", X_train_resampled.shape)\n",
        "print(\"y_train_resampled shape:\", y_train_resampled.shape)\n",
        "print(\"X_val shape:\", X_val.shape)\n",
        "print(\"y_val shape:\", y_val.shape)\n"
      ],
      "metadata": {
        "id": "8rhVbYLGU0bW",
        "outputId": "5f0f1197-8933-4b3c-e9d2-33d98ff20a9c",
        "colab": {
          "base_uri": "https://localhost:8080/"
        }
      },
      "execution_count": 5,
      "outputs": [
        {
          "output_type": "stream",
          "name": "stdout",
          "text": [
            "TARGET\n",
            "0.0    0.5\n",
            "1.0    0.5\n",
            "Name: proportion, dtype: float64\n",
            "X_train_resampled shape: (73540, 624)\n",
            "y_train_resampled shape: (73540,)\n",
            "X_val shape: (10000, 624)\n",
            "y_val shape: (10000,)\n"
          ]
        }
      ]
    },
    {
      "cell_type": "code",
      "source": [
        "#j'install MLFlow\n",
        "! pip install mlflow"
      ],
      "metadata": {
        "colab": {
          "base_uri": "https://localhost:8080/"
        },
        "id": "XZIC6Vq-GV3D",
        "outputId": "ccb075d0-e601-4892-b0a1-a2d59dfd888a"
      },
      "execution_count": 6,
      "outputs": [
        {
          "output_type": "stream",
          "name": "stdout",
          "text": [
            "Requirement already satisfied: mlflow in /usr/local/lib/python3.10/dist-packages (2.16.2)\n",
            "Requirement already satisfied: mlflow-skinny==2.16.2 in /usr/local/lib/python3.10/dist-packages (from mlflow) (2.16.2)\n",
            "Requirement already satisfied: Flask<4 in /usr/local/lib/python3.10/dist-packages (from mlflow) (2.2.5)\n",
            "Requirement already satisfied: alembic!=1.10.0,<2 in /usr/local/lib/python3.10/dist-packages (from mlflow) (1.13.3)\n",
            "Requirement already satisfied: docker<8,>=4.0.0 in /usr/local/lib/python3.10/dist-packages (from mlflow) (7.1.0)\n",
            "Requirement already satisfied: graphene<4 in /usr/local/lib/python3.10/dist-packages (from mlflow) (3.3)\n",
            "Requirement already satisfied: markdown<4,>=3.3 in /usr/local/lib/python3.10/dist-packages (from mlflow) (3.7)\n",
            "Requirement already satisfied: matplotlib<4 in /usr/local/lib/python3.10/dist-packages (from mlflow) (3.7.1)\n",
            "Requirement already satisfied: numpy<3 in /usr/local/lib/python3.10/dist-packages (from mlflow) (1.26.4)\n",
            "Requirement already satisfied: pandas<3 in /usr/local/lib/python3.10/dist-packages (from mlflow) (2.1.4)\n",
            "Requirement already satisfied: pyarrow<18,>=4.0.0 in /usr/local/lib/python3.10/dist-packages (from mlflow) (14.0.2)\n",
            "Requirement already satisfied: scikit-learn<2 in /usr/local/lib/python3.10/dist-packages (from mlflow) (1.5.2)\n",
            "Requirement already satisfied: scipy<2 in /usr/local/lib/python3.10/dist-packages (from mlflow) (1.13.1)\n",
            "Requirement already satisfied: sqlalchemy<3,>=1.4.0 in /usr/local/lib/python3.10/dist-packages (from mlflow) (2.0.35)\n",
            "Requirement already satisfied: Jinja2<4,>=2.11 in /usr/local/lib/python3.10/dist-packages (from mlflow) (3.1.4)\n",
            "Requirement already satisfied: gunicorn<24 in /usr/local/lib/python3.10/dist-packages (from mlflow) (23.0.0)\n",
            "Requirement already satisfied: cachetools<6,>=5.0.0 in /usr/local/lib/python3.10/dist-packages (from mlflow-skinny==2.16.2->mlflow) (5.5.0)\n",
            "Requirement already satisfied: click<9,>=7.0 in /usr/local/lib/python3.10/dist-packages (from mlflow-skinny==2.16.2->mlflow) (8.1.7)\n",
            "Requirement already satisfied: cloudpickle<4 in /usr/local/lib/python3.10/dist-packages (from mlflow-skinny==2.16.2->mlflow) (2.2.1)\n",
            "Requirement already satisfied: databricks-sdk<1,>=0.20.0 in /usr/local/lib/python3.10/dist-packages (from mlflow-skinny==2.16.2->mlflow) (0.33.0)\n",
            "Requirement already satisfied: gitpython<4,>=3.1.9 in /usr/local/lib/python3.10/dist-packages (from mlflow-skinny==2.16.2->mlflow) (3.1.43)\n",
            "Requirement already satisfied: importlib-metadata!=4.7.0,<9,>=3.7.0 in /usr/local/lib/python3.10/dist-packages (from mlflow-skinny==2.16.2->mlflow) (8.4.0)\n",
            "Requirement already satisfied: opentelemetry-api<3,>=1.9.0 in /usr/local/lib/python3.10/dist-packages (from mlflow-skinny==2.16.2->mlflow) (1.27.0)\n",
            "Requirement already satisfied: opentelemetry-sdk<3,>=1.9.0 in /usr/local/lib/python3.10/dist-packages (from mlflow-skinny==2.16.2->mlflow) (1.27.0)\n",
            "Requirement already satisfied: packaging<25 in /usr/local/lib/python3.10/dist-packages (from mlflow-skinny==2.16.2->mlflow) (24.1)\n",
            "Requirement already satisfied: protobuf<6,>=3.12.0 in /usr/local/lib/python3.10/dist-packages (from mlflow-skinny==2.16.2->mlflow) (3.20.3)\n",
            "Requirement already satisfied: pyyaml<7,>=5.1 in /usr/local/lib/python3.10/dist-packages (from mlflow-skinny==2.16.2->mlflow) (6.0.2)\n",
            "Requirement already satisfied: requests<3,>=2.17.3 in /usr/local/lib/python3.10/dist-packages (from mlflow-skinny==2.16.2->mlflow) (2.32.3)\n",
            "Requirement already satisfied: sqlparse<1,>=0.4.0 in /usr/local/lib/python3.10/dist-packages (from mlflow-skinny==2.16.2->mlflow) (0.5.1)\n",
            "Requirement already satisfied: Mako in /usr/local/lib/python3.10/dist-packages (from alembic!=1.10.0,<2->mlflow) (1.3.5)\n",
            "Requirement already satisfied: typing-extensions>=4 in /usr/local/lib/python3.10/dist-packages (from alembic!=1.10.0,<2->mlflow) (4.12.2)\n",
            "Requirement already satisfied: urllib3>=1.26.0 in /usr/local/lib/python3.10/dist-packages (from docker<8,>=4.0.0->mlflow) (2.2.3)\n",
            "Requirement already satisfied: Werkzeug>=2.2.2 in /usr/local/lib/python3.10/dist-packages (from Flask<4->mlflow) (3.0.4)\n",
            "Requirement already satisfied: itsdangerous>=2.0 in /usr/local/lib/python3.10/dist-packages (from Flask<4->mlflow) (2.2.0)\n",
            "Requirement already satisfied: graphql-core<3.3,>=3.1 in /usr/local/lib/python3.10/dist-packages (from graphene<4->mlflow) (3.2.4)\n",
            "Requirement already satisfied: graphql-relay<3.3,>=3.1 in /usr/local/lib/python3.10/dist-packages (from graphene<4->mlflow) (3.2.0)\n",
            "Requirement already satisfied: aniso8601<10,>=8 in /usr/local/lib/python3.10/dist-packages (from graphene<4->mlflow) (9.0.1)\n",
            "Requirement already satisfied: MarkupSafe>=2.0 in /usr/local/lib/python3.10/dist-packages (from Jinja2<4,>=2.11->mlflow) (2.1.5)\n",
            "Requirement already satisfied: contourpy>=1.0.1 in /usr/local/lib/python3.10/dist-packages (from matplotlib<4->mlflow) (1.3.0)\n",
            "Requirement already satisfied: cycler>=0.10 in /usr/local/lib/python3.10/dist-packages (from matplotlib<4->mlflow) (0.12.1)\n",
            "Requirement already satisfied: fonttools>=4.22.0 in /usr/local/lib/python3.10/dist-packages (from matplotlib<4->mlflow) (4.53.1)\n",
            "Requirement already satisfied: kiwisolver>=1.0.1 in /usr/local/lib/python3.10/dist-packages (from matplotlib<4->mlflow) (1.4.7)\n",
            "Requirement already satisfied: pillow>=6.2.0 in /usr/local/lib/python3.10/dist-packages (from matplotlib<4->mlflow) (10.4.0)\n",
            "Requirement already satisfied: pyparsing>=2.3.1 in /usr/local/lib/python3.10/dist-packages (from matplotlib<4->mlflow) (3.1.4)\n",
            "Requirement already satisfied: python-dateutil>=2.7 in /usr/local/lib/python3.10/dist-packages (from matplotlib<4->mlflow) (2.8.2)\n",
            "Requirement already satisfied: pytz>=2020.1 in /usr/local/lib/python3.10/dist-packages (from pandas<3->mlflow) (2024.2)\n",
            "Requirement already satisfied: tzdata>=2022.1 in /usr/local/lib/python3.10/dist-packages (from pandas<3->mlflow) (2024.1)\n",
            "Requirement already satisfied: joblib>=1.2.0 in /usr/local/lib/python3.10/dist-packages (from scikit-learn<2->mlflow) (1.4.2)\n",
            "Requirement already satisfied: threadpoolctl>=3.1.0 in /usr/local/lib/python3.10/dist-packages (from scikit-learn<2->mlflow) (3.5.0)\n",
            "Requirement already satisfied: greenlet!=0.4.17 in /usr/local/lib/python3.10/dist-packages (from sqlalchemy<3,>=1.4.0->mlflow) (3.1.1)\n",
            "Requirement already satisfied: google-auth~=2.0 in /usr/local/lib/python3.10/dist-packages (from databricks-sdk<1,>=0.20.0->mlflow-skinny==2.16.2->mlflow) (2.27.0)\n",
            "Requirement already satisfied: gitdb<5,>=4.0.1 in /usr/local/lib/python3.10/dist-packages (from gitpython<4,>=3.1.9->mlflow-skinny==2.16.2->mlflow) (4.0.11)\n",
            "Requirement already satisfied: zipp>=0.5 in /usr/local/lib/python3.10/dist-packages (from importlib-metadata!=4.7.0,<9,>=3.7.0->mlflow-skinny==2.16.2->mlflow) (3.20.2)\n",
            "Requirement already satisfied: deprecated>=1.2.6 in /usr/local/lib/python3.10/dist-packages (from opentelemetry-api<3,>=1.9.0->mlflow-skinny==2.16.2->mlflow) (1.2.14)\n",
            "Requirement already satisfied: opentelemetry-semantic-conventions==0.48b0 in /usr/local/lib/python3.10/dist-packages (from opentelemetry-sdk<3,>=1.9.0->mlflow-skinny==2.16.2->mlflow) (0.48b0)\n",
            "Requirement already satisfied: six>=1.5 in /usr/local/lib/python3.10/dist-packages (from python-dateutil>=2.7->matplotlib<4->mlflow) (1.16.0)\n",
            "Requirement already satisfied: charset-normalizer<4,>=2 in /usr/local/lib/python3.10/dist-packages (from requests<3,>=2.17.3->mlflow-skinny==2.16.2->mlflow) (3.3.2)\n",
            "Requirement already satisfied: idna<4,>=2.5 in /usr/local/lib/python3.10/dist-packages (from requests<3,>=2.17.3->mlflow-skinny==2.16.2->mlflow) (3.10)\n",
            "Requirement already satisfied: certifi>=2017.4.17 in /usr/local/lib/python3.10/dist-packages (from requests<3,>=2.17.3->mlflow-skinny==2.16.2->mlflow) (2024.8.30)\n",
            "Requirement already satisfied: wrapt<2,>=1.10 in /usr/local/lib/python3.10/dist-packages (from deprecated>=1.2.6->opentelemetry-api<3,>=1.9.0->mlflow-skinny==2.16.2->mlflow) (1.16.0)\n",
            "Requirement already satisfied: smmap<6,>=3.0.1 in /usr/local/lib/python3.10/dist-packages (from gitdb<5,>=4.0.1->gitpython<4,>=3.1.9->mlflow-skinny==2.16.2->mlflow) (5.0.1)\n",
            "Requirement already satisfied: pyasn1-modules>=0.2.1 in /usr/local/lib/python3.10/dist-packages (from google-auth~=2.0->databricks-sdk<1,>=0.20.0->mlflow-skinny==2.16.2->mlflow) (0.4.1)\n",
            "Requirement already satisfied: rsa<5,>=3.1.4 in /usr/local/lib/python3.10/dist-packages (from google-auth~=2.0->databricks-sdk<1,>=0.20.0->mlflow-skinny==2.16.2->mlflow) (4.9)\n",
            "Requirement already satisfied: pyasn1<0.7.0,>=0.4.6 in /usr/local/lib/python3.10/dist-packages (from pyasn1-modules>=0.2.1->google-auth~=2.0->databricks-sdk<1,>=0.20.0->mlflow-skinny==2.16.2->mlflow) (0.6.1)\n"
          ]
        }
      ]
    },
    {
      "cell_type": "markdown",
      "source": [
        "##Random Forest Classifier"
      ],
      "metadata": {
        "id": "PI4nCqA6GNPV"
      }
    },
    {
      "cell_type": "code",
      "source": [
        "from sklearn.ensemble import RandomForestClassifier\n",
        "from sklearn.metrics import accuracy_score, roc_auc_score\n",
        "import mlflow\n",
        "import mlflow.sklearn"
      ],
      "metadata": {
        "id": "1FFFVPTMHlBv"
      },
      "execution_count": 29,
      "outputs": []
    },
    {
      "cell_type": "markdown",
      "source": [
        "###random_forest_default"
      ],
      "metadata": {
        "id": "ZEAdqHENlYIZ"
      }
    },
    {
      "cell_type": "code",
      "source": [
        "#l'expérience MLFlow : RandomForestClassifier\n",
        "mlflow.set_experiment(\"RandomForestClassifier\")\n",
        "\n",
        "# RUN 1 : random_forest_default\n",
        "\n",
        "#initialisation du RandomForestClassifier avec hyperparamètres par défaut\n",
        "rf_clf = RandomForestClassifier()\n",
        "\n",
        "with mlflow.start_run(run_name='random_forest_default'):\n",
        "    #l'enregistrement des hyperparamètres\n",
        "    mlflow.log_param(\"model_type\", \"RandomForestClassifier\")\n",
        "    mlflow.log_param(\"n_estimators\", 100)\n",
        "    mlflow.log_param(\"max_depth\", None)\n",
        "    mlflow.log_param(\"random_state\", None)\n",
        "\n",
        "    #l'entraînement du modèle\n",
        "    rf_clf.fit(X_train_resampled, y_train_resampled)\n",
        "\n",
        "    #la prédictions\n",
        "    y_pred_rf = rf_clf.predict(X_val)\n",
        "    y_prob_rf = rf_clf.predict_proba(X_val)[:, 1]\n",
        "\n",
        "    #les métriques\n",
        "    try:\n",
        "        auc_score_rf = roc_auc_score(y_val y_prob_rf)\n",
        "    except ValueError:\n",
        "        auc_score_rf = float('nan')\n",
        "\n",
        "    accuracy_rf = accuracy_score(y_val, y_pred_rf)\n",
        "\n",
        "    #l'enregistrement des métriques\n",
        "    mlflow.log_metric(\"auc\", auc_score_rf)\n",
        "    mlflow.log_metric(\"accuracy\", accuracy_rf)\n",
        "\n",
        "    # Enregistrer le modèle dans MLflow (avec signature et input_example pour faciliter le serving)\n",
        "    model_uri = mlflow.sklearn.log_model(\n",
        "        rf_clf,\n",
        "        artifact_path=\"random_forest_model\",\n",
        "        #input_example=X_val[:5]  # Exemple d'entrée pour la prédiction\n",
        "    )\n",
        "\n",
        "    # Enregistrer le modèle dans le Model Registry\n",
        "    model_name = \"RandomForestModel\"  # Nom du modèle dans le registre\n",
        "    mlflow.register_model(model_uri=model_uri.model_uri, name=model_name)\n",
        "\n",
        "    # Promouvoir le modèle vers 'Staging'\n",
        "    client = mlflow.tracking.MlflowClient()\n",
        "    client.transition_model_version_stage(\n",
        "        name=model_name,\n",
        "        version=1,  # Vous pouvez choisir la version manuellement ou automatiser\n",
        "        stage=\"Staging\"  # Les stages peuvent être 'None', 'Staging', 'Production' ou 'Archived'\n",
        "    )\n",
        "\n",
        "\n",
        "\n",
        "#pour vérification\n",
        "print(f\"Random Forest AUC: {auc_score_rf}, Accuracy: {accuracy_rf}\")\n"
      ],
      "metadata": {
        "colab": {
          "base_uri": "https://localhost:8080/"
        },
        "id": "Jev-z-J0CfJn",
        "outputId": "c3dd97d6-3145-4fcb-9d22-0c1fb3a396d4"
      },
      "execution_count": 32,
      "outputs": [
        {
          "output_type": "stream",
          "name": "stderr",
          "text": [
            "2024/09/27 07:52:45 WARNING mlflow.models.model: Model logged without a signature and input example. Please set `input_example` parameter when logging the model to auto infer the model signature.\n",
            "Successfully registered model 'RandomForestModel'.\n",
            "Created version '1' of model 'RandomForestModel'.\n",
            "<ipython-input-32-e9d7aa98dc85>:48: FutureWarning: ``mlflow.tracking.client.MlflowClient.transition_model_version_stage`` is deprecated since 2.9.0. Model registry stages will be removed in a future major release. To learn more about the deprecation of model registry stages, see our migration guide here: https://mlflow.org/docs/latest/model-registry.html#migrating-from-stages\n",
            "  client.transition_model_version_stage(\n"
          ]
        },
        {
          "output_type": "stream",
          "name": "stdout",
          "text": [
            "Random Forest AUC: 0.6948609678367693, Accuracy: 0.9193\n"
          ]
        }
      ]
    },
    {
      "cell_type": "code",
      "source": [
        "#pour vérifier que mon modèle est bien enregistré sur le dossier MLflow (Drive)\n",
        "!ls"
      ],
      "metadata": {
        "id": "ae9wu6c5QmXH",
        "outputId": "c9855793-567d-4039-9011-c2bc55495ecc",
        "colab": {
          "base_uri": "https://localhost:8080/"
        }
      },
      "execution_count": 33,
      "outputs": [
        {
          "output_type": "stream",
          "name": "stdout",
          "text": [
            "df_classification_imputed.csv  mlruns  projet7_1.ipynb\tREADME.md\n"
          ]
        }
      ]
    },
    {
      "cell_type": "markdown",
      "source": [
        "###random_forest_hyper1"
      ],
      "metadata": {
        "id": "RWI5TT-Mlwan"
      }
    },
    {
      "cell_type": "code",
      "source": [
        "#l'expérience MLFlow : RandomForestClassifier\n",
        "mlflow.set_experiment(\"RandomForestClassifier\")\n",
        "\n",
        "# RUN 2 : random_forest_hyper1\n",
        "\n",
        "#initialisation du RandomForestClassifier avec hyperparamètres\n",
        "rf_clf_h1 = RandomForestClassifier(n_estimators=200, max_depth=5, random_state=42)\n",
        "\n",
        "with mlflow.start_run(run_name='random_forest_hyper1'):\n",
        "    #l'enregistrement des hyperparamètres\n",
        "    mlflow.log_param(\"model_type\", \"RandomForestClassifier\")\n",
        "    mlflow.log_param(\"n_estimators\", 200)\n",
        "    mlflow.log_param(\"max_depth\", 5)\n",
        "    mlflow.log_param(\"random_state\", 42)\n",
        "\n",
        "    #l'entraînement du modèle\n",
        "    rf_clf_h1.fit(X_train, y_train)\n",
        "\n",
        "    #la prédictions\n",
        "    y_pred_rf_h1 = rf_clf_h1.predict(X_val)\n",
        "    y_prob_rf_h1 = rf_clf_h1.predict_proba(X_val)[:, 1]\n",
        "\n",
        "    #les métriques\n",
        "    try:\n",
        "        auc_score_rf_h1 = roc_auc_score(y_val, y_prob_rf_h1)\n",
        "    except ValueError:\n",
        "        auc_score_rf_h1 = float('nan')\n",
        "\n",
        "    accuracy_rf_h1 = accuracy_score(y_val, y_pred_rf_h1)\n",
        "\n",
        "    #l'enregistrement des métriques\n",
        "    mlflow.log_metric(\"auc_h1\", auc_score_rf_h1)\n",
        "    mlflow.log_metric(\"accuracy_h1\", accuracy_rf_h1)\n",
        "\n",
        "    #l'enregistrement du modèle Random Forest\n",
        "    mlflow.sklearn.log_model(rf_clf_h1, \"random_forest_model_h1\")\n",
        "\n",
        "#pour vérification\n",
        "print(f\"Random Forest AUC_h1: {auc_score_rf_h1}, Accuracy_h1: {accuracy_rf_h1}\")"
      ],
      "metadata": {
        "colab": {
          "base_uri": "https://localhost:8080/"
        },
        "id": "DaOuShgWKKJk",
        "outputId": "ced8a47c-309a-4a38-b591-654ded5f6f10"
      },
      "execution_count": 37,
      "outputs": [
        {
          "output_type": "stream",
          "name": "stderr",
          "text": [
            "2024/09/27 07:57:47 WARNING mlflow.models.model: Model logged without a signature and input example. Please set `input_example` parameter when logging the model to auto infer the model signature.\n"
          ]
        },
        {
          "output_type": "stream",
          "name": "stdout",
          "text": [
            "Random Forest AUC_h1: 0.7231446371498382, Accuracy_h1: 0.9193\n"
          ]
        }
      ]
    },
    {
      "cell_type": "code",
      "source": [
        "#pour vérifier que mon modèle est bien enregistré dans mlruns sur le dossier MLflow (Drive)\n",
        "!ls"
      ],
      "metadata": {
        "id": "LBOfsDYmJq33"
      },
      "execution_count": null,
      "outputs": []
    },
    {
      "cell_type": "code",
      "source": [
        "mlflow.get_experiment_by_name(\"RandomForestClassifier\")\n"
      ],
      "metadata": {
        "id": "qijMm9ryTAuJ"
      },
      "execution_count": null,
      "outputs": []
    },
    {
      "cell_type": "markdown",
      "source": [
        "Je vais utilier GridSearchCV : le modèle est entraîné avec toutes les combinaisons d'hyperparamètres spécifiées, et la meilleure combinaison est sélectionnée en fonction de la métrique de score :accuracy pour l'instant.\n",
        "\n",
        "Ensuite, après avoir trouvé les meilleurs hyperparamètres, les prédictions sont effectuées, les métriques sont calculées"
      ],
      "metadata": {
        "id": "1qs4qVS1Y_rb"
      }
    },
    {
      "cell_type": "markdown",
      "source": [
        "###random_forest_grid_search_cv"
      ],
      "metadata": {
        "id": "po8TQJYUmJHw"
      }
    },
    {
      "cell_type": "markdown",
      "source": [
        "###random_forest_grid_search_score"
      ],
      "metadata": {
        "id": "tcpwWGGtmVJe"
      }
    },
    {
      "cell_type": "code",
      "source": [
        "from sklearn.model_selection import GridSearchCV\n",
        "\n",
        "#l'expérience MLFlow : RandomForestClassifier\n",
        "mlflow.set_experiment(\"RandomForestClassifier\")\n",
        "\n",
        "\n",
        "#les hyperparamètres à explorer\n",
        "param_grid_rf = {\n",
        "    'n_estimators': [50, 100, 200],\n",
        "    'max_depth': [None, 10, 20, 30],\n",
        "    'min_samples_split': [2, 5, 10],\n",
        "    'random_state': [42]\n",
        "}\n",
        "\n",
        "# RUN 3 : random_forest_grid_search_cv\n",
        "\n",
        "#initialisation du RandomForestClassifier\n",
        "rf_clf_cv = RandomForestClassifier()\n",
        "\n",
        "#la configuration de GridSearchCV\n",
        "grid_search_rf = GridSearchCV(estimator=rf_clf_cv, param_grid=param_grid_rf, cv=5, scoring='accuracy')\n",
        "\n",
        "#exécution de GridSearchCV\n",
        "with mlflow.start_run(run_name='random_forest_grid_search_cv'):\n",
        "    grid_search_rf.fit(X_train, y_train)\n",
        "\n",
        "    #meilleurs paramètres et score\n",
        "    best_params_rf = grid_search_rf.best_params_\n",
        "    best_score_rf = grid_search_rf.best_score_\n",
        "\n",
        "    #enregistrement des meilleurs paramètres\n",
        "    mlflow.log_params(best_params_rf)\n",
        "    mlflow.log_param(\"best_score\", best_score_rf)\n",
        "\n",
        "    #la prédictions avec les meilleurs paramètres\n",
        "    y_pred_rf_cv = grid_search_rf.best_estimator_.predict(X_val)\n",
        "    y_prob_rf_cv = grid_search_rf.best_estimator_.predict_proba(X_val)[:, 1]\n",
        "\n",
        "    #calcul des métriques\n",
        "    auc_score_rf_cv = roc_auc_score(y_val, y_prob_rf_cv)\n",
        "    accuracy_rf_cv = accuracy_score(y_val, y_pred_rf_cv)\n",
        "\n",
        "    #enregistrement des métriques\n",
        "    mlflow.log_metric(\"auc_cv\", auc_score_rf_cv)\n",
        "    mlflow.log_metric(\"accuracy_cv\", accuracy_rf_cv)\n",
        "\n",
        "    #enregistrement du modèle RandomForest avec les meilleurs paramètres\n",
        "    mlflow.sklearn.log_model(grid_search_rf.best_estimator_, \"random_forest_best_model\")\n",
        "\n",
        "print(f\"Best Random Forest Parameters: {best_params_rf}\")\n",
        "print(f\"Random Forest AUC_cv: {auc_score_rf_cv}, Accuracy_cv: {accuracy_rf_cv}\")"
      ],
      "metadata": {
        "id": "q1MvnKNklQJC"
      },
      "execution_count": null,
      "outputs": []
    },
    {
      "cell_type": "markdown",
      "source": [
        "penalized_score = fp + 10 * fn\n",
        "\n",
        "Je calcule le score en pénalisant les faux négatifs plus fortement"
      ],
      "metadata": {
        "id": "PMMMXvlldiBM"
      }
    },
    {
      "cell_type": "code",
      "source": [
        "from sklearn.metrics import confusion_matrix\n",
        "\n",
        "#l'expérience MLFlow : RandomForestClassifier\n",
        "mlflow.set_experiment(\"RandomForestClassifier\")\n",
        "\n",
        "#les hyperparamètres à explorer\n",
        "param_grid_rf = {\n",
        "    'n_estimators': [50, 100, 200],\n",
        "    'max_depth': [None, 10, 20, 30],\n",
        "    'min_samples_split': [2, 5, 10],\n",
        "    'random_state': [42]\n",
        "}\n",
        "\n",
        "# RUN 4\n",
        "#initialisation du RandomForestClassifier\n",
        "rf_clf = RandomForestClassifier()\n",
        "\n",
        "#la configuration de GridSearchCV\n",
        "grid_search_rf = GridSearchCV(estimator=rf_clf, param_grid=param_grid_rf, cv=5, scoring='accuracy')\n",
        "\n",
        "#exécution de GridSearchCV\n",
        "with mlflow.start_run(run_name='random_forest_grid_search_score'):\n",
        "    grid_search_rf.fit(X_train, y_train)\n",
        "\n",
        "    # Meilleurs paramètres et score\n",
        "    best_params_rf = grid_search_rf.best_params_\n",
        "    best_score_rf = grid_search_rf.best_score_\n",
        "\n",
        "    # Enregistrement des meilleurs paramètres\n",
        "    mlflow.log_params(best_params_rf)\n",
        "    mlflow.log_param(\"best_score\", best_score_rf)\n",
        "\n",
        "    # Prédictions avec les meilleurs paramètres\n",
        "    y_pred_rf = grid_search_rf.best_estimator_.predict(X_val)\n",
        "\n",
        "    # Calcul des métriques\n",
        "    confusion = confusion_matrix(y_val, y_pred_rf)\n",
        "    fp = confusion[0, 1]  # Faux positifs\n",
        "    fn = confusion[1, 0]  # Faux négatifs\n",
        "\n",
        "    penalized_score = fp + 10 * fn\n",
        "\n",
        "    try:\n",
        "        auc_score_rf = roc_auc_score(y_val, y_pred_rf)\n",
        "    except ValueError:\n",
        "        auc_score_rf = float('nan')\n",
        "\n",
        "    accuracy_rf = accuracy_score(y_val, y_pred_rf)\n",
        "\n",
        "    # Enregistrement des métriques\n",
        "    mlflow.log_metric(\"auc\", auc_score_rf)\n",
        "    mlflow.log_metric(\"accuracy\", accuracy_rf)\n",
        "    mlflow.log_metric(\"penalized_score\", penalized_score)\n",
        "\n",
        "    # Enregistrement du modèle RandomForest avec les meilleurs paramètres\n",
        "    mlflow.sklearn.log_model(grid_search_rf.best_estimator_, \"random_forest_best_model_score\")\n",
        "\n",
        "print(f\"Best Random Forest Parameters: {best_params_rf}\")\n",
        "print(f\"Random Forest AUC: {auc_score_rf}, Accuracy: {accuracy_rf}, Penalized Score: {penalized_score}\")"
      ],
      "metadata": {
        "id": "ZrBN0DHwdpsj"
      },
      "execution_count": null,
      "outputs": []
    },
    {
      "cell_type": "markdown",
      "source": [
        "##Light GBM"
      ],
      "metadata": {
        "id": "Nw4wBJnpVoFA"
      }
    },
    {
      "cell_type": "markdown",
      "source": [
        "###lightgbm_default"
      ],
      "metadata": {
        "id": "QWzup-QZmcxu"
      }
    },
    {
      "cell_type": "code",
      "source": [
        "import lightgbm as lgb\n",
        "from sklearn.metrics import accuracy_score, roc_auc_score, fbeta_score\n",
        "import mlflow\n",
        "import mlflow.sklearn\n",
        "from mlflow.models import ModelSignature\n",
        "from mlflow.types.schema import Schema, ColSpec\n",
        "import os\n",
        "\n",
        "# Initialisation du LightGBM avec hyperparamètres par défaut\n",
        "lgb_clf = lgb.LGBMClassifier()\n",
        "\n",
        "# MLflow expérience\n",
        "mlflow.set_experiment(\"LightGBM_default_SMOTE\")\n",
        "\n",
        "with mlflow.start_run(run_name='lightgbm_with_SMOTE_and_fbeta'):\n",
        "    # Enregistrement des hyperparamètres\n",
        "    mlflow.log_param(\"model_type\", \"LGBMClassifier\")\n",
        "    mlflow.log_param(\"boosting_type\", lgb_clf.boosting_type)\n",
        "    mlflow.log_param(\"num_leaves\", lgb_clf.num_leaves)\n",
        "    mlflow.log_param(\"learning_rate\", lgb_clf.learning_rate)\n",
        "    mlflow.log_param(\"n_estimators\", lgb_clf.n_estimators)\n",
        "    mlflow.log_param(\"max_depth\", lgb_clf.max_depth)\n",
        "\n",
        "    # Entraînement du modèle sur les données resamplées\n",
        "    lgb_clf.fit(X_train_resampled, y_train_resampled)\n",
        "\n",
        "    # Prédictions sur le jeu de validation (non-resamplé)\n",
        "    y_pred_lgb = lgb_clf.predict(X_val)\n",
        "    y_prob_lgb = lgb_clf.predict_proba(X_val)[:, 1]\n",
        "\n",
        "    # Calcul des métriques\n",
        "    try:\n",
        "        auc_score_lgb = roc_auc_score(y_val, y_prob_lgb)\n",
        "    except ValueError:\n",
        "        auc_score_lgb = float('nan')\n",
        "\n",
        "    accuracy_lgb = accuracy_score(y_val, y_pred_lgb)\n",
        "    fbeta_lgb = fbeta_score(y_val, y_pred_lgb, beta=10)\n",
        "\n",
        "    # Enregistrement des métriques\n",
        "    mlflow.log_metric(\"auc\", auc_score_lgb)\n",
        "    mlflow.log_metric(\"accuracy\", accuracy_lgb)\n",
        "    mlflow.log_metric(\"fbeta_score\", fbeta_lgb)\n",
        "\n",
        "    # Enregistrement du modèle dans MLflow (modèle temporaire)\n",
        "    model_uri = \"lightgbm_model_with_SMOTE_and_fbeta\"\n",
        "    mlflow.sklearn.log_model(lgb_clf, model_uri)\n",
        "\n",
        "    # Enregistrement du modèle dans le Model Registry\n",
        "    model_name = \"LightGBM_with_SMOTE_Model\"\n",
        "    registered_model_uri = mlflow.register_model(model_uri=f\"runs:/{mlflow.active_run().info.run_id}/{model_uri}\",\n",
        "                                                 name=model_name)\n",
        "\n",
        "# Résultats\n",
        "print(f\"LightGBM AUC: {auc_score_lgb}, Accuracy: {accuracy_lgb}, F-beta Score (β=10): {fbeta_lgb}\")\n"
      ],
      "metadata": {
        "id": "OhHPMNURivTQ",
        "outputId": "e314c8bf-d8c6-49db-f831-80acf121fc50",
        "colab": {
          "base_uri": "https://localhost:8080/"
        }
      },
      "execution_count": 9,
      "outputs": [
        {
          "output_type": "stream",
          "name": "stderr",
          "text": [
            "2024/09/27 14:07:39 INFO mlflow.tracking.fluent: Experiment with name 'LightGBM_default_SMOTE' does not exist. Creating a new experiment.\n"
          ]
        },
        {
          "output_type": "stream",
          "name": "stdout",
          "text": [
            "[LightGBM] [Info] Number of positive: 36770, number of negative: 36770\n",
            "[LightGBM] [Info] Auto-choosing col-wise multi-threading, the overhead of testing was 0.879243 seconds.\n",
            "You can set `force_col_wise=true` to remove the overhead.\n",
            "[LightGBM] [Info] Total Bins 115006\n",
            "[LightGBM] [Info] Number of data points in the train set: 73540, number of used features: 608\n",
            "[LightGBM] [Info] [binary:BoostFromScore]: pavg=0.500000 -> initscore=0.000000\n"
          ]
        },
        {
          "output_type": "stream",
          "name": "stderr",
          "text": [
            "2024/09/27 14:08:30 WARNING mlflow.models.model: Model logged without a signature and input example. Please set `input_example` parameter when logging the model to auto infer the model signature.\n"
          ]
        },
        {
          "output_type": "stream",
          "name": "stdout",
          "text": [
            "LightGBM AUC: 0.751969435286344, Accuracy: 0.9179, F-beta Score (β=10): 0.042509469931420366\n"
          ]
        },
        {
          "output_type": "stream",
          "name": "stderr",
          "text": [
            "Successfully registered model 'LightGBM_with_SMOTE_Model'.\n",
            "Created version '1' of model 'LightGBM_with_SMOTE_Model'.\n"
          ]
        }
      ]
    },
    {
      "cell_type": "markdown",
      "source": [
        "**Conclusion :**\n",
        "\n",
        "**Équilibrage des classes :**  \n",
        "\n",
        "Number of positive: 36770\n",
        "\n",
        "Number of negative: 36770\n",
        "\n",
        "Cela indique que SMOTE a bien fonctionné\n",
        "\n",
        "\n",
        "**Performance du modèle :**\n",
        "\n",
        "**AUC de 0.75 :**\n",
        "\n",
        "Ce score AUC (Area Under the Curve) indique une performance de classification correcte, mais pas exceptionnelle.\n",
        "\n",
        "Un score de 0.75 signifie que le modèle est capable de séparer correctement les classes positives et négatives dans environ 75 % des cas.\n",
        "\n",
        "\n",
        "**Accuracy de 91.79% :**\n",
        "\n",
        "Le modèle est très précis, mais cela peut être dû au déséquilibre des classes dans l'ensemble de validation, même après SMOTE sur l'entraînement.\n",
        "\n",
        "Il y a probablement beaucoup plus de classes négatives que positives, ce qui conduit à une haute précision.\n",
        "\n",
        "**F-beta Score (β=10) de 0.042 :**\n",
        "\n",
        "Ce score est très faible, ce qui montre que le modèle a des difficultés à identifier les classes positives.\n",
        "\n",
        "Le F-beta avec β=10 pénalise fortement les faux négatifs, et un faible score ici suggère que le modèle manque beaucoup de véritables positifs.\n",
        "\n",
        "\n",
        "**Version du modèle :** Une nouvelle version du modèle a été créée dans le Model Registry sous le nom LightGBM_with_SMOTE_Model, et c'est maintenant la version 3.\n",
        "\n",
        "**Conclusion générale :**\n",
        "\n",
        "Bien que le modèle affiche une haute précision et un AUC décent, son très faible F-beta score indique qu'il n'est pas bien adapté pour gérer le déséquilibre des classes lors de la prédiction des positifs."
      ],
      "metadata": {
        "id": "LM_J_8ADmYvE"
      }
    },
    {
      "cell_type": "markdown",
      "source": [
        "###lightgbm_hyper"
      ],
      "metadata": {
        "id": "e9bSPiSVmiQ_"
      }
    },
    {
      "cell_type": "code",
      "source": [
        "#l'expérience MLFlow : LightGBM\n",
        "mlflow.set_experiment(\"LightGBM\")\n",
        "\n",
        "# RUN 2: lightgbm_hyper\n",
        "\n",
        "#initialisation du LightGBM avec des hyperparamètres personnalisés\n",
        "lgb_clf_h1 = lgb.LGBMClassifier(\n",
        "    num_leaves=50,          #j'augmenter le nombre de feuilles\n",
        "    max_depth=10,           #la profondeur des arbres\n",
        "    learning_rate=0.05,     #je diminue le taux d'apprentissage\n",
        "    n_estimators=200        #j'augmenter le nombre d'estimations (arbres)\n",
        ")\n",
        "\n",
        "with mlflow.start_run(run_name='lightgbm_custom_h1'):\n",
        "    #enregistrement des hyperparamètres personnalisés\n",
        "    mlflow.log_param(\"model_type\", \"LGBMClassifier\")\n",
        "    mlflow.log_param(\"boosting_type\", lgb_clf_h1.boosting_type)  #c'était 'gbdt' par défaut\n",
        "    mlflow.log_param(\"num_leaves\", lgb_clf_h1.num_leaves)\n",
        "    mlflow.log_param(\"learning_rate\", lgb_clf_h1.learning_rate)\n",
        "    mlflow.log_param(\"n_estimators\", lgb_clf_h1.n_estimators)\n",
        "    mlflow.log_param(\"max_depth\", lgb_clf_h1.max_depth)\n",
        "\n",
        "    #entraînement du modèle\n",
        "    lgb_clf_h1.fit(X_train, y_train)\n",
        "\n",
        "    #la prédictions\n",
        "    y_pred_lgb_h1 = lgb_clf_h1.predict(X_val)\n",
        "    y_prob_lgb_h1 = lgb_clf_h1.predict_proba(X_val)[:, 1]\n",
        "\n",
        "    #je calcul les métriques\n",
        "    try:\n",
        "        auc_score_lgb_h1 = roc_auc_score(y_val, y_prob_lgb_h1)\n",
        "    except ValueError:\n",
        "        auc_score_lgb_h1 = float('nan')\n",
        "\n",
        "    accuracy_lgb_h1 = accuracy_score(y_val, y_pred_lgb_h1)\n",
        "\n",
        "    #l'enregistrement des métriques\n",
        "    mlflow.log_metric(\"auc_h1\", auc_score_lgb_h1)\n",
        "    mlflow.log_metric(\"accuracy_h1\", accuracy_lgb_h1)\n",
        "\n",
        "    #l'enregistrement du modèle LightGBM\n",
        "    mlflow.sklearn.log_model(lgb_clf_h1, \"lightgbm_custom_model_h1\")\n",
        "\n",
        "#les résultats pour vérification\n",
        "print(f\"LightGBM AUC_h1: {auc_score_lgb_h1}, Accuracy_h1: {accuracy_lgb_h1}\")\n"
      ],
      "metadata": {
        "id": "Z1pA8qbyW6ji"
      },
      "execution_count": null,
      "outputs": []
    },
    {
      "cell_type": "markdown",
      "source": [
        "###lightgbm_grid_search_cv"
      ],
      "metadata": {
        "id": "PZVIH0EkmwOB"
      }
    },
    {
      "cell_type": "code",
      "source": [
        "#l'expérience MLFlow : LightGBM\n",
        "mlflow.set_experiment(\"LightGBM\")\n",
        "\n",
        "#les hyperparamètres à explorer\n",
        "param_grid_lgb = {\n",
        "    'num_leaves': [31, 50, 70],\n",
        "    'max_depth': [-1, 10, 20],\n",
        "    'learning_rate': [0.01, 0.05, 0.1],\n",
        "    'n_estimators': [100, 200, 300]\n",
        "}\n",
        "\n",
        "#initialisation du LGBMClassifier\n",
        "lgb_clf_cv = lgb.LGBMClassifier()\n",
        "\n",
        "# RUN 3\n",
        "\n",
        "#configuration de GridSearchCV\n",
        "grid_search_lgb = GridSearchCV(estimator=lgb_clf_cv, param_grid=param_grid_lgb, cv=5, scoring='accuracy')\n",
        "\n",
        "#exécution de GridSearchCV\n",
        "with mlflow.start_run(run_name='lightgbm_grid_search_cv'):\n",
        "    grid_search_lgb.fit(X_train, y_train)\n",
        "\n",
        "    #meilleurs paramètres et score\n",
        "    best_params_lgb = grid_search_lgb.best_params_\n",
        "    best_score_lgb = grid_search_lgb.best_score_\n",
        "\n",
        "    #enregistrement des meilleurs paramètres\n",
        "    mlflow.log_params(best_params_lgb)\n",
        "    mlflow.log_param(\"best_score\", best_score_lgb)\n",
        "\n",
        "    #prédictions avec les meilleurs paramètres\n",
        "    y_pred_lgb_cv = grid_search_lgb.best_estimator_.predict(X_val)\n",
        "    y_prob_lgb_cv = grid_search_lgb.best_estimator_.predict_proba(X_val)[:, 1]\n",
        "\n",
        "    #calcul des métriques\n",
        "    auc_score_lgb_cv = roc_auc_score(y_val, y_prob_lgb_cv)\n",
        "    accuracy_lgb_cv = accuracy_score(y_val, y_pred_lgb_cv)\n",
        "\n",
        "    #enregistrement des métriques\n",
        "    mlflow.log_metric(\"auc_cv\", auc_score_lgb_cv)\n",
        "    mlflow.log_metric(\"accuracy_cv\", accuracy_lgb_cv)\n",
        "\n",
        "    #enregistrement du modèle LGBM avec les meilleurs paramètres\n",
        "    mlflow.sklearn.log_model(grid_search_lgb.best_estimator_, \"lightgbm_best_model\")\n",
        "\n",
        "print(f\"Best LightGBM Parameters: {best_params_lgb}\")\n",
        "print(f\"LightGBM AUC_cv: {auc_score_lgb_cv}, Accuracy_cv: {accuracy_lgb_cv}\")\n"
      ],
      "metadata": {
        "id": "RQBX6BasbFcL"
      },
      "execution_count": null,
      "outputs": []
    },
    {
      "cell_type": "markdown",
      "source": [
        "###lightgbm_GridSearchCV"
      ],
      "metadata": {
        "id": "j0KKSCNhm9Go"
      }
    },
    {
      "cell_type": "code",
      "source": [
        "import lightgbm as lgb\n",
        "from sklearn.metrics import accuracy_score, roc_auc_score, fbeta_score\n",
        "from sklearn.model_selection import GridSearchCV\n",
        "import mlflow\n",
        "import mlflow.sklearn\n",
        "from mlflow.models import ModelSignature\n",
        "from mlflow.types.schema import Schema, ColSpec\n",
        "import os\n",
        "\n",
        "# Définir la grille d'hyperparamètres à tester\n",
        "param_grid = {\n",
        "    'num_leaves': [31, 50, 70],\n",
        "    'learning_rate': [0.01, 0.05, 0.1],\n",
        "    'n_estimators': [100, 200, 500],\n",
        "    'max_depth': [-1, 10, 20],\n",
        "    'min_child_samples': [20, 50, 100]\n",
        "}\n",
        "\n",
        "# Initialisation du LightGBM avec hyperparamètres par défaut\n",
        "lgb_clf = lgb.LGBMClassifier()\n",
        "\n",
        "# GridSearchCV pour optimiser les hyperparamètres\n",
        "grid_search = GridSearchCV(estimator=lgb_clf, param_grid=param_grid, scoring='roc_auc', cv=5, n_jobs=-1, verbose=1)\n",
        "\n",
        "# MLflow expérience\n",
        "mlflow.set_experiment(\"LightGBM_GridSearchCV\")\n",
        "\n",
        "with mlflow.start_run(run_name='lightgbm_with_GridSearchCV'):\n",
        "    # Enregistrement des hyperparamètres avant GridSearch\n",
        "    mlflow.log_param(\"model_type\", \"LGBMClassifier\")\n",
        "\n",
        "    # Entraînement avec GridSearchCV sur les données resamplées\n",
        "    grid_search.fit(X_train_resampled, y_train_resampled)\n",
        "\n",
        "    # Obtenir les meilleurs hyperparamètres\n",
        "    best_params = grid_search.best_params_\n",
        "    print(f\"Meilleurs hyperparamètres trouvés : {best_params}\")\n",
        "\n",
        "    # Meilleur modèle entraîné : modèle entraîné avec les meilleurs hyperparamètres (best_lgb_model)\n",
        "    best_lgb_model = grid_search.best_estimator_\n",
        "\n",
        "    # Enregistrement des hyperparamètres optimisés\n",
        "    mlflow.log_params(best_params)\n",
        "\n",
        "    # Prédictions sur le jeu de validation (non-resamplé)\n",
        "    y_pred_lgb = best_lgb_model.predict(X_val)\n",
        "    y_prob_lgb = best_lgb_model.predict_proba(X_val)[:, 1]\n",
        "\n",
        "    # Calcul des métriques\n",
        "    try:\n",
        "        auc_score_lgb = roc_auc_score(y_val, y_prob_lgb)\n",
        "    except ValueError:\n",
        "        auc_score_lgb = float('nan')\n",
        "\n",
        "    accuracy_lgb = accuracy_score(y_val, y_pred_lgb)\n",
        "    fbeta_lgb = fbeta_score(y_val, y_pred_lgb, beta=10)\n",
        "\n",
        "    # Enregistrement des métriques\n",
        "    mlflow.log_metric(\"auc\", auc_score_lgb)\n",
        "    mlflow.log_metric(\"accuracy\", accuracy_lgb)\n",
        "    mlflow.log_metric(\"fbeta_score\", fbeta_lgb)\n",
        "\n",
        "    # Enregistrement du meilleur modèle dans MLflow (modèle temporaire)\n",
        "    model_uri = \"lightgbm_model_with_SMOTE_and_fbeta\"\n",
        "    mlflow.sklearn.log_model(best_lgb_model, model_uri)\n",
        "\n",
        "    # Enregistrement du modèle dans le Model Registry\n",
        "    model_name = \"LightGBM_with_SMOTE_Model\"\n",
        "    registered_model_uri = mlflow.register_model(model_uri=f\"runs:/{mlflow.active_run().info.run_id}/{model_uri}\",\n",
        "                                                 name=model_name)\n",
        "\n",
        "# Résultats finaux\n",
        "print(f\"LightGBM AUC: {auc_score_lgb}, Accuracy: {accuracy_lgb}, F-beta Score (β=10): {fbeta_lgb}\")"
      ],
      "metadata": {
        "id": "plQpcLDBzrUX"
      },
      "execution_count": 8,
      "outputs": []
    },
    {
      "cell_type": "markdown",
      "source": [
        "#MLFlow UI"
      ],
      "metadata": {
        "id": "gT4peLcNYwG5"
      }
    },
    {
      "cell_type": "code",
      "source": [
        "#maintenant pour visualiser sur mlflw j'ai besoin de ngrok\n",
        "#j'installe le package\n",
        "! pip install pyngrok"
      ],
      "metadata": {
        "colab": {
          "base_uri": "https://localhost:8080/"
        },
        "id": "Ud86_hc_YDAc",
        "outputId": "0c3e6738-edda-4cb7-dc01-a05a72733c57"
      },
      "execution_count": 34,
      "outputs": [
        {
          "output_type": "stream",
          "name": "stdout",
          "text": [
            "Collecting pyngrok\n",
            "  Downloading pyngrok-7.2.0-py3-none-any.whl.metadata (7.4 kB)\n",
            "Requirement already satisfied: PyYAML>=5.1 in /usr/local/lib/python3.10/dist-packages (from pyngrok) (6.0.2)\n",
            "Downloading pyngrok-7.2.0-py3-none-any.whl (22 kB)\n",
            "Installing collected packages: pyngrok\n",
            "Successfully installed pyngrok-7.2.0\n"
          ]
        }
      ]
    },
    {
      "cell_type": "code",
      "source": [
        "from pyngrok import ngrok\n",
        "#terminate open tunnels if exist\n",
        "ngrok.kill()\n",
        "\n",
        "#setting the authtoken (optional)\n",
        "NGROK_AUTH_TOKEN = \"2m0LsyXXeuXcuZ6p34hmutJGy1u_4yK2gMFBwyn1ka2HPfR1i\"\n",
        "ngrok.set_auth_token(NGROK_AUTH_TOKEN)\n",
        "\n",
        "#open an HTTPs tunnel on port 5000 for http://localhost:5000\n",
        "ngrok_tunnel = ngrok.connect(addr = \"5000\", proto= \"http\", bind_tls =True)\n",
        "print('MLFlow Tracking UI:', ngrok_tunnel.public_url)"
      ],
      "metadata": {
        "colab": {
          "base_uri": "https://localhost:8080/"
        },
        "id": "DyNRcBeRYD7_",
        "outputId": "603d1268-452d-4400-da8e-11cdd65c1081"
      },
      "execution_count": 61,
      "outputs": [
        {
          "output_type": "stream",
          "name": "stdout",
          "text": [
            "MLFlow Tracking UI: https://4955-34-32-209-47.ngrok-free.app\n"
          ]
        }
      ]
    },
    {
      "cell_type": "code",
      "source": [
        "#afin de visualiser les expérimentations avec MLFlow, j'exécute l'interface utilisateur\n",
        "!mlflow ui"
      ],
      "metadata": {
        "colab": {
          "base_uri": "https://localhost:8080/"
        },
        "id": "Q-NvMgCtYLYa",
        "outputId": "1ec8c428-eec9-4c7b-c08f-0155048b5934"
      },
      "execution_count": 62,
      "outputs": [
        {
          "output_type": "stream",
          "name": "stdout",
          "text": [
            "[2024-09-27 12:55:44 +0000] [83983] [INFO] Starting gunicorn 23.0.0\n",
            "[2024-09-27 12:55:44 +0000] [83983] [INFO] Listening at: http://127.0.0.1:5000 (83983)\n",
            "[2024-09-27 12:55:44 +0000] [83983] [INFO] Using worker: sync\n",
            "[2024-09-27 12:55:44 +0000] [83988] [INFO] Booting worker with pid: 83988\n",
            "[2024-09-27 12:55:44 +0000] [83989] [INFO] Booting worker with pid: 83989\n",
            "[2024-09-27 12:55:44 +0000] [83990] [INFO] Booting worker with pid: 83990\n",
            "[2024-09-27 12:55:44 +0000] [83991] [INFO] Booting worker with pid: 83991\n",
            "[2024-09-27 12:59:47 +0000] [83983] [INFO] Handling signal: int\n",
            "\n",
            "Aborted!\n",
            "[2024-09-27 12:59:47 +0000] [83991] [INFO] Worker exiting (pid: 83991)\n",
            "[2024-09-27 12:59:47 +0000] [83989] [INFO] Worker exiting (pid: 83989)\n",
            "[2024-09-27 12:59:47 +0000] [83988] [INFO] Worker exiting (pid: 83988)\n",
            "[2024-09-27 12:59:47 +0000] [83990] [INFO] Worker exiting (pid: 83990)\n",
            "[2024-09-27 12:59:49 +0000] [83983] [INFO] Shutting down: Master\n"
          ]
        }
      ]
    }
  ]
}