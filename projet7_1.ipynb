{
  "nbformat": 4,
  "nbformat_minor": 0,
  "metadata": {
    "colab": {
      "provenance": [],
      "toc_visible": true,
      "authorship_tag": "ABX9TyNB0JCMjge1rDcgXSY+cvl8",
      "include_colab_link": true
    },
    "kernelspec": {
      "name": "python3",
      "display_name": "Python 3"
    },
    "language_info": {
      "name": "python"
    }
  },
  "cells": [
    {
      "cell_type": "markdown",
      "metadata": {
        "id": "view-in-github",
        "colab_type": "text"
      },
      "source": [
        "<a href=\"https://colab.research.google.com/github/Manal-L/implementez_modele_scoring/blob/main/projet7_1.ipynb\" target=\"_parent\"><img src=\"https://colab.research.google.com/assets/colab-badge.svg\" alt=\"Open In Colab\"/></a>"
      ]
    },
    {
      "cell_type": "markdown",
      "source": [
        "\n",
        "Implémentez un modèle de scoring"
      ],
      "metadata": {
        "id": "C-ZGz8ZMzU52"
      }
    },
    {
      "cell_type": "markdown",
      "source": [
        "#Chargement des données"
      ],
      "metadata": {
        "id": "33wuzhgcK0DB"
      }
    },
    {
      "cell_type": "code",
      "source": [
        "import pandas as pd\n",
        "import zipfile\n",
        "from google.colab import drive\n",
        "\n",
        "drive.mount('/content/drive')\n",
        "\n",
        "#le chemin vers le fichier\n",
        "file_path = '/content/drive/My Drive/df_clean.zip'\n",
        "\n",
        "with zipfile.ZipFile(file_path, 'r') as zip_ref:\n",
        "    zip_ref.extractall('/content/')"
      ],
      "metadata": {
        "colab": {
          "base_uri": "https://localhost:8080/"
        },
        "id": "Q6QELSQEEnlo",
        "outputId": "309c6d5c-7811-4b40-e295-a6b42c78a881"
      },
      "execution_count": 1,
      "outputs": [
        {
          "output_type": "stream",
          "name": "stdout",
          "text": [
            "Mounted at /content/drive\n"
          ]
        }
      ]
    },
    {
      "cell_type": "code",
      "source": [
        "import os\n",
        "os.chdir('/content/drive/My Drive/MLflow')\n"
      ],
      "metadata": {
        "colab": {
          "base_uri": "https://localhost:8080/"
        },
        "id": "wjdOO4maMZyZ",
        "outputId": "a211eca1-5426-48b7-8e83-52de38340336"
      },
      "execution_count": 14,
      "outputs": [
        {
          "output_type": "stream",
          "name": "stdout",
          "text": [
            "Drive already mounted at /content/drive; to attempt to forcibly remount, call drive.mount(\"/content/drive\", force_remount=True).\n"
          ]
        }
      ]
    },
    {
      "cell_type": "code",
      "source": [
        "!ls"
      ],
      "metadata": {
        "id": "-Qv3R87iNghJ"
      },
      "execution_count": 16,
      "outputs": []
    },
    {
      "cell_type": "code",
      "source": [
        "df = pd.read_csv('df_clean.csv')\n",
        "print(df.shape)\n",
        "df.head()"
      ],
      "metadata": {
        "id": "ma5LKB6PEni-"
      },
      "execution_count": null,
      "outputs": []
    },
    {
      "cell_type": "code",
      "source": [
        "list(df)"
      ],
      "metadata": {
        "colab": {
          "base_uri": "https://localhost:8080/"
        },
        "id": "1xDPmBi6ui2c",
        "outputId": "aaf955f1-fe2a-44ba-8a38-f220bc592de0"
      },
      "execution_count": 3,
      "outputs": [
        {
          "output_type": "execute_result",
          "data": {
            "text/plain": [
              "['SK_ID_CURR',\n",
              " 'TARGET',\n",
              " 'CODE_GENDER',\n",
              " 'FLAG_OWN_CAR',\n",
              " 'FLAG_OWN_REALTY',\n",
              " 'CNT_CHILDREN',\n",
              " 'AMT_INCOME_TOTAL',\n",
              " 'AMT_CREDIT',\n",
              " 'AMT_ANNUITY',\n",
              " 'AMT_GOODS_PRICE',\n",
              " 'REGION_POPULATION_RELATIVE',\n",
              " 'DAYS_BIRTH',\n",
              " 'DAYS_EMPLOYED',\n",
              " 'DAYS_REGISTRATION',\n",
              " 'DAYS_ID_PUBLISH',\n",
              " 'OWN_CAR_AGE',\n",
              " 'FLAG_MOBIL',\n",
              " 'FLAG_EMP_PHONE',\n",
              " 'FLAG_WORK_PHONE',\n",
              " 'FLAG_CONT_MOBILE',\n",
              " 'FLAG_PHONE',\n",
              " 'FLAG_EMAIL',\n",
              " 'CNT_FAM_MEMBERS',\n",
              " 'REGION_RATING_CLIENT',\n",
              " 'REGION_RATING_CLIENT_W_CITY',\n",
              " 'HOUR_APPR_PROCESS_START',\n",
              " 'REG_REGION_NOT_LIVE_REGION',\n",
              " 'REG_REGION_NOT_WORK_REGION',\n",
              " 'LIVE_REGION_NOT_WORK_REGION',\n",
              " 'REG_CITY_NOT_LIVE_CITY',\n",
              " 'REG_CITY_NOT_WORK_CITY',\n",
              " 'LIVE_CITY_NOT_WORK_CITY',\n",
              " 'EXT_SOURCE_1',\n",
              " 'EXT_SOURCE_2',\n",
              " 'EXT_SOURCE_3',\n",
              " 'APARTMENTS_AVG',\n",
              " 'BASEMENTAREA_AVG',\n",
              " 'YEARS_BEGINEXPLUATATION_AVG',\n",
              " 'YEARS_BUILD_AVG',\n",
              " 'COMMONAREA_AVG',\n",
              " 'ELEVATORS_AVG',\n",
              " 'ENTRANCES_AVG',\n",
              " 'FLOORSMAX_AVG',\n",
              " 'FLOORSMIN_AVG',\n",
              " 'LANDAREA_AVG',\n",
              " 'LIVINGAPARTMENTS_AVG',\n",
              " 'LIVINGAREA_AVG',\n",
              " 'NONLIVINGAPARTMENTS_AVG',\n",
              " 'NONLIVINGAREA_AVG',\n",
              " 'APARTMENTS_MODE',\n",
              " 'BASEMENTAREA_MODE',\n",
              " 'YEARS_BEGINEXPLUATATION_MODE',\n",
              " 'YEARS_BUILD_MODE',\n",
              " 'COMMONAREA_MODE',\n",
              " 'ELEVATORS_MODE',\n",
              " 'ENTRANCES_MODE',\n",
              " 'FLOORSMAX_MODE',\n",
              " 'FLOORSMIN_MODE',\n",
              " 'LANDAREA_MODE',\n",
              " 'LIVINGAPARTMENTS_MODE',\n",
              " 'LIVINGAREA_MODE',\n",
              " 'NONLIVINGAPARTMENTS_MODE',\n",
              " 'NONLIVINGAREA_MODE',\n",
              " 'APARTMENTS_MEDI',\n",
              " 'BASEMENTAREA_MEDI',\n",
              " 'YEARS_BEGINEXPLUATATION_MEDI',\n",
              " 'YEARS_BUILD_MEDI',\n",
              " 'COMMONAREA_MEDI',\n",
              " 'ELEVATORS_MEDI',\n",
              " 'ENTRANCES_MEDI',\n",
              " 'FLOORSMAX_MEDI',\n",
              " 'FLOORSMIN_MEDI',\n",
              " 'LANDAREA_MEDI',\n",
              " 'LIVINGAPARTMENTS_MEDI',\n",
              " 'LIVINGAREA_MEDI',\n",
              " 'NONLIVINGAPARTMENTS_MEDI',\n",
              " 'NONLIVINGAREA_MEDI',\n",
              " 'TOTALAREA_MODE',\n",
              " 'OBS_30_CNT_SOCIAL_CIRCLE',\n",
              " 'DEF_30_CNT_SOCIAL_CIRCLE',\n",
              " 'OBS_60_CNT_SOCIAL_CIRCLE',\n",
              " 'DEF_60_CNT_SOCIAL_CIRCLE',\n",
              " 'DAYS_LAST_PHONE_CHANGE',\n",
              " 'FLAG_DOCUMENT_2',\n",
              " 'FLAG_DOCUMENT_3',\n",
              " 'FLAG_DOCUMENT_4',\n",
              " 'FLAG_DOCUMENT_5',\n",
              " 'FLAG_DOCUMENT_6',\n",
              " 'FLAG_DOCUMENT_7',\n",
              " 'FLAG_DOCUMENT_8',\n",
              " 'FLAG_DOCUMENT_9',\n",
              " 'FLAG_DOCUMENT_10',\n",
              " 'FLAG_DOCUMENT_11',\n",
              " 'FLAG_DOCUMENT_12',\n",
              " 'FLAG_DOCUMENT_13',\n",
              " 'FLAG_DOCUMENT_14',\n",
              " 'FLAG_DOCUMENT_15',\n",
              " 'FLAG_DOCUMENT_16',\n",
              " 'FLAG_DOCUMENT_17',\n",
              " 'FLAG_DOCUMENT_18',\n",
              " 'FLAG_DOCUMENT_19',\n",
              " 'FLAG_DOCUMENT_20',\n",
              " 'FLAG_DOCUMENT_21',\n",
              " 'AMT_REQ_CREDIT_BUREAU_HOUR',\n",
              " 'AMT_REQ_CREDIT_BUREAU_DAY',\n",
              " 'AMT_REQ_CREDIT_BUREAU_WEEK',\n",
              " 'AMT_REQ_CREDIT_BUREAU_MON',\n",
              " 'AMT_REQ_CREDIT_BUREAU_QRT',\n",
              " 'AMT_REQ_CREDIT_BUREAU_YEAR',\n",
              " 'NAME_CONTRACT_TYPE_Cash loans',\n",
              " 'NAME_CONTRACT_TYPE_Revolving loans',\n",
              " 'NAME_TYPE_SUITE_Children',\n",
              " 'NAME_TYPE_SUITE_Family',\n",
              " 'NAME_TYPE_SUITE_Group of people',\n",
              " 'NAME_TYPE_SUITE_Other_A',\n",
              " 'NAME_TYPE_SUITE_Other_B',\n",
              " 'NAME_TYPE_SUITE_Spouse, partner',\n",
              " 'NAME_TYPE_SUITE_Unaccompanied',\n",
              " 'NAME_INCOME_TYPE_Businessman',\n",
              " 'NAME_INCOME_TYPE_Commercial associate',\n",
              " 'NAME_INCOME_TYPE_Maternity leave',\n",
              " 'NAME_INCOME_TYPE_Pensioner',\n",
              " 'NAME_INCOME_TYPE_State servant',\n",
              " 'NAME_INCOME_TYPE_Student',\n",
              " 'NAME_INCOME_TYPE_Unemployed',\n",
              " 'NAME_INCOME_TYPE_Working',\n",
              " 'NAME_EDUCATION_TYPE_Academic degree',\n",
              " 'NAME_EDUCATION_TYPE_Higher education',\n",
              " 'NAME_EDUCATION_TYPE_Incomplete higher',\n",
              " 'NAME_EDUCATION_TYPE_Lower secondary',\n",
              " 'NAME_EDUCATION_TYPE_Secondary / secondary special',\n",
              " 'NAME_FAMILY_STATUS_Civil marriage',\n",
              " 'NAME_FAMILY_STATUS_Married',\n",
              " 'NAME_FAMILY_STATUS_Separated',\n",
              " 'NAME_FAMILY_STATUS_Single / not married',\n",
              " 'NAME_FAMILY_STATUS_Unknown',\n",
              " 'NAME_FAMILY_STATUS_Widow',\n",
              " 'NAME_HOUSING_TYPE_Co-op apartment',\n",
              " 'NAME_HOUSING_TYPE_House / apartment',\n",
              " 'NAME_HOUSING_TYPE_Municipal apartment',\n",
              " 'NAME_HOUSING_TYPE_Office apartment',\n",
              " 'NAME_HOUSING_TYPE_Rented apartment',\n",
              " 'NAME_HOUSING_TYPE_With parents',\n",
              " 'OCCUPATION_TYPE_Accountants',\n",
              " 'OCCUPATION_TYPE_Cleaning staff',\n",
              " 'OCCUPATION_TYPE_Cooking staff',\n",
              " 'OCCUPATION_TYPE_Core staff',\n",
              " 'OCCUPATION_TYPE_Drivers',\n",
              " 'OCCUPATION_TYPE_HR staff',\n",
              " 'OCCUPATION_TYPE_High skill tech staff',\n",
              " 'OCCUPATION_TYPE_IT staff',\n",
              " 'OCCUPATION_TYPE_Laborers',\n",
              " 'OCCUPATION_TYPE_Low-skill Laborers',\n",
              " 'OCCUPATION_TYPE_Managers',\n",
              " 'OCCUPATION_TYPE_Medicine staff',\n",
              " 'OCCUPATION_TYPE_Private service staff',\n",
              " 'OCCUPATION_TYPE_Realty agents',\n",
              " 'OCCUPATION_TYPE_Sales staff',\n",
              " 'OCCUPATION_TYPE_Secretaries',\n",
              " 'OCCUPATION_TYPE_Security staff',\n",
              " 'OCCUPATION_TYPE_Waiters/barmen staff',\n",
              " 'WEEKDAY_APPR_PROCESS_START_FRIDAY',\n",
              " 'WEEKDAY_APPR_PROCESS_START_MONDAY',\n",
              " 'WEEKDAY_APPR_PROCESS_START_SATURDAY',\n",
              " 'WEEKDAY_APPR_PROCESS_START_SUNDAY',\n",
              " 'WEEKDAY_APPR_PROCESS_START_THURSDAY',\n",
              " 'WEEKDAY_APPR_PROCESS_START_TUESDAY',\n",
              " 'WEEKDAY_APPR_PROCESS_START_WEDNESDAY',\n",
              " 'ORGANIZATION_TYPE_Advertising',\n",
              " 'ORGANIZATION_TYPE_Agriculture',\n",
              " 'ORGANIZATION_TYPE_Bank',\n",
              " 'ORGANIZATION_TYPE_Business Entity Type 1',\n",
              " 'ORGANIZATION_TYPE_Business Entity Type 2',\n",
              " 'ORGANIZATION_TYPE_Business Entity Type 3',\n",
              " 'ORGANIZATION_TYPE_Cleaning',\n",
              " 'ORGANIZATION_TYPE_Construction',\n",
              " 'ORGANIZATION_TYPE_Culture',\n",
              " 'ORGANIZATION_TYPE_Electricity',\n",
              " 'ORGANIZATION_TYPE_Emergency',\n",
              " 'ORGANIZATION_TYPE_Government',\n",
              " 'ORGANIZATION_TYPE_Hotel',\n",
              " 'ORGANIZATION_TYPE_Housing',\n",
              " 'ORGANIZATION_TYPE_Industry: type 1',\n",
              " 'ORGANIZATION_TYPE_Industry: type 10',\n",
              " 'ORGANIZATION_TYPE_Industry: type 11',\n",
              " 'ORGANIZATION_TYPE_Industry: type 12',\n",
              " 'ORGANIZATION_TYPE_Industry: type 13',\n",
              " 'ORGANIZATION_TYPE_Industry: type 2',\n",
              " 'ORGANIZATION_TYPE_Industry: type 3',\n",
              " 'ORGANIZATION_TYPE_Industry: type 4',\n",
              " 'ORGANIZATION_TYPE_Industry: type 5',\n",
              " 'ORGANIZATION_TYPE_Industry: type 6',\n",
              " 'ORGANIZATION_TYPE_Industry: type 7',\n",
              " 'ORGANIZATION_TYPE_Industry: type 8',\n",
              " 'ORGANIZATION_TYPE_Industry: type 9',\n",
              " 'ORGANIZATION_TYPE_Insurance',\n",
              " 'ORGANIZATION_TYPE_Kindergarten',\n",
              " 'ORGANIZATION_TYPE_Legal Services',\n",
              " 'ORGANIZATION_TYPE_Medicine',\n",
              " 'ORGANIZATION_TYPE_Military',\n",
              " 'ORGANIZATION_TYPE_Mobile',\n",
              " 'ORGANIZATION_TYPE_Other',\n",
              " 'ORGANIZATION_TYPE_Police',\n",
              " 'ORGANIZATION_TYPE_Postal',\n",
              " 'ORGANIZATION_TYPE_Realtor',\n",
              " 'ORGANIZATION_TYPE_Religion',\n",
              " 'ORGANIZATION_TYPE_Restaurant',\n",
              " 'ORGANIZATION_TYPE_School',\n",
              " 'ORGANIZATION_TYPE_Security',\n",
              " 'ORGANIZATION_TYPE_Security Ministries',\n",
              " 'ORGANIZATION_TYPE_Self-employed',\n",
              " 'ORGANIZATION_TYPE_Services',\n",
              " 'ORGANIZATION_TYPE_Telecom',\n",
              " 'ORGANIZATION_TYPE_Trade: type 1',\n",
              " 'ORGANIZATION_TYPE_Trade: type 2',\n",
              " 'ORGANIZATION_TYPE_Trade: type 3',\n",
              " 'ORGANIZATION_TYPE_Trade: type 4',\n",
              " 'ORGANIZATION_TYPE_Trade: type 5',\n",
              " 'ORGANIZATION_TYPE_Trade: type 6',\n",
              " 'ORGANIZATION_TYPE_Trade: type 7',\n",
              " 'ORGANIZATION_TYPE_Transport: type 1',\n",
              " 'ORGANIZATION_TYPE_Transport: type 2',\n",
              " 'ORGANIZATION_TYPE_Transport: type 3',\n",
              " 'ORGANIZATION_TYPE_Transport: type 4',\n",
              " 'ORGANIZATION_TYPE_University',\n",
              " 'ORGANIZATION_TYPE_XNA',\n",
              " 'FONDKAPREMONT_MODE_not specified',\n",
              " 'FONDKAPREMONT_MODE_org spec account',\n",
              " 'FONDKAPREMONT_MODE_reg oper account',\n",
              " 'FONDKAPREMONT_MODE_reg oper spec account',\n",
              " 'HOUSETYPE_MODE_block of flats',\n",
              " 'HOUSETYPE_MODE_specific housing',\n",
              " 'HOUSETYPE_MODE_terraced house',\n",
              " 'WALLSMATERIAL_MODE_Block',\n",
              " 'WALLSMATERIAL_MODE_Mixed',\n",
              " 'WALLSMATERIAL_MODE_Monolithic',\n",
              " 'WALLSMATERIAL_MODE_Others',\n",
              " 'WALLSMATERIAL_MODE_Panel',\n",
              " 'WALLSMATERIAL_MODE_Stone, brick',\n",
              " 'WALLSMATERIAL_MODE_Wooden',\n",
              " 'EMERGENCYSTATE_MODE_No',\n",
              " 'EMERGENCYSTATE_MODE_Yes',\n",
              " 'DAYS_EMPLOYED_PERC',\n",
              " 'INCOME_CREDIT_PERC',\n",
              " 'INCOME_PER_PERSON',\n",
              " 'ANNUITY_INCOME_PERC',\n",
              " 'PAYMENT_RATE',\n",
              " 'BURO_DAYS_CREDIT_MIN',\n",
              " 'BURO_DAYS_CREDIT_MAX',\n",
              " 'BURO_DAYS_CREDIT_MEAN',\n",
              " 'BURO_DAYS_CREDIT_VAR',\n",
              " 'BURO_DAYS_CREDIT_ENDDATE_MIN',\n",
              " 'BURO_DAYS_CREDIT_ENDDATE_MAX',\n",
              " 'BURO_DAYS_CREDIT_ENDDATE_MEAN',\n",
              " 'BURO_DAYS_CREDIT_UPDATE_MEAN',\n",
              " 'BURO_CREDIT_DAY_OVERDUE_MAX',\n",
              " 'BURO_CREDIT_DAY_OVERDUE_MEAN',\n",
              " 'BURO_AMT_CREDIT_MAX_OVERDUE_MEAN',\n",
              " 'BURO_AMT_CREDIT_SUM_MAX',\n",
              " 'BURO_AMT_CREDIT_SUM_MEAN',\n",
              " 'BURO_AMT_CREDIT_SUM_SUM',\n",
              " 'BURO_AMT_CREDIT_SUM_DEBT_MAX',\n",
              " 'BURO_AMT_CREDIT_SUM_DEBT_MEAN',\n",
              " 'BURO_AMT_CREDIT_SUM_DEBT_SUM',\n",
              " 'BURO_AMT_CREDIT_SUM_OVERDUE_MEAN',\n",
              " 'BURO_AMT_CREDIT_SUM_LIMIT_MEAN',\n",
              " 'BURO_AMT_CREDIT_SUM_LIMIT_SUM',\n",
              " 'BURO_AMT_ANNUITY_MAX',\n",
              " 'BURO_AMT_ANNUITY_MEAN',\n",
              " 'BURO_CNT_CREDIT_PROLONG_SUM',\n",
              " 'BURO_MONTHS_BALANCE_MIN_MIN',\n",
              " 'BURO_MONTHS_BALANCE_MAX_MAX',\n",
              " 'BURO_MONTHS_BALANCE_SIZE_MEAN',\n",
              " 'BURO_MONTHS_BALANCE_SIZE_SUM',\n",
              " 'BURO_CREDIT_ACTIVE_Active_MEAN',\n",
              " 'BURO_CREDIT_ACTIVE_Bad debt_MEAN',\n",
              " 'BURO_CREDIT_ACTIVE_Closed_MEAN',\n",
              " 'BURO_CREDIT_ACTIVE_Sold_MEAN',\n",
              " 'BURO_CREDIT_CURRENCY_currency 1_MEAN',\n",
              " 'BURO_CREDIT_CURRENCY_currency 2_MEAN',\n",
              " 'BURO_CREDIT_CURRENCY_currency 3_MEAN',\n",
              " 'BURO_CREDIT_CURRENCY_currency 4_MEAN',\n",
              " 'BURO_CREDIT_TYPE_Another type of loan_MEAN',\n",
              " 'BURO_CREDIT_TYPE_Car loan_MEAN',\n",
              " 'BURO_CREDIT_TYPE_Cash loan (non-earmarked)_MEAN',\n",
              " 'BURO_CREDIT_TYPE_Consumer credit_MEAN',\n",
              " 'BURO_CREDIT_TYPE_Credit card_MEAN',\n",
              " 'BURO_CREDIT_TYPE_Interbank credit_MEAN',\n",
              " 'BURO_CREDIT_TYPE_Loan for business development_MEAN',\n",
              " 'BURO_CREDIT_TYPE_Loan for purchase of shares (margin lending)_MEAN',\n",
              " 'BURO_CREDIT_TYPE_Loan for the purchase of equipment_MEAN',\n",
              " 'BURO_CREDIT_TYPE_Loan for working capital replenishment_MEAN',\n",
              " 'BURO_CREDIT_TYPE_Microloan_MEAN',\n",
              " 'BURO_CREDIT_TYPE_Mobile operator loan_MEAN',\n",
              " 'BURO_CREDIT_TYPE_Mortgage_MEAN',\n",
              " 'BURO_CREDIT_TYPE_Real estate loan_MEAN',\n",
              " 'BURO_CREDIT_TYPE_Unknown type of loan_MEAN',\n",
              " 'BURO_STATUS_0_MEAN_MEAN',\n",
              " 'BURO_STATUS_1_MEAN_MEAN',\n",
              " 'BURO_STATUS_2_MEAN_MEAN',\n",
              " 'BURO_STATUS_3_MEAN_MEAN',\n",
              " 'BURO_STATUS_4_MEAN_MEAN',\n",
              " 'BURO_STATUS_5_MEAN_MEAN',\n",
              " 'BURO_STATUS_C_MEAN_MEAN',\n",
              " 'BURO_STATUS_X_MEAN_MEAN',\n",
              " 'ACTIVE_DAYS_CREDIT_MIN',\n",
              " 'ACTIVE_DAYS_CREDIT_MAX',\n",
              " 'ACTIVE_DAYS_CREDIT_MEAN',\n",
              " 'ACTIVE_DAYS_CREDIT_VAR',\n",
              " 'ACTIVE_DAYS_CREDIT_ENDDATE_MIN',\n",
              " 'ACTIVE_DAYS_CREDIT_ENDDATE_MAX',\n",
              " 'ACTIVE_DAYS_CREDIT_ENDDATE_MEAN',\n",
              " 'ACTIVE_DAYS_CREDIT_UPDATE_MEAN',\n",
              " 'ACTIVE_CREDIT_DAY_OVERDUE_MAX',\n",
              " 'ACTIVE_CREDIT_DAY_OVERDUE_MEAN',\n",
              " 'ACTIVE_AMT_CREDIT_MAX_OVERDUE_MEAN',\n",
              " 'ACTIVE_AMT_CREDIT_SUM_MAX',\n",
              " 'ACTIVE_AMT_CREDIT_SUM_MEAN',\n",
              " 'ACTIVE_AMT_CREDIT_SUM_SUM',\n",
              " 'ACTIVE_AMT_CREDIT_SUM_DEBT_MAX',\n",
              " 'ACTIVE_AMT_CREDIT_SUM_DEBT_MEAN',\n",
              " 'ACTIVE_AMT_CREDIT_SUM_DEBT_SUM',\n",
              " 'ACTIVE_AMT_CREDIT_SUM_OVERDUE_MEAN',\n",
              " 'ACTIVE_AMT_CREDIT_SUM_LIMIT_MEAN',\n",
              " 'ACTIVE_AMT_CREDIT_SUM_LIMIT_SUM',\n",
              " 'ACTIVE_AMT_ANNUITY_MAX',\n",
              " 'ACTIVE_AMT_ANNUITY_MEAN',\n",
              " 'ACTIVE_CNT_CREDIT_PROLONG_SUM',\n",
              " 'ACTIVE_MONTHS_BALANCE_MIN_MIN',\n",
              " 'ACTIVE_MONTHS_BALANCE_MAX_MAX',\n",
              " 'ACTIVE_MONTHS_BALANCE_SIZE_MEAN',\n",
              " 'ACTIVE_MONTHS_BALANCE_SIZE_SUM',\n",
              " 'CLOSED_DAYS_CREDIT_MIN',\n",
              " 'CLOSED_DAYS_CREDIT_MAX',\n",
              " 'CLOSED_DAYS_CREDIT_MEAN',\n",
              " 'CLOSED_DAYS_CREDIT_VAR',\n",
              " 'CLOSED_DAYS_CREDIT_ENDDATE_MIN',\n",
              " 'CLOSED_DAYS_CREDIT_ENDDATE_MAX',\n",
              " 'CLOSED_DAYS_CREDIT_ENDDATE_MEAN',\n",
              " 'CLOSED_DAYS_CREDIT_UPDATE_MEAN',\n",
              " 'CLOSED_CREDIT_DAY_OVERDUE_MAX',\n",
              " 'CLOSED_CREDIT_DAY_OVERDUE_MEAN',\n",
              " 'CLOSED_AMT_CREDIT_MAX_OVERDUE_MEAN',\n",
              " 'CLOSED_AMT_CREDIT_SUM_MAX',\n",
              " 'CLOSED_AMT_CREDIT_SUM_MEAN',\n",
              " 'CLOSED_AMT_CREDIT_SUM_SUM',\n",
              " 'CLOSED_AMT_CREDIT_SUM_DEBT_MAX',\n",
              " 'CLOSED_AMT_CREDIT_SUM_DEBT_MEAN',\n",
              " 'CLOSED_AMT_CREDIT_SUM_DEBT_SUM',\n",
              " 'CLOSED_AMT_CREDIT_SUM_OVERDUE_MEAN',\n",
              " 'CLOSED_AMT_CREDIT_SUM_LIMIT_MEAN',\n",
              " 'CLOSED_AMT_CREDIT_SUM_LIMIT_SUM',\n",
              " 'CLOSED_AMT_ANNUITY_MAX',\n",
              " 'CLOSED_AMT_ANNUITY_MEAN',\n",
              " 'CLOSED_CNT_CREDIT_PROLONG_SUM',\n",
              " 'CLOSED_MONTHS_BALANCE_MIN_MIN',\n",
              " 'CLOSED_MONTHS_BALANCE_MAX_MAX',\n",
              " 'CLOSED_MONTHS_BALANCE_SIZE_MEAN',\n",
              " 'CLOSED_MONTHS_BALANCE_SIZE_SUM',\n",
              " 'PREV_AMT_ANNUITY_MIN',\n",
              " 'PREV_AMT_ANNUITY_MAX',\n",
              " 'PREV_AMT_ANNUITY_MEAN',\n",
              " 'PREV_AMT_APPLICATION_MIN',\n",
              " 'PREV_AMT_APPLICATION_MAX',\n",
              " 'PREV_AMT_APPLICATION_MEAN',\n",
              " 'PREV_AMT_CREDIT_MIN',\n",
              " 'PREV_AMT_CREDIT_MAX',\n",
              " 'PREV_AMT_CREDIT_MEAN',\n",
              " 'PREV_APP_CREDIT_PERC_MIN',\n",
              " 'PREV_APP_CREDIT_PERC_MAX',\n",
              " 'PREV_APP_CREDIT_PERC_MEAN',\n",
              " 'PREV_APP_CREDIT_PERC_VAR',\n",
              " 'PREV_AMT_DOWN_PAYMENT_MIN',\n",
              " 'PREV_AMT_DOWN_PAYMENT_MAX',\n",
              " 'PREV_AMT_DOWN_PAYMENT_MEAN',\n",
              " 'PREV_AMT_GOODS_PRICE_MIN',\n",
              " 'PREV_AMT_GOODS_PRICE_MAX',\n",
              " 'PREV_AMT_GOODS_PRICE_MEAN',\n",
              " 'PREV_HOUR_APPR_PROCESS_START_MIN',\n",
              " 'PREV_HOUR_APPR_PROCESS_START_MAX',\n",
              " 'PREV_HOUR_APPR_PROCESS_START_MEAN',\n",
              " 'PREV_RATE_DOWN_PAYMENT_MIN',\n",
              " 'PREV_RATE_DOWN_PAYMENT_MAX',\n",
              " 'PREV_RATE_DOWN_PAYMENT_MEAN',\n",
              " 'PREV_DAYS_DECISION_MIN',\n",
              " 'PREV_DAYS_DECISION_MAX',\n",
              " 'PREV_DAYS_DECISION_MEAN',\n",
              " 'PREV_CNT_PAYMENT_MEAN',\n",
              " 'PREV_CNT_PAYMENT_SUM',\n",
              " 'PREV_NAME_CONTRACT_TYPE_Cash loans_MEAN',\n",
              " 'PREV_NAME_CONTRACT_TYPE_Consumer loans_MEAN',\n",
              " 'PREV_NAME_CONTRACT_TYPE_Revolving loans_MEAN',\n",
              " 'PREV_NAME_CONTRACT_TYPE_XNA_MEAN',\n",
              " 'PREV_WEEKDAY_APPR_PROCESS_START_FRIDAY_MEAN',\n",
              " 'PREV_WEEKDAY_APPR_PROCESS_START_MONDAY_MEAN',\n",
              " 'PREV_WEEKDAY_APPR_PROCESS_START_SATURDAY_MEAN',\n",
              " 'PREV_WEEKDAY_APPR_PROCESS_START_SUNDAY_MEAN',\n",
              " 'PREV_WEEKDAY_APPR_PROCESS_START_THURSDAY_MEAN',\n",
              " 'PREV_WEEKDAY_APPR_PROCESS_START_TUESDAY_MEAN',\n",
              " 'PREV_WEEKDAY_APPR_PROCESS_START_WEDNESDAY_MEAN',\n",
              " 'PREV_FLAG_LAST_APPL_PER_CONTRACT_N_MEAN',\n",
              " 'PREV_FLAG_LAST_APPL_PER_CONTRACT_Y_MEAN',\n",
              " 'PREV_NAME_CASH_LOAN_PURPOSE_Building a house or an annex_MEAN',\n",
              " 'PREV_NAME_CASH_LOAN_PURPOSE_Business development_MEAN',\n",
              " 'PREV_NAME_CASH_LOAN_PURPOSE_Buying a garage_MEAN',\n",
              " 'PREV_NAME_CASH_LOAN_PURPOSE_Buying a holiday home / land_MEAN',\n",
              " 'PREV_NAME_CASH_LOAN_PURPOSE_Buying a home_MEAN',\n",
              " 'PREV_NAME_CASH_LOAN_PURPOSE_Buying a new car_MEAN',\n",
              " 'PREV_NAME_CASH_LOAN_PURPOSE_Buying a used car_MEAN',\n",
              " 'PREV_NAME_CASH_LOAN_PURPOSE_Car repairs_MEAN',\n",
              " 'PREV_NAME_CASH_LOAN_PURPOSE_Education_MEAN',\n",
              " 'PREV_NAME_CASH_LOAN_PURPOSE_Everyday expenses_MEAN',\n",
              " 'PREV_NAME_CASH_LOAN_PURPOSE_Furniture_MEAN',\n",
              " 'PREV_NAME_CASH_LOAN_PURPOSE_Gasification / water supply_MEAN',\n",
              " 'PREV_NAME_CASH_LOAN_PURPOSE_Hobby_MEAN',\n",
              " 'PREV_NAME_CASH_LOAN_PURPOSE_Journey_MEAN',\n",
              " 'PREV_NAME_CASH_LOAN_PURPOSE_Medicine_MEAN',\n",
              " 'PREV_NAME_CASH_LOAN_PURPOSE_Money for a third person_MEAN',\n",
              " 'PREV_NAME_CASH_LOAN_PURPOSE_Other_MEAN',\n",
              " 'PREV_NAME_CASH_LOAN_PURPOSE_Payments on other loans_MEAN',\n",
              " 'PREV_NAME_CASH_LOAN_PURPOSE_Purchase of electronic equipment_MEAN',\n",
              " 'PREV_NAME_CASH_LOAN_PURPOSE_Refusal to name the goal_MEAN',\n",
              " 'PREV_NAME_CASH_LOAN_PURPOSE_Repairs_MEAN',\n",
              " 'PREV_NAME_CASH_LOAN_PURPOSE_Urgent needs_MEAN',\n",
              " 'PREV_NAME_CASH_LOAN_PURPOSE_Wedding / gift / holiday_MEAN',\n",
              " 'PREV_NAME_CASH_LOAN_PURPOSE_XAP_MEAN',\n",
              " 'PREV_NAME_CASH_LOAN_PURPOSE_XNA_MEAN',\n",
              " 'PREV_NAME_CONTRACT_STATUS_Approved_MEAN',\n",
              " 'PREV_NAME_CONTRACT_STATUS_Canceled_MEAN',\n",
              " 'PREV_NAME_CONTRACT_STATUS_Refused_MEAN',\n",
              " 'PREV_NAME_CONTRACT_STATUS_Unused offer_MEAN',\n",
              " 'PREV_NAME_PAYMENT_TYPE_Cash through the bank_MEAN',\n",
              " 'PREV_NAME_PAYMENT_TYPE_Cashless from the account of the employer_MEAN',\n",
              " 'PREV_NAME_PAYMENT_TYPE_Non-cash from your account_MEAN',\n",
              " 'PREV_NAME_PAYMENT_TYPE_XNA_MEAN',\n",
              " 'PREV_CODE_REJECT_REASON_CLIENT_MEAN',\n",
              " 'PREV_CODE_REJECT_REASON_HC_MEAN',\n",
              " 'PREV_CODE_REJECT_REASON_LIMIT_MEAN',\n",
              " 'PREV_CODE_REJECT_REASON_SCO_MEAN',\n",
              " 'PREV_CODE_REJECT_REASON_SCOFR_MEAN',\n",
              " 'PREV_CODE_REJECT_REASON_SYSTEM_MEAN',\n",
              " 'PREV_CODE_REJECT_REASON_VERIF_MEAN',\n",
              " 'PREV_CODE_REJECT_REASON_XAP_MEAN',\n",
              " 'PREV_CODE_REJECT_REASON_XNA_MEAN',\n",
              " 'PREV_NAME_TYPE_SUITE_Children_MEAN',\n",
              " 'PREV_NAME_TYPE_SUITE_Family_MEAN',\n",
              " 'PREV_NAME_TYPE_SUITE_Group of people_MEAN',\n",
              " 'PREV_NAME_TYPE_SUITE_Other_A_MEAN',\n",
              " 'PREV_NAME_TYPE_SUITE_Other_B_MEAN',\n",
              " 'PREV_NAME_TYPE_SUITE_Spouse, partner_MEAN',\n",
              " 'PREV_NAME_TYPE_SUITE_Unaccompanied_MEAN',\n",
              " 'PREV_NAME_TYPE_SUITE_nan_MEAN',\n",
              " 'PREV_NAME_CLIENT_TYPE_New_MEAN',\n",
              " 'PREV_NAME_CLIENT_TYPE_Refreshed_MEAN',\n",
              " 'PREV_NAME_CLIENT_TYPE_Repeater_MEAN',\n",
              " 'PREV_NAME_CLIENT_TYPE_XNA_MEAN',\n",
              " 'PREV_NAME_GOODS_CATEGORY_Additional Service_MEAN',\n",
              " 'PREV_NAME_GOODS_CATEGORY_Animals_MEAN',\n",
              " 'PREV_NAME_GOODS_CATEGORY_Audio/Video_MEAN',\n",
              " 'PREV_NAME_GOODS_CATEGORY_Auto Accessories_MEAN',\n",
              " 'PREV_NAME_GOODS_CATEGORY_Clothing and Accessories_MEAN',\n",
              " 'PREV_NAME_GOODS_CATEGORY_Computers_MEAN',\n",
              " 'PREV_NAME_GOODS_CATEGORY_Construction Materials_MEAN',\n",
              " 'PREV_NAME_GOODS_CATEGORY_Consumer Electronics_MEAN',\n",
              " 'PREV_NAME_GOODS_CATEGORY_Direct Sales_MEAN',\n",
              " 'PREV_NAME_GOODS_CATEGORY_Education_MEAN',\n",
              " 'PREV_NAME_GOODS_CATEGORY_Fitness_MEAN',\n",
              " 'PREV_NAME_GOODS_CATEGORY_Furniture_MEAN',\n",
              " 'PREV_NAME_GOODS_CATEGORY_Gardening_MEAN',\n",
              " 'PREV_NAME_GOODS_CATEGORY_Homewares_MEAN',\n",
              " 'PREV_NAME_GOODS_CATEGORY_House Construction_MEAN',\n",
              " 'PREV_NAME_GOODS_CATEGORY_Insurance_MEAN',\n",
              " 'PREV_NAME_GOODS_CATEGORY_Jewelry_MEAN',\n",
              " 'PREV_NAME_GOODS_CATEGORY_Medical Supplies_MEAN',\n",
              " 'PREV_NAME_GOODS_CATEGORY_Medicine_MEAN',\n",
              " 'PREV_NAME_GOODS_CATEGORY_Mobile_MEAN',\n",
              " 'PREV_NAME_GOODS_CATEGORY_Office Appliances_MEAN',\n",
              " 'PREV_NAME_GOODS_CATEGORY_Other_MEAN',\n",
              " 'PREV_NAME_GOODS_CATEGORY_Photo / Cinema Equipment_MEAN',\n",
              " 'PREV_NAME_GOODS_CATEGORY_Sport and Leisure_MEAN',\n",
              " 'PREV_NAME_GOODS_CATEGORY_Tourism_MEAN',\n",
              " 'PREV_NAME_GOODS_CATEGORY_Vehicles_MEAN',\n",
              " 'PREV_NAME_GOODS_CATEGORY_Weapon_MEAN',\n",
              " 'PREV_NAME_GOODS_CATEGORY_XNA_MEAN',\n",
              " 'PREV_NAME_PORTFOLIO_Cards_MEAN',\n",
              " 'PREV_NAME_PORTFOLIO_Cars_MEAN',\n",
              " 'PREV_NAME_PORTFOLIO_Cash_MEAN',\n",
              " 'PREV_NAME_PORTFOLIO_POS_MEAN',\n",
              " 'PREV_NAME_PORTFOLIO_XNA_MEAN',\n",
              " 'PREV_NAME_PRODUCT_TYPE_XNA_MEAN',\n",
              " 'PREV_NAME_PRODUCT_TYPE_walk-in_MEAN',\n",
              " 'PREV_NAME_PRODUCT_TYPE_x-sell_MEAN',\n",
              " 'PREV_CHANNEL_TYPE_AP+ (Cash loan)_MEAN',\n",
              " 'PREV_CHANNEL_TYPE_Car dealer_MEAN',\n",
              " 'PREV_CHANNEL_TYPE_Channel of corporate sales_MEAN',\n",
              " 'PREV_CHANNEL_TYPE_Contact center_MEAN',\n",
              " 'PREV_CHANNEL_TYPE_Country-wide_MEAN',\n",
              " 'PREV_CHANNEL_TYPE_Credit and cash offices_MEAN',\n",
              " 'PREV_CHANNEL_TYPE_Regional / Local_MEAN',\n",
              " 'PREV_CHANNEL_TYPE_Stone_MEAN',\n",
              " 'PREV_NAME_SELLER_INDUSTRY_Auto technology_MEAN',\n",
              " 'PREV_NAME_SELLER_INDUSTRY_Clothing_MEAN',\n",
              " 'PREV_NAME_SELLER_INDUSTRY_Connectivity_MEAN',\n",
              " 'PREV_NAME_SELLER_INDUSTRY_Construction_MEAN',\n",
              " 'PREV_NAME_SELLER_INDUSTRY_Consumer electronics_MEAN',\n",
              " 'PREV_NAME_SELLER_INDUSTRY_Furniture_MEAN',\n",
              " 'PREV_NAME_SELLER_INDUSTRY_Industry_MEAN',\n",
              " 'PREV_NAME_SELLER_INDUSTRY_Jewelry_MEAN',\n",
              " 'PREV_NAME_SELLER_INDUSTRY_MLM partners_MEAN',\n",
              " 'PREV_NAME_SELLER_INDUSTRY_Tourism_MEAN',\n",
              " 'PREV_NAME_SELLER_INDUSTRY_XNA_MEAN',\n",
              " 'PREV_NAME_YIELD_GROUP_XNA_MEAN',\n",
              " 'PREV_NAME_YIELD_GROUP_high_MEAN',\n",
              " 'PREV_NAME_YIELD_GROUP_low_action_MEAN',\n",
              " 'PREV_NAME_YIELD_GROUP_low_normal_MEAN',\n",
              " 'PREV_NAME_YIELD_GROUP_middle_MEAN',\n",
              " 'PREV_PRODUCT_COMBINATION_Card Street_MEAN',\n",
              " 'PREV_PRODUCT_COMBINATION_Card X-Sell_MEAN',\n",
              " 'PREV_PRODUCT_COMBINATION_Cash_MEAN',\n",
              " 'PREV_PRODUCT_COMBINATION_Cash Street: high_MEAN',\n",
              " 'PREV_PRODUCT_COMBINATION_Cash Street: low_MEAN',\n",
              " 'PREV_PRODUCT_COMBINATION_Cash Street: middle_MEAN',\n",
              " 'PREV_PRODUCT_COMBINATION_Cash X-Sell: high_MEAN',\n",
              " 'PREV_PRODUCT_COMBINATION_Cash X-Sell: low_MEAN',\n",
              " 'PREV_PRODUCT_COMBINATION_Cash X-Sell: middle_MEAN',\n",
              " 'PREV_PRODUCT_COMBINATION_POS household with interest_MEAN',\n",
              " 'PREV_PRODUCT_COMBINATION_POS household without interest_MEAN',\n",
              " 'PREV_PRODUCT_COMBINATION_POS industry with interest_MEAN',\n",
              " 'PREV_PRODUCT_COMBINATION_POS industry without interest_MEAN',\n",
              " 'PREV_PRODUCT_COMBINATION_POS mobile with interest_MEAN',\n",
              " 'PREV_PRODUCT_COMBINATION_POS mobile without interest_MEAN',\n",
              " 'PREV_PRODUCT_COMBINATION_POS other with interest_MEAN',\n",
              " 'PREV_PRODUCT_COMBINATION_POS others without interest_MEAN',\n",
              " 'PREV_PRODUCT_COMBINATION_nan_MEAN',\n",
              " 'APPROVED_AMT_ANNUITY_MIN',\n",
              " 'APPROVED_AMT_ANNUITY_MAX',\n",
              " 'APPROVED_AMT_ANNUITY_MEAN',\n",
              " 'APPROVED_AMT_APPLICATION_MIN',\n",
              " 'APPROVED_AMT_APPLICATION_MAX',\n",
              " 'APPROVED_AMT_APPLICATION_MEAN',\n",
              " 'APPROVED_AMT_CREDIT_MIN',\n",
              " 'APPROVED_AMT_CREDIT_MAX',\n",
              " 'APPROVED_AMT_CREDIT_MEAN',\n",
              " 'APPROVED_APP_CREDIT_PERC_MIN',\n",
              " 'APPROVED_APP_CREDIT_PERC_MAX',\n",
              " 'APPROVED_APP_CREDIT_PERC_MEAN',\n",
              " 'APPROVED_APP_CREDIT_PERC_VAR',\n",
              " 'APPROVED_AMT_DOWN_PAYMENT_MIN',\n",
              " 'APPROVED_AMT_DOWN_PAYMENT_MAX',\n",
              " 'APPROVED_AMT_DOWN_PAYMENT_MEAN',\n",
              " 'APPROVED_AMT_GOODS_PRICE_MIN',\n",
              " 'APPROVED_AMT_GOODS_PRICE_MAX',\n",
              " 'APPROVED_AMT_GOODS_PRICE_MEAN',\n",
              " 'APPROVED_HOUR_APPR_PROCESS_START_MIN',\n",
              " 'APPROVED_HOUR_APPR_PROCESS_START_MAX',\n",
              " 'APPROVED_HOUR_APPR_PROCESS_START_MEAN',\n",
              " 'APPROVED_RATE_DOWN_PAYMENT_MIN',\n",
              " 'APPROVED_RATE_DOWN_PAYMENT_MAX',\n",
              " 'APPROVED_RATE_DOWN_PAYMENT_MEAN',\n",
              " 'APPROVED_DAYS_DECISION_MIN',\n",
              " 'APPROVED_DAYS_DECISION_MAX',\n",
              " 'APPROVED_DAYS_DECISION_MEAN',\n",
              " 'APPROVED_CNT_PAYMENT_MEAN',\n",
              " 'APPROVED_CNT_PAYMENT_SUM',\n",
              " 'REFUSED_AMT_ANNUITY_MIN',\n",
              " 'REFUSED_AMT_ANNUITY_MAX',\n",
              " 'REFUSED_AMT_ANNUITY_MEAN',\n",
              " 'REFUSED_AMT_APPLICATION_MIN',\n",
              " 'REFUSED_AMT_APPLICATION_MAX',\n",
              " 'REFUSED_AMT_APPLICATION_MEAN',\n",
              " 'REFUSED_AMT_CREDIT_MIN',\n",
              " 'REFUSED_AMT_CREDIT_MAX',\n",
              " 'REFUSED_AMT_CREDIT_MEAN',\n",
              " 'REFUSED_APP_CREDIT_PERC_MIN',\n",
              " 'REFUSED_APP_CREDIT_PERC_MAX',\n",
              " 'REFUSED_APP_CREDIT_PERC_MEAN',\n",
              " 'REFUSED_APP_CREDIT_PERC_VAR',\n",
              " 'REFUSED_AMT_DOWN_PAYMENT_MIN',\n",
              " 'REFUSED_AMT_DOWN_PAYMENT_MAX',\n",
              " 'REFUSED_AMT_DOWN_PAYMENT_MEAN',\n",
              " 'REFUSED_AMT_GOODS_PRICE_MIN',\n",
              " 'REFUSED_AMT_GOODS_PRICE_MAX',\n",
              " 'REFUSED_AMT_GOODS_PRICE_MEAN',\n",
              " 'REFUSED_HOUR_APPR_PROCESS_START_MIN',\n",
              " 'REFUSED_HOUR_APPR_PROCESS_START_MAX',\n",
              " 'REFUSED_HOUR_APPR_PROCESS_START_MEAN',\n",
              " 'REFUSED_RATE_DOWN_PAYMENT_MIN',\n",
              " 'REFUSED_RATE_DOWN_PAYMENT_MAX',\n",
              " 'REFUSED_RATE_DOWN_PAYMENT_MEAN',\n",
              " 'REFUSED_DAYS_DECISION_MIN',\n",
              " 'REFUSED_DAYS_DECISION_MAX',\n",
              " 'REFUSED_DAYS_DECISION_MEAN',\n",
              " 'REFUSED_CNT_PAYMENT_MEAN',\n",
              " 'REFUSED_CNT_PAYMENT_SUM',\n",
              " 'POS_MONTHS_BALANCE_MAX',\n",
              " 'POS_MONTHS_BALANCE_MEAN',\n",
              " 'POS_MONTHS_BALANCE_SIZE',\n",
              " 'POS_SK_DPD_MAX',\n",
              " 'POS_SK_DPD_MEAN',\n",
              " 'POS_SK_DPD_DEF_MAX',\n",
              " 'POS_SK_DPD_DEF_MEAN',\n",
              " 'POS_NAME_CONTRACT_STATUS_Active_MEAN',\n",
              " 'POS_NAME_CONTRACT_STATUS_Amortized debt_MEAN',\n",
              " 'POS_NAME_CONTRACT_STATUS_Approved_MEAN',\n",
              " 'POS_NAME_CONTRACT_STATUS_Canceled_MEAN',\n",
              " 'POS_NAME_CONTRACT_STATUS_Completed_MEAN',\n",
              " 'POS_NAME_CONTRACT_STATUS_Demand_MEAN',\n",
              " 'POS_NAME_CONTRACT_STATUS_Returned to the store_MEAN',\n",
              " 'POS_NAME_CONTRACT_STATUS_Signed_MEAN',\n",
              " 'POS_NAME_CONTRACT_STATUS_XNA_MEAN',\n",
              " 'POS_COUNT',\n",
              " 'INSTAL_NUM_INSTALMENT_VERSION_NUNIQUE',\n",
              " 'INSTAL_DPD_MAX',\n",
              " 'INSTAL_DPD_MEAN',\n",
              " 'INSTAL_DPD_SUM',\n",
              " 'INSTAL_DBD_MAX',\n",
              " 'INSTAL_DBD_MEAN',\n",
              " 'INSTAL_DBD_SUM',\n",
              " 'INSTAL_PAYMENT_PERC_MAX',\n",
              " 'INSTAL_PAYMENT_PERC_MEAN',\n",
              " 'INSTAL_PAYMENT_PERC_SUM',\n",
              " 'INSTAL_PAYMENT_PERC_VAR',\n",
              " 'INSTAL_PAYMENT_DIFF_MAX',\n",
              " 'INSTAL_PAYMENT_DIFF_MEAN',\n",
              " 'INSTAL_PAYMENT_DIFF_SUM',\n",
              " 'INSTAL_PAYMENT_DIFF_VAR',\n",
              " 'INSTAL_AMT_INSTALMENT_MAX',\n",
              " 'INSTAL_AMT_INSTALMENT_MEAN',\n",
              " 'INSTAL_AMT_INSTALMENT_SUM',\n",
              " 'INSTAL_AMT_PAYMENT_MIN',\n",
              " 'INSTAL_AMT_PAYMENT_MAX',\n",
              " 'INSTAL_AMT_PAYMENT_MEAN',\n",
              " 'INSTAL_AMT_PAYMENT_SUM',\n",
              " 'INSTAL_DAYS_ENTRY_PAYMENT_MAX',\n",
              " 'INSTAL_DAYS_ENTRY_PAYMENT_MEAN',\n",
              " 'INSTAL_DAYS_ENTRY_PAYMENT_SUM',\n",
              " 'INSTAL_COUNT',\n",
              " 'CC_MONTHS_BALANCE_MIN',\n",
              " 'CC_MONTHS_BALANCE_MAX',\n",
              " 'CC_MONTHS_BALANCE_MEAN',\n",
              " 'CC_MONTHS_BALANCE_SUM',\n",
              " 'CC_MONTHS_BALANCE_VAR',\n",
              " 'CC_AMT_BALANCE_MIN',\n",
              " 'CC_AMT_BALANCE_MAX',\n",
              " 'CC_AMT_BALANCE_MEAN',\n",
              " 'CC_AMT_BALANCE_SUM',\n",
              " 'CC_AMT_BALANCE_VAR',\n",
              " 'CC_AMT_CREDIT_LIMIT_ACTUAL_MIN',\n",
              " 'CC_AMT_CREDIT_LIMIT_ACTUAL_MAX',\n",
              " 'CC_AMT_CREDIT_LIMIT_ACTUAL_MEAN',\n",
              " 'CC_AMT_CREDIT_LIMIT_ACTUAL_SUM',\n",
              " 'CC_AMT_CREDIT_LIMIT_ACTUAL_VAR',\n",
              " 'CC_AMT_DRAWINGS_ATM_CURRENT_MIN',\n",
              " 'CC_AMT_DRAWINGS_ATM_CURRENT_MAX',\n",
              " 'CC_AMT_DRAWINGS_ATM_CURRENT_MEAN',\n",
              " 'CC_AMT_DRAWINGS_ATM_CURRENT_SUM',\n",
              " 'CC_AMT_DRAWINGS_ATM_CURRENT_VAR',\n",
              " 'CC_AMT_DRAWINGS_CURRENT_MIN',\n",
              " 'CC_AMT_DRAWINGS_CURRENT_MAX',\n",
              " 'CC_AMT_DRAWINGS_CURRENT_MEAN',\n",
              " 'CC_AMT_DRAWINGS_CURRENT_SUM',\n",
              " 'CC_AMT_DRAWINGS_CURRENT_VAR',\n",
              " 'CC_AMT_DRAWINGS_OTHER_CURRENT_MIN',\n",
              " 'CC_AMT_DRAWINGS_OTHER_CURRENT_MAX',\n",
              " 'CC_AMT_DRAWINGS_OTHER_CURRENT_MEAN',\n",
              " 'CC_AMT_DRAWINGS_OTHER_CURRENT_SUM',\n",
              " 'CC_AMT_DRAWINGS_OTHER_CURRENT_VAR',\n",
              " 'CC_AMT_DRAWINGS_POS_CURRENT_MIN',\n",
              " 'CC_AMT_DRAWINGS_POS_CURRENT_MAX',\n",
              " 'CC_AMT_DRAWINGS_POS_CURRENT_MEAN',\n",
              " 'CC_AMT_DRAWINGS_POS_CURRENT_SUM',\n",
              " 'CC_AMT_DRAWINGS_POS_CURRENT_VAR',\n",
              " 'CC_AMT_INST_MIN_REGULARITY_MIN',\n",
              " 'CC_AMT_INST_MIN_REGULARITY_MAX',\n",
              " 'CC_AMT_INST_MIN_REGULARITY_MEAN',\n",
              " 'CC_AMT_INST_MIN_REGULARITY_SUM',\n",
              " 'CC_AMT_INST_MIN_REGULARITY_VAR',\n",
              " 'CC_AMT_PAYMENT_CURRENT_MIN',\n",
              " 'CC_AMT_PAYMENT_CURRENT_MAX',\n",
              " 'CC_AMT_PAYMENT_CURRENT_MEAN',\n",
              " 'CC_AMT_PAYMENT_CURRENT_SUM',\n",
              " 'CC_AMT_PAYMENT_CURRENT_VAR',\n",
              " 'CC_AMT_PAYMENT_TOTAL_CURRENT_MIN',\n",
              " 'CC_AMT_PAYMENT_TOTAL_CURRENT_MAX',\n",
              " 'CC_AMT_PAYMENT_TOTAL_CURRENT_MEAN',\n",
              " 'CC_AMT_PAYMENT_TOTAL_CURRENT_SUM',\n",
              " 'CC_AMT_PAYMENT_TOTAL_CURRENT_VAR',\n",
              " 'CC_AMT_RECEIVABLE_PRINCIPAL_MIN',\n",
              " 'CC_AMT_RECEIVABLE_PRINCIPAL_MAX',\n",
              " 'CC_AMT_RECEIVABLE_PRINCIPAL_MEAN',\n",
              " 'CC_AMT_RECEIVABLE_PRINCIPAL_SUM',\n",
              " 'CC_AMT_RECEIVABLE_PRINCIPAL_VAR',\n",
              " 'CC_AMT_RECIVABLE_MIN',\n",
              " 'CC_AMT_RECIVABLE_MAX',\n",
              " 'CC_AMT_RECIVABLE_MEAN',\n",
              " 'CC_AMT_RECIVABLE_SUM',\n",
              " 'CC_AMT_RECIVABLE_VAR',\n",
              " 'CC_AMT_TOTAL_RECEIVABLE_MIN',\n",
              " 'CC_AMT_TOTAL_RECEIVABLE_MAX',\n",
              " 'CC_AMT_TOTAL_RECEIVABLE_MEAN',\n",
              " 'CC_AMT_TOTAL_RECEIVABLE_SUM',\n",
              " 'CC_AMT_TOTAL_RECEIVABLE_VAR',\n",
              " 'CC_CNT_DRAWINGS_ATM_CURRENT_MIN',\n",
              " 'CC_CNT_DRAWINGS_ATM_CURRENT_MAX',\n",
              " 'CC_CNT_DRAWINGS_ATM_CURRENT_MEAN',\n",
              " 'CC_CNT_DRAWINGS_ATM_CURRENT_SUM',\n",
              " 'CC_CNT_DRAWINGS_ATM_CURRENT_VAR',\n",
              " 'CC_CNT_DRAWINGS_CURRENT_MIN',\n",
              " 'CC_CNT_DRAWINGS_CURRENT_MAX',\n",
              " 'CC_CNT_DRAWINGS_CURRENT_MEAN',\n",
              " 'CC_CNT_DRAWINGS_CURRENT_SUM',\n",
              " 'CC_CNT_DRAWINGS_CURRENT_VAR',\n",
              " 'CC_CNT_DRAWINGS_OTHER_CURRENT_MIN',\n",
              " 'CC_CNT_DRAWINGS_OTHER_CURRENT_MAX',\n",
              " 'CC_CNT_DRAWINGS_OTHER_CURRENT_MEAN',\n",
              " 'CC_CNT_DRAWINGS_OTHER_CURRENT_SUM',\n",
              " 'CC_CNT_DRAWINGS_OTHER_CURRENT_VAR',\n",
              " 'CC_CNT_DRAWINGS_POS_CURRENT_MIN',\n",
              " 'CC_CNT_DRAWINGS_POS_CURRENT_MAX',\n",
              " 'CC_CNT_DRAWINGS_POS_CURRENT_MEAN',\n",
              " 'CC_CNT_DRAWINGS_POS_CURRENT_SUM',\n",
              " 'CC_CNT_DRAWINGS_POS_CURRENT_VAR',\n",
              " 'CC_CNT_INSTALMENT_MATURE_CUM_MIN',\n",
              " 'CC_CNT_INSTALMENT_MATURE_CUM_MAX',\n",
              " 'CC_CNT_INSTALMENT_MATURE_CUM_MEAN',\n",
              " 'CC_CNT_INSTALMENT_MATURE_CUM_SUM',\n",
              " 'CC_CNT_INSTALMENT_MATURE_CUM_VAR',\n",
              " 'CC_SK_DPD_MIN',\n",
              " 'CC_SK_DPD_MAX',\n",
              " 'CC_SK_DPD_MEAN',\n",
              " 'CC_SK_DPD_SUM',\n",
              " 'CC_SK_DPD_VAR',\n",
              " 'CC_SK_DPD_DEF_MIN',\n",
              " 'CC_SK_DPD_DEF_MAX',\n",
              " 'CC_SK_DPD_DEF_MEAN',\n",
              " 'CC_SK_DPD_DEF_SUM',\n",
              " 'CC_SK_DPD_DEF_VAR',\n",
              " 'CC_NAME_CONTRACT_STATUS_Active_MIN',\n",
              " 'CC_NAME_CONTRACT_STATUS_Active_MAX',\n",
              " 'CC_NAME_CONTRACT_STATUS_Active_MEAN',\n",
              " 'CC_NAME_CONTRACT_STATUS_Active_SUM',\n",
              " 'CC_NAME_CONTRACT_STATUS_Active_VAR',\n",
              " 'CC_NAME_CONTRACT_STATUS_Approved_MAX',\n",
              " 'CC_NAME_CONTRACT_STATUS_Approved_MEAN',\n",
              " 'CC_NAME_CONTRACT_STATUS_Approved_SUM',\n",
              " 'CC_NAME_CONTRACT_STATUS_Approved_VAR',\n",
              " 'CC_NAME_CONTRACT_STATUS_Completed_MIN',\n",
              " 'CC_NAME_CONTRACT_STATUS_Completed_MAX',\n",
              " 'CC_NAME_CONTRACT_STATUS_Completed_MEAN',\n",
              " 'CC_NAME_CONTRACT_STATUS_Completed_SUM',\n",
              " 'CC_NAME_CONTRACT_STATUS_Completed_VAR',\n",
              " 'CC_NAME_CONTRACT_STATUS_Demand_MIN',\n",
              " 'CC_NAME_CONTRACT_STATUS_Demand_MAX',\n",
              " 'CC_NAME_CONTRACT_STATUS_Demand_MEAN',\n",
              " 'CC_NAME_CONTRACT_STATUS_Demand_SUM',\n",
              " 'CC_NAME_CONTRACT_STATUS_Demand_VAR',\n",
              " 'CC_NAME_CONTRACT_STATUS_Refused_MAX',\n",
              " 'CC_NAME_CONTRACT_STATUS_Refused_MEAN',\n",
              " 'CC_NAME_CONTRACT_STATUS_Refused_SUM',\n",
              " 'CC_NAME_CONTRACT_STATUS_Refused_VAR',\n",
              " 'CC_NAME_CONTRACT_STATUS_Sent proposal_MAX',\n",
              " 'CC_NAME_CONTRACT_STATUS_Sent proposal_MEAN',\n",
              " 'CC_NAME_CONTRACT_STATUS_Sent proposal_SUM',\n",
              " 'CC_NAME_CONTRACT_STATUS_Sent proposal_VAR',\n",
              " 'CC_NAME_CONTRACT_STATUS_Signed_MIN',\n",
              " 'CC_NAME_CONTRACT_STATUS_Signed_MAX',\n",
              " 'CC_NAME_CONTRACT_STATUS_Signed_MEAN',\n",
              " 'CC_NAME_CONTRACT_STATUS_Signed_SUM',\n",
              " 'CC_NAME_CONTRACT_STATUS_Signed_VAR',\n",
              " 'CC_COUNT']"
            ]
          },
          "metadata": {},
          "execution_count": 3
        }
      ]
    },
    {
      "cell_type": "code",
      "source": [
        "df.info()"
      ],
      "metadata": {
        "colab": {
          "base_uri": "https://localhost:8080/"
        },
        "id": "BxtHTELlvL5C",
        "outputId": "5aef30f6-ac98-4b62-c14f-ffa276f03c15"
      },
      "execution_count": 4,
      "outputs": [
        {
          "output_type": "stream",
          "name": "stdout",
          "text": [
            "<class 'pandas.core.frame.DataFrame'>\n",
            "RangeIndex: 356251 entries, 0 to 356250\n",
            "Columns: 770 entries, SK_ID_CURR to CC_COUNT\n",
            "dtypes: bool(133), float64(584), int64(42), object(11)\n",
            "memory usage: 1.7+ GB\n"
          ]
        }
      ]
    },
    {
      "cell_type": "markdown",
      "source": [
        "#Les valeurs manquantes"
      ],
      "metadata": {
        "id": "zhBDVV49zY7E"
      }
    },
    {
      "cell_type": "code",
      "source": [
        "#le pourcentage de valeurs manquantes pour chaque colonne\n",
        "valeur_m_p = df.isnull().mean() * 100\n",
        "\n",
        "#les colonnes avec plus de 70% de valeurs manquantes\n",
        "valeur_m_cols = valeur_m_p[valeur_m_p > 70].index\n",
        "\n",
        "#le nombre de colonnes avec plus de 70% de valeurs manquantes\n",
        "nb_valeur_m_cols = valeur_m_cols.shape[0]\n",
        "print(f\"Le nombre de colonnes avec plus de 70% de valeurs manquantes: {nb_valeur_m_cols}\")"
      ],
      "metadata": {
        "colab": {
          "base_uri": "https://localhost:8080/"
        },
        "id": "1hFZEgxSCcxy",
        "outputId": "0bfe501a-43f6-4178-ac77-c6d8cf6c503e"
      },
      "execution_count": 5,
      "outputs": [
        {
          "output_type": "stream",
          "name": "stdout",
          "text": [
            "Le nombre de colonnes avec plus de 70% de valeurs manquantes: 144\n"
          ]
        }
      ]
    },
    {
      "cell_type": "code",
      "source": [
        "#le nombre de valeurs manquantes par colonne\n",
        "missing_values = df.isnull().sum()\n",
        "missing_values = missing_values[missing_values > 0]\n",
        "print(missing_values)"
      ],
      "metadata": {
        "colab": {
          "base_uri": "https://localhost:8080/"
        },
        "id": "q9l0XlrlyeQd",
        "outputId": "e59840c2-6017-491d-a643-d3c82f599bf3"
      },
      "execution_count": 6,
      "outputs": [
        {
          "output_type": "stream",
          "name": "stdout",
          "text": [
            "TARGET                                  48744\n",
            "AMT_ANNUITY                                36\n",
            "AMT_GOODS_PRICE                           278\n",
            "DAYS_EMPLOYED                           64648\n",
            "OWN_CAR_AGE                            235239\n",
            "                                        ...  \n",
            "CC_NAME_CONTRACT_STATUS_Signed_MAX     252693\n",
            "CC_NAME_CONTRACT_STATUS_Signed_MEAN    252693\n",
            "CC_NAME_CONTRACT_STATUS_Signed_SUM     252693\n",
            "CC_NAME_CONTRACT_STATUS_Signed_VAR     253385\n",
            "CC_COUNT                               252693\n",
            "Length: 590, dtype: int64\n"
          ]
        }
      ]
    },
    {
      "cell_type": "code",
      "source": [
        "#la suppression des colonnes avec plus de 70% de valeurs manquantes\n",
        "df = df.drop(columns=valeur_m_cols)\n",
        "\n",
        "print(f\"Le nombre de colonnes restantes après suppression: {df.shape[1]}\")\n",
        "print(f\"Le nombre de colonnes supprimées: {len(valeur_m_cols)}\")"
      ],
      "metadata": {
        "colab": {
          "base_uri": "https://localhost:8080/"
        },
        "id": "S_6i9lxGDY6j",
        "outputId": "279b3df0-1f14-4421-c081-2bc8c73f22fc"
      },
      "execution_count": 7,
      "outputs": [
        {
          "output_type": "stream",
          "name": "stdout",
          "text": [
            "Le nombre de colonnes restantes après suppression: 626\n",
            "Le nombre de colonnes supprimées: 144\n"
          ]
        }
      ]
    },
    {
      "cell_type": "code",
      "source": [
        "#je ne garde que les donneées où la colonne 'TARGET' n'est pas vide.\n",
        "# 'TARGET' est la variable à prédire (classification), donc ces données sont nécessaires pour l'entraînement.\n",
        "df_classification = df[df['TARGET'].notnull()]\n",
        "print(df_classification.shape)"
      ],
      "metadata": {
        "colab": {
          "base_uri": "https://localhost:8080/"
        },
        "id": "4SHbGvaH0rdr",
        "outputId": "753d03c2-332f-45ba-9058-fc8cf4b91e1a"
      },
      "execution_count": 8,
      "outputs": [
        {
          "output_type": "stream",
          "name": "stdout",
          "text": [
            "(307507, 626)\n"
          ]
        }
      ]
    },
    {
      "cell_type": "code",
      "source": [
        "#les colonnes cat\n",
        "cat_cols = df_classification.select_dtypes(include=['object']).columns\n",
        "print(cat_cols)"
      ],
      "metadata": {
        "colab": {
          "base_uri": "https://localhost:8080/"
        },
        "id": "2hTKLkbSBDne",
        "outputId": "07e26c96-eb61-4851-f578-2631db86476b"
      },
      "execution_count": 9,
      "outputs": [
        {
          "output_type": "stream",
          "name": "stdout",
          "text": [
            "Index([], dtype='object')\n"
          ]
        }
      ]
    },
    {
      "cell_type": "markdown",
      "source": [
        "Après la suppression des cols à >70% de valeurs manquantes, il ne reste plus de cols cat."
      ],
      "metadata": {
        "id": "Vvkx2M03BSrV"
      }
    },
    {
      "cell_type": "markdown",
      "source": [
        "#Imputation"
      ],
      "metadata": {
        "id": "YeV9rabqL71P"
      }
    },
    {
      "cell_type": "code",
      "source": [
        "#je remplace les valeurs manquantes par la moyenne des colonnes numériques\n",
        "df_classification_imputed = df_classification.copy()\n",
        "df_classification_imputed.fillna(df_classification.mean(), inplace=True)"
      ],
      "metadata": {
        "id": "D3aJa4VFL-Rw"
      },
      "execution_count": 10,
      "outputs": []
    },
    {
      "cell_type": "code",
      "source": [
        "#vérification qu'il n'y a plus de valeurs manquantes\n",
        "print(df_classification_imputed.isnull().sum().sum())"
      ],
      "metadata": {
        "colab": {
          "base_uri": "https://localhost:8080/"
        },
        "id": "AwKQhSVHMAC3",
        "outputId": "b3c52ebc-56fc-4c89-e7d5-19242cc3ac19"
      },
      "execution_count": 11,
      "outputs": [
        {
          "output_type": "stream",
          "name": "stdout",
          "text": [
            "0\n"
          ]
        }
      ]
    },
    {
      "cell_type": "code",
      "source": [
        "#le df avec imputation mean en csv\n",
        "df_classification_imputed.to_csv('df_classification_imputed.csv', index=False)"
      ],
      "metadata": {
        "id": "9Rpbt8SjCIOR"
      },
      "execution_count": 12,
      "outputs": []
    },
    {
      "cell_type": "code",
      "source": [
        "df = pd.read_csv('df_classification_imputed.csv')\n",
        "df.shape"
      ],
      "metadata": {
        "id": "5HjpwVTNCY6C"
      },
      "execution_count": null,
      "outputs": []
    },
    {
      "cell_type": "code",
      "source": [],
      "metadata": {
        "id": "a_-_FO4NDOI1"
      },
      "execution_count": null,
      "outputs": []
    },
    {
      "cell_type": "markdown",
      "source": [
        "#Echantillon"
      ],
      "metadata": {
        "id": "zImo0YahPW0O"
      }
    },
    {
      "cell_type": "code",
      "source": [
        "import pandas as pd\n",
        "\n",
        "#la taille de l'échantillon total\n",
        "sample_size = 50000\n",
        "\n",
        "#je calcule la proportion des classes\n",
        "class_distribution = df_classification_imputed['TARGET'].value_counts(normalize=True)\n",
        "\n",
        "#échantillon stratifié en fonction de la distribution de 'TARGET'\n",
        "df_sample = df_classification_imputed.groupby('TARGET', group_keys=False).apply(lambda x: x.sample(int(sample_size * class_distribution.loc[x.name]), random_state=42))\n",
        "\n",
        "#la distribution dans l'échantillon\n",
        "print(df_sample['TARGET'].value_counts(normalize=True))\n"
      ],
      "metadata": {
        "colab": {
          "base_uri": "https://localhost:8080/"
        },
        "id": "Ay_faa2WPAXO",
        "outputId": "3da13268-f0bf-42de-bc5b-0094e9ead186"
      },
      "execution_count": 13,
      "outputs": [
        {
          "output_type": "stream",
          "name": "stdout",
          "text": [
            "TARGET\n",
            "0.0    0.919278\n",
            "1.0    0.080722\n",
            "Name: proportion, dtype: float64\n"
          ]
        }
      ]
    },
    {
      "cell_type": "code",
      "source": [
        "df_sample.to_csv('df_sample.csv', index=False)"
      ],
      "metadata": {
        "id": "VURV7sRYEpXy"
      },
      "execution_count": 14,
      "outputs": []
    },
    {
      "cell_type": "code",
      "source": [
        "import pandas as pd\n",
        "\n",
        "df_sample = pd.read_csv('df_sample.csv')\n",
        "df_sample.shape"
      ],
      "metadata": {
        "colab": {
          "base_uri": "https://localhost:8080/"
        },
        "id": "ykYKPPXvEs6r",
        "outputId": "ebe02f82-2763-4a79-ca6b-e5d633f1b45e"
      },
      "execution_count": 1,
      "outputs": [
        {
          "output_type": "execute_result",
          "data": {
            "text/plain": [
              "(49999, 626)"
            ]
          },
          "metadata": {},
          "execution_count": 1
        }
      ]
    },
    {
      "cell_type": "markdown",
      "source": [
        "#Entrainement des modeles avec tracking MLFlow"
      ],
      "metadata": {
        "id": "dzDOQwAYClgC"
      }
    },
    {
      "cell_type": "code",
      "source": [
        "from sklearn.model_selection import train_test_split\n",
        "\n",
        "#la séparation des caractéristiques (X) et de la cible (y) en supprimant les colonnes 'TARGET' et 'SK_ID_CURR'\n",
        "X = df_sample.drop(columns=[\"TARGET\", \"SK_ID_CURR\"])\n",
        "\n",
        "#la cible est la colonne 'TARGET'\n",
        "y = df_sample[\"TARGET\"]\n",
        "\n",
        "#division stratifiée des données (80% train, 20% val)\n",
        "X_train, X_val, y_train, y_val = train_test_split(X, y, test_size=0.2, stratify=y, random_state=42)\n",
        "\n",
        "#les formes des ensembles\n",
        "print(f\"TRAIN: entraînement: {X_train.shape}, TRAIN: val: {X_val.shape}\")\n",
        "print(f\"CIBLE: entraînement: {y_train.shape}, CIBLE: val: {y_val.shape}\")"
      ],
      "metadata": {
        "colab": {
          "base_uri": "https://localhost:8080/"
        },
        "id": "-EY1hTiTE3U6",
        "outputId": "e6a86c9c-71c4-477c-e57e-e33c95a69d90"
      },
      "execution_count": 2,
      "outputs": [
        {
          "output_type": "stream",
          "name": "stdout",
          "text": [
            "TRAIN: entraînement: (39999, 624), TRAIN: val: (10000, 624)\n",
            "CIBLE: entraînement: (39999,), CIBLE: val: (10000,)\n"
          ]
        }
      ]
    },
    {
      "cell_type": "code",
      "source": [
        "#j'install MLFlow\n",
        "! pip install mlflow"
      ],
      "metadata": {
        "colab": {
          "base_uri": "https://localhost:8080/"
        },
        "id": "XZIC6Vq-GV3D",
        "outputId": "0f0de5f3-3631-447a-d303-81d31d7058d4"
      },
      "execution_count": 3,
      "outputs": [
        {
          "output_type": "stream",
          "name": "stdout",
          "text": [
            "Collecting mlflow\n",
            "  Downloading mlflow-2.16.2-py3-none-any.whl.metadata (29 kB)\n",
            "Collecting mlflow-skinny==2.16.2 (from mlflow)\n",
            "  Downloading mlflow_skinny-2.16.2-py3-none-any.whl.metadata (30 kB)\n",
            "Requirement already satisfied: Flask<4 in /usr/local/lib/python3.10/dist-packages (from mlflow) (2.2.5)\n",
            "Collecting alembic!=1.10.0,<2 (from mlflow)\n",
            "  Downloading alembic-1.13.2-py3-none-any.whl.metadata (7.4 kB)\n",
            "Collecting docker<8,>=4.0.0 (from mlflow)\n",
            "  Downloading docker-7.1.0-py3-none-any.whl.metadata (3.8 kB)\n",
            "Collecting graphene<4 (from mlflow)\n",
            "  Downloading graphene-3.3-py2.py3-none-any.whl.metadata (7.7 kB)\n",
            "Requirement already satisfied: markdown<4,>=3.3 in /usr/local/lib/python3.10/dist-packages (from mlflow) (3.7)\n",
            "Requirement already satisfied: matplotlib<4 in /usr/local/lib/python3.10/dist-packages (from mlflow) (3.7.1)\n",
            "Requirement already satisfied: numpy<3 in /usr/local/lib/python3.10/dist-packages (from mlflow) (1.26.4)\n",
            "Requirement already satisfied: pandas<3 in /usr/local/lib/python3.10/dist-packages (from mlflow) (2.1.4)\n",
            "Requirement already satisfied: pyarrow<18,>=4.0.0 in /usr/local/lib/python3.10/dist-packages (from mlflow) (14.0.2)\n",
            "Requirement already satisfied: scikit-learn<2 in /usr/local/lib/python3.10/dist-packages (from mlflow) (1.3.2)\n",
            "Requirement already satisfied: scipy<2 in /usr/local/lib/python3.10/dist-packages (from mlflow) (1.13.1)\n",
            "Requirement already satisfied: sqlalchemy<3,>=1.4.0 in /usr/local/lib/python3.10/dist-packages (from mlflow) (2.0.35)\n",
            "Requirement already satisfied: Jinja2<4,>=2.11 in /usr/local/lib/python3.10/dist-packages (from mlflow) (3.1.4)\n",
            "Collecting gunicorn<24 (from mlflow)\n",
            "  Downloading gunicorn-23.0.0-py3-none-any.whl.metadata (4.4 kB)\n",
            "Requirement already satisfied: cachetools<6,>=5.0.0 in /usr/local/lib/python3.10/dist-packages (from mlflow-skinny==2.16.2->mlflow) (5.5.0)\n",
            "Requirement already satisfied: click<9,>=7.0 in /usr/local/lib/python3.10/dist-packages (from mlflow-skinny==2.16.2->mlflow) (8.1.7)\n",
            "Requirement already satisfied: cloudpickle<4 in /usr/local/lib/python3.10/dist-packages (from mlflow-skinny==2.16.2->mlflow) (2.2.1)\n",
            "Collecting databricks-sdk<1,>=0.20.0 (from mlflow-skinny==2.16.2->mlflow)\n",
            "  Downloading databricks_sdk-0.32.3-py3-none-any.whl.metadata (37 kB)\n",
            "Collecting gitpython<4,>=3.1.9 (from mlflow-skinny==2.16.2->mlflow)\n",
            "  Downloading GitPython-3.1.43-py3-none-any.whl.metadata (13 kB)\n",
            "Requirement already satisfied: importlib-metadata!=4.7.0,<9,>=3.7.0 in /usr/local/lib/python3.10/dist-packages (from mlflow-skinny==2.16.2->mlflow) (8.5.0)\n",
            "Collecting opentelemetry-api<3,>=1.9.0 (from mlflow-skinny==2.16.2->mlflow)\n",
            "  Downloading opentelemetry_api-1.27.0-py3-none-any.whl.metadata (1.4 kB)\n",
            "Collecting opentelemetry-sdk<3,>=1.9.0 (from mlflow-skinny==2.16.2->mlflow)\n",
            "  Downloading opentelemetry_sdk-1.27.0-py3-none-any.whl.metadata (1.5 kB)\n",
            "Requirement already satisfied: packaging<25 in /usr/local/lib/python3.10/dist-packages (from mlflow-skinny==2.16.2->mlflow) (24.1)\n",
            "Requirement already satisfied: protobuf<6,>=3.12.0 in /usr/local/lib/python3.10/dist-packages (from mlflow-skinny==2.16.2->mlflow) (3.20.3)\n",
            "Requirement already satisfied: pyyaml<7,>=5.1 in /usr/local/lib/python3.10/dist-packages (from mlflow-skinny==2.16.2->mlflow) (6.0.2)\n",
            "Requirement already satisfied: requests<3,>=2.17.3 in /usr/local/lib/python3.10/dist-packages (from mlflow-skinny==2.16.2->mlflow) (2.32.3)\n",
            "Requirement already satisfied: sqlparse<1,>=0.4.0 in /usr/local/lib/python3.10/dist-packages (from mlflow-skinny==2.16.2->mlflow) (0.5.1)\n",
            "Collecting Mako (from alembic!=1.10.0,<2->mlflow)\n",
            "  Downloading Mako-1.3.5-py3-none-any.whl.metadata (2.9 kB)\n",
            "Requirement already satisfied: typing-extensions>=4 in /usr/local/lib/python3.10/dist-packages (from alembic!=1.10.0,<2->mlflow) (4.12.2)\n",
            "Requirement already satisfied: urllib3>=1.26.0 in /usr/local/lib/python3.10/dist-packages (from docker<8,>=4.0.0->mlflow) (2.0.7)\n",
            "Requirement already satisfied: Werkzeug>=2.2.2 in /usr/local/lib/python3.10/dist-packages (from Flask<4->mlflow) (3.0.4)\n",
            "Requirement already satisfied: itsdangerous>=2.0 in /usr/local/lib/python3.10/dist-packages (from Flask<4->mlflow) (2.2.0)\n",
            "Collecting graphql-core<3.3,>=3.1 (from graphene<4->mlflow)\n",
            "  Downloading graphql_core-3.2.4-py3-none-any.whl.metadata (10 kB)\n",
            "Collecting graphql-relay<3.3,>=3.1 (from graphene<4->mlflow)\n",
            "  Downloading graphql_relay-3.2.0-py3-none-any.whl.metadata (12 kB)\n",
            "Collecting aniso8601<10,>=8 (from graphene<4->mlflow)\n",
            "  Downloading aniso8601-9.0.1-py2.py3-none-any.whl.metadata (23 kB)\n",
            "Requirement already satisfied: MarkupSafe>=2.0 in /usr/local/lib/python3.10/dist-packages (from Jinja2<4,>=2.11->mlflow) (2.1.5)\n",
            "Requirement already satisfied: contourpy>=1.0.1 in /usr/local/lib/python3.10/dist-packages (from matplotlib<4->mlflow) (1.3.0)\n",
            "Requirement already satisfied: cycler>=0.10 in /usr/local/lib/python3.10/dist-packages (from matplotlib<4->mlflow) (0.12.1)\n",
            "Requirement already satisfied: fonttools>=4.22.0 in /usr/local/lib/python3.10/dist-packages (from matplotlib<4->mlflow) (4.53.1)\n",
            "Requirement already satisfied: kiwisolver>=1.0.1 in /usr/local/lib/python3.10/dist-packages (from matplotlib<4->mlflow) (1.4.7)\n",
            "Requirement already satisfied: pillow>=6.2.0 in /usr/local/lib/python3.10/dist-packages (from matplotlib<4->mlflow) (10.4.0)\n",
            "Requirement already satisfied: pyparsing>=2.3.1 in /usr/local/lib/python3.10/dist-packages (from matplotlib<4->mlflow) (3.1.4)\n",
            "Requirement already satisfied: python-dateutil>=2.7 in /usr/local/lib/python3.10/dist-packages (from matplotlib<4->mlflow) (2.8.2)\n",
            "Requirement already satisfied: pytz>=2020.1 in /usr/local/lib/python3.10/dist-packages (from pandas<3->mlflow) (2024.2)\n",
            "Requirement already satisfied: tzdata>=2022.1 in /usr/local/lib/python3.10/dist-packages (from pandas<3->mlflow) (2024.1)\n",
            "Requirement already satisfied: joblib>=1.1.1 in /usr/local/lib/python3.10/dist-packages (from scikit-learn<2->mlflow) (1.4.2)\n",
            "Requirement already satisfied: threadpoolctl>=2.0.0 in /usr/local/lib/python3.10/dist-packages (from scikit-learn<2->mlflow) (3.5.0)\n",
            "Requirement already satisfied: greenlet!=0.4.17 in /usr/local/lib/python3.10/dist-packages (from sqlalchemy<3,>=1.4.0->mlflow) (3.1.0)\n",
            "Requirement already satisfied: google-auth~=2.0 in /usr/local/lib/python3.10/dist-packages (from databricks-sdk<1,>=0.20.0->mlflow-skinny==2.16.2->mlflow) (2.27.0)\n",
            "Collecting gitdb<5,>=4.0.1 (from gitpython<4,>=3.1.9->mlflow-skinny==2.16.2->mlflow)\n",
            "  Downloading gitdb-4.0.11-py3-none-any.whl.metadata (1.2 kB)\n",
            "Requirement already satisfied: zipp>=3.20 in /usr/local/lib/python3.10/dist-packages (from importlib-metadata!=4.7.0,<9,>=3.7.0->mlflow-skinny==2.16.2->mlflow) (3.20.2)\n",
            "Collecting deprecated>=1.2.6 (from opentelemetry-api<3,>=1.9.0->mlflow-skinny==2.16.2->mlflow)\n",
            "  Downloading Deprecated-1.2.14-py2.py3-none-any.whl.metadata (5.4 kB)\n",
            "Collecting importlib-metadata!=4.7.0,<9,>=3.7.0 (from mlflow-skinny==2.16.2->mlflow)\n",
            "  Downloading importlib_metadata-8.4.0-py3-none-any.whl.metadata (4.7 kB)\n",
            "Collecting opentelemetry-semantic-conventions==0.48b0 (from opentelemetry-sdk<3,>=1.9.0->mlflow-skinny==2.16.2->mlflow)\n",
            "  Downloading opentelemetry_semantic_conventions-0.48b0-py3-none-any.whl.metadata (2.4 kB)\n",
            "Requirement already satisfied: six>=1.5 in /usr/local/lib/python3.10/dist-packages (from python-dateutil>=2.7->matplotlib<4->mlflow) (1.16.0)\n",
            "Requirement already satisfied: charset-normalizer<4,>=2 in /usr/local/lib/python3.10/dist-packages (from requests<3,>=2.17.3->mlflow-skinny==2.16.2->mlflow) (3.3.2)\n",
            "Requirement already satisfied: idna<4,>=2.5 in /usr/local/lib/python3.10/dist-packages (from requests<3,>=2.17.3->mlflow-skinny==2.16.2->mlflow) (3.10)\n",
            "Requirement already satisfied: certifi>=2017.4.17 in /usr/local/lib/python3.10/dist-packages (from requests<3,>=2.17.3->mlflow-skinny==2.16.2->mlflow) (2024.8.30)\n",
            "Requirement already satisfied: wrapt<2,>=1.10 in /usr/local/lib/python3.10/dist-packages (from deprecated>=1.2.6->opentelemetry-api<3,>=1.9.0->mlflow-skinny==2.16.2->mlflow) (1.16.0)\n",
            "Collecting smmap<6,>=3.0.1 (from gitdb<5,>=4.0.1->gitpython<4,>=3.1.9->mlflow-skinny==2.16.2->mlflow)\n",
            "  Downloading smmap-5.0.1-py3-none-any.whl.metadata (4.3 kB)\n",
            "Requirement already satisfied: pyasn1-modules>=0.2.1 in /usr/local/lib/python3.10/dist-packages (from google-auth~=2.0->databricks-sdk<1,>=0.20.0->mlflow-skinny==2.16.2->mlflow) (0.4.1)\n",
            "Requirement already satisfied: rsa<5,>=3.1.4 in /usr/local/lib/python3.10/dist-packages (from google-auth~=2.0->databricks-sdk<1,>=0.20.0->mlflow-skinny==2.16.2->mlflow) (4.9)\n",
            "Requirement already satisfied: pyasn1<0.7.0,>=0.4.6 in /usr/local/lib/python3.10/dist-packages (from pyasn1-modules>=0.2.1->google-auth~=2.0->databricks-sdk<1,>=0.20.0->mlflow-skinny==2.16.2->mlflow) (0.6.1)\n",
            "Downloading mlflow-2.16.2-py3-none-any.whl (26.7 MB)\n",
            "\u001b[2K   \u001b[90m━━━━━━━━━━━━━━━━━━━━━━━━━━━━━━━━━━━━━━━━\u001b[0m \u001b[32m26.7/26.7 MB\u001b[0m \u001b[31m44.5 MB/s\u001b[0m eta \u001b[36m0:00:00\u001b[0m\n",
            "\u001b[?25hDownloading mlflow_skinny-2.16.2-py3-none-any.whl (5.6 MB)\n",
            "\u001b[2K   \u001b[90m━━━━━━━━━━━━━━━━━━━━━━━━━━━━━━━━━━━━━━━━\u001b[0m \u001b[32m5.6/5.6 MB\u001b[0m \u001b[31m66.0 MB/s\u001b[0m eta \u001b[36m0:00:00\u001b[0m\n",
            "\u001b[?25hDownloading alembic-1.13.2-py3-none-any.whl (232 kB)\n",
            "\u001b[2K   \u001b[90m━━━━━━━━━━━━━━━━━━━━━━━━━━━━━━━━━━━━━━━━\u001b[0m \u001b[32m233.0/233.0 kB\u001b[0m \u001b[31m16.6 MB/s\u001b[0m eta \u001b[36m0:00:00\u001b[0m\n",
            "\u001b[?25hDownloading docker-7.1.0-py3-none-any.whl (147 kB)\n",
            "\u001b[2K   \u001b[90m━━━━━━━━━━━━━━━━━━━━━━━━━━━━━━━━━━━━━━━━\u001b[0m \u001b[32m147.8/147.8 kB\u001b[0m \u001b[31m11.7 MB/s\u001b[0m eta \u001b[36m0:00:00\u001b[0m\n",
            "\u001b[?25hDownloading graphene-3.3-py2.py3-none-any.whl (128 kB)\n",
            "\u001b[2K   \u001b[90m━━━━━━━━━━━━━━━━━━━━━━━━━━━━━━━━━━━━━━━━\u001b[0m \u001b[32m128.2/128.2 kB\u001b[0m \u001b[31m9.5 MB/s\u001b[0m eta \u001b[36m0:00:00\u001b[0m\n",
            "\u001b[?25hDownloading gunicorn-23.0.0-py3-none-any.whl (85 kB)\n",
            "\u001b[2K   \u001b[90m━━━━━━━━━━━━━━━━━━━━━━━━━━━━━━━━━━━━━━━━\u001b[0m \u001b[32m85.0/85.0 kB\u001b[0m \u001b[31m6.3 MB/s\u001b[0m eta \u001b[36m0:00:00\u001b[0m\n",
            "\u001b[?25hDownloading aniso8601-9.0.1-py2.py3-none-any.whl (52 kB)\n",
            "\u001b[2K   \u001b[90m━━━━━━━━━━━━━━━━━━━━━━━━━━━━━━━━━━━━━━━━\u001b[0m \u001b[32m52.8/52.8 kB\u001b[0m \u001b[31m3.9 MB/s\u001b[0m eta \u001b[36m0:00:00\u001b[0m\n",
            "\u001b[?25hDownloading databricks_sdk-0.32.3-py3-none-any.whl (555 kB)\n",
            "\u001b[2K   \u001b[90m━━━━━━━━━━━━━━━━━━━━━━━━━━━━━━━━━━━━━━━━\u001b[0m \u001b[32m555.1/555.1 kB\u001b[0m \u001b[31m34.9 MB/s\u001b[0m eta \u001b[36m0:00:00\u001b[0m\n",
            "\u001b[?25hDownloading GitPython-3.1.43-py3-none-any.whl (207 kB)\n",
            "\u001b[2K   \u001b[90m━━━━━━━━━━━━━━━━━━━━━━━━━━━━━━━━━━━━━━━━\u001b[0m \u001b[32m207.3/207.3 kB\u001b[0m \u001b[31m13.1 MB/s\u001b[0m eta \u001b[36m0:00:00\u001b[0m\n",
            "\u001b[?25hDownloading graphql_core-3.2.4-py3-none-any.whl (203 kB)\n",
            "\u001b[2K   \u001b[90m━━━━━━━━━━━━━━━━━━━━━━━━━━━━━━━━━━━━━━━━\u001b[0m \u001b[32m203.2/203.2 kB\u001b[0m \u001b[31m14.3 MB/s\u001b[0m eta \u001b[36m0:00:00\u001b[0m\n",
            "\u001b[?25hDownloading graphql_relay-3.2.0-py3-none-any.whl (16 kB)\n",
            "Downloading opentelemetry_api-1.27.0-py3-none-any.whl (63 kB)\n",
            "\u001b[2K   \u001b[90m━━━━━━━━━━━━━━━━━━━━━━━━━━━━━━━━━━━━━━━━\u001b[0m \u001b[32m64.0/64.0 kB\u001b[0m \u001b[31m4.1 MB/s\u001b[0m eta \u001b[36m0:00:00\u001b[0m\n",
            "\u001b[?25hDownloading importlib_metadata-8.4.0-py3-none-any.whl (26 kB)\n",
            "Downloading opentelemetry_sdk-1.27.0-py3-none-any.whl (110 kB)\n",
            "\u001b[2K   \u001b[90m━━━━━━━━━━━━━━━━━━━━━━━━━━━━━━━━━━━━━━━━\u001b[0m \u001b[32m110.5/110.5 kB\u001b[0m \u001b[31m7.9 MB/s\u001b[0m eta \u001b[36m0:00:00\u001b[0m\n",
            "\u001b[?25hDownloading opentelemetry_semantic_conventions-0.48b0-py3-none-any.whl (149 kB)\n",
            "\u001b[2K   \u001b[90m━━━━━━━━━━━━━━━━━━━━━━━━━━━━━━━━━━━━━━━━\u001b[0m \u001b[32m149.7/149.7 kB\u001b[0m \u001b[31m10.1 MB/s\u001b[0m eta \u001b[36m0:00:00\u001b[0m\n",
            "\u001b[?25hDownloading Mako-1.3.5-py3-none-any.whl (78 kB)\n",
            "\u001b[2K   \u001b[90m━━━━━━━━━━━━━━━━━━━━━━━━━━━━━━━━━━━━━━━━\u001b[0m \u001b[32m78.6/78.6 kB\u001b[0m \u001b[31m5.3 MB/s\u001b[0m eta \u001b[36m0:00:00\u001b[0m\n",
            "\u001b[?25hDownloading Deprecated-1.2.14-py2.py3-none-any.whl (9.6 kB)\n",
            "Downloading gitdb-4.0.11-py3-none-any.whl (62 kB)\n",
            "\u001b[2K   \u001b[90m━━━━━━━━━━━━━━━━━━━━━━━━━━━━━━━━━━━━━━━━\u001b[0m \u001b[32m62.7/62.7 kB\u001b[0m \u001b[31m4.7 MB/s\u001b[0m eta \u001b[36m0:00:00\u001b[0m\n",
            "\u001b[?25hDownloading smmap-5.0.1-py3-none-any.whl (24 kB)\n",
            "Installing collected packages: aniso8601, smmap, Mako, importlib-metadata, gunicorn, graphql-core, deprecated, opentelemetry-api, graphql-relay, gitdb, docker, alembic, opentelemetry-semantic-conventions, graphene, gitpython, databricks-sdk, opentelemetry-sdk, mlflow-skinny, mlflow\n",
            "  Attempting uninstall: importlib-metadata\n",
            "    Found existing installation: importlib_metadata 8.5.0\n",
            "    Uninstalling importlib_metadata-8.5.0:\n",
            "      Successfully uninstalled importlib_metadata-8.5.0\n",
            "Successfully installed Mako-1.3.5 alembic-1.13.2 aniso8601-9.0.1 databricks-sdk-0.32.3 deprecated-1.2.14 docker-7.1.0 gitdb-4.0.11 gitpython-3.1.43 graphene-3.3 graphql-core-3.2.4 graphql-relay-3.2.0 gunicorn-23.0.0 importlib-metadata-8.4.0 mlflow-2.16.2 mlflow-skinny-2.16.2 opentelemetry-api-1.27.0 opentelemetry-sdk-1.27.0 opentelemetry-semantic-conventions-0.48b0 smmap-5.0.1\n"
          ]
        }
      ]
    },
    {
      "cell_type": "markdown",
      "source": [
        "##Random Forest Classifier"
      ],
      "metadata": {
        "id": "PI4nCqA6GNPV"
      }
    },
    {
      "cell_type": "code",
      "source": [
        "from sklearn.ensemble import RandomForestClassifier\n",
        "from sklearn.metrics import accuracy_score, roc_auc_score\n",
        "import mlflow\n",
        "import mlflow.sklearn"
      ],
      "metadata": {
        "id": "1FFFVPTMHlBv"
      },
      "execution_count": 5,
      "outputs": []
    },
    {
      "cell_type": "code",
      "source": [
        "#l'expérience MLFlow : RandomForestClassifier\n",
        "mlflow.set_experiment(\"RandomForestClassifier\")\n",
        "\n",
        "# RUN 1 : random_forest_default\n",
        "\n",
        "#initialisation du RandomForestClassifier avec hyperparamètres par défaut\n",
        "rf_clf = RandomForestClassifier()\n",
        "\n",
        "with mlflow.start_run(run_name='random_forest_default'):\n",
        "    #l'enregistrement des hyperparamètres\n",
        "    mlflow.log_param(\"model_type\", \"RandomForestClassifier\")\n",
        "    mlflow.log_param(\"n_estimators\", 100)\n",
        "    mlflow.log_param(\"max_depth\", None)\n",
        "    mlflow.log_param(\"random_state\", None)\n",
        "\n",
        "    #l'entraînement du modèle\n",
        "    rf_clf.fit(X_train, y_train)\n",
        "\n",
        "    #la prédictions\n",
        "    y_pred_rf = rf_clf.predict(X_val)\n",
        "    y_prob_rf = rf_clf.predict_proba(X_val)[:, 1]\n",
        "\n",
        "    #les métriques\n",
        "    try:\n",
        "        auc_score_rf = roc_auc_score(y_val, y_prob_rf)\n",
        "    except ValueError:\n",
        "        auc_score_rf = float('nan')\n",
        "\n",
        "    accuracy_rf = accuracy_score(y_val, y_pred_rf)\n",
        "\n",
        "    #l'enregistrement des métriques\n",
        "    mlflow.log_metric(\"auc\", auc_score_rf)\n",
        "    mlflow.log_metric(\"accuracy\", accuracy_rf)\n",
        "\n",
        "    #l'enregistrement du modèle Random Forest\n",
        "    mlflow.sklearn.log_model(rf_clf, \"random_forest_model\")\n",
        "\n",
        "#pour vérification\n",
        "print(f\"Random Forest AUC: {auc_score_rf}, Accuracy: {accuracy_rf}\")\n"
      ],
      "metadata": {
        "colab": {
          "base_uri": "https://localhost:8080/"
        },
        "id": "Jev-z-J0CfJn",
        "outputId": "511530a8-06ca-43f5-f346-7963393cd667"
      },
      "execution_count": 18,
      "outputs": [
        {
          "output_type": "stream",
          "name": "stderr",
          "text": [
            "2024/09/21 06:18:10 INFO mlflow.tracking.fluent: Experiment with name 'RandomForestClassifier' does not exist. Creating a new experiment.\n",
            "2024/09/21 06:19:51 WARNING mlflow.models.model: Model logged without a signature and input example. Please set `input_example` parameter when logging the model to auto infer the model signature.\n"
          ]
        },
        {
          "output_type": "stream",
          "name": "stdout",
          "text": [
            "Random Forest AUC: 0.7005143453392627, Accuracy: 0.9194\n"
          ]
        }
      ]
    },
    {
      "cell_type": "code",
      "source": [
        "#pour vérifier que mon modèle est bien enregistré sur le dossier MLflow (Drive)\n",
        "!ls"
      ],
      "metadata": {
        "id": "ae9wu6c5QmXH"
      },
      "execution_count": null,
      "outputs": []
    },
    {
      "cell_type": "code",
      "source": [
        "#l'expérience MLFlow : RandomForestClassifier\n",
        "mlflow.set_experiment(\"RandomForestClassifier\")\n",
        "\n",
        "# RUN 2 : random_forest_hyper1\n",
        "\n",
        "#initialisation du RandomForestClassifier avec hyperparamètres\n",
        "rf_clf_h1 = RandomForestClassifier(n_estimators=200, max_depth=5, random_state=42)\n",
        "\n",
        "with mlflow.start_run(run_name='random_forest_hyper1'):\n",
        "    #l'enregistrement des hyperparamètres\n",
        "    mlflow.log_param(\"model_type\", \"RandomForestClassifier\")\n",
        "    mlflow.log_param(\"n_estimators\", 200)\n",
        "    mlflow.log_param(\"max_depth\", 5)\n",
        "    mlflow.log_param(\"random_state\", 42)\n",
        "\n",
        "    #l'entraînement du modèle\n",
        "    rf_clf_h1.fit(X_train, y_train)\n",
        "\n",
        "    #la prédictions\n",
        "    y_pred_rf_h1 = rf_clf_h1.predict(X_val)\n",
        "    y_prob_rf_h1 = rf_clf_h1.predict_proba(X_val)[:, 1]\n",
        "\n",
        "    #les métriques\n",
        "    try:\n",
        "        auc_score_rf_h1 = roc_auc_score(y_val, y_prob_rf_h1)\n",
        "    except ValueError:\n",
        "        auc_score_rf_h1 = float('nan')\n",
        "\n",
        "    accuracy_rf_h1 = accuracy_score(y_val, y_pred_rf_h1)\n",
        "\n",
        "    #l'enregistrement des métriques\n",
        "    mlflow.log_metric(\"auc_h1\", auc_score_rf_h1)\n",
        "    mlflow.log_metric(\"accuracy_h1\", accuracy_rf_h1)\n",
        "\n",
        "    #l'enregistrement du modèle Random Forest\n",
        "    mlflow.sklearn.log_model(rf_clf_h1, \"random_forest_model_h1\")\n",
        "\n",
        "#pour vérification\n",
        "print(f\"Random Forest AUC_h1: {auc_score_rf_h1}, Accuracy_h1: {accuracy_rf_h1}\")"
      ],
      "metadata": {
        "colab": {
          "base_uri": "https://localhost:8080/"
        },
        "id": "DaOuShgWKKJk",
        "outputId": "64d1ef99-1202-420c-efb3-32cddd4591c4"
      },
      "execution_count": 20,
      "outputs": [
        {
          "output_type": "stream",
          "name": "stderr",
          "text": [
            "2024/09/21 06:23:26 WARNING mlflow.models.model: Model logged without a signature and input example. Please set `input_example` parameter when logging the model to auto infer the model signature.\n"
          ]
        },
        {
          "output_type": "stream",
          "name": "stdout",
          "text": [
            "Random Forest AUC_h1: 0.7231446371498382, Accuracy_h1: 0.9193\n"
          ]
        }
      ]
    },
    {
      "cell_type": "code",
      "source": [
        "#pour vérifier que mon modèle est bien enregistré dans mlruns sur le dossier MLflow (Drive)\n",
        "!ls"
      ],
      "metadata": {
        "colab": {
          "base_uri": "https://localhost:8080/"
        },
        "id": "LBOfsDYmJq33",
        "outputId": "f4560687-f90b-4a98-8d82-b8cae6919937"
      },
      "execution_count": 26,
      "outputs": [
        {
          "output_type": "stream",
          "name": "stdout",
          "text": [
            "mlruns\tprojet7_1.ipynb\n"
          ]
        }
      ]
    },
    {
      "cell_type": "code",
      "source": [
        "mlflow.get_experiment_by_name(\"RandomForestClassifier\")\n"
      ],
      "metadata": {
        "colab": {
          "base_uri": "https://localhost:8080/"
        },
        "id": "qijMm9ryTAuJ",
        "outputId": "73212d26-b7d5-4676-b289-180dc918186c"
      },
      "execution_count": 25,
      "outputs": [
        {
          "output_type": "execute_result",
          "data": {
            "text/plain": [
              "<Experiment: artifact_location='file:///content/drive/MyDrive/MLflow/mlruns/565008962710455641', creation_time=1726899490519, experiment_id='565008962710455641', last_update_time=1726899490519, lifecycle_stage='active', name='RandomForestClassifier', tags={}>"
            ]
          },
          "metadata": {},
          "execution_count": 25
        }
      ]
    },
    {
      "cell_type": "markdown",
      "source": [
        "Je vais utilier GridSearchCV : le modèle est entraîné avec toutes les combinaisons d'hyperparamètres spécifiées, et la meilleure combinaison est sélectionnée en fonction de la métrique de score :accuracy pour l'instant.\n",
        "\n",
        "Ensuite, après avoir trouvé les meilleurs hyperparamètres, les prédictions sont effectuées, les métriques sont calculées"
      ],
      "metadata": {
        "id": "1qs4qVS1Y_rb"
      }
    },
    {
      "cell_type": "code",
      "source": [
        "from sklearn.model_selection import GridSearchCV\n",
        "\n",
        "#l'expérience MLFlow : RandomForestClassifier\n",
        "mlflow.set_experiment(\"RandomForestClassifier\")\n",
        "\n",
        "#les hyperparamètres à explorer\n",
        "param_grid_rf = {\n",
        "    'n_estimators': [50, 100, 200],\n",
        "    'max_depth': [None, 10, 20, 30],\n",
        "    'min_samples_split': [2, 5, 10],\n",
        "    'random_state': [42]\n",
        "}\n",
        "\n",
        "# RUN 3 :\n",
        "#initialisation du RandomForestClassifier\n",
        "rf_clf_cv = RandomForestClassifier()\n",
        "\n",
        "#la configuration de GridSearchCV\n",
        "grid_search_rf = GridSearchCV(estimator=rf_clf_cv, param_grid=param_grid_rf, cv=5, scoring='accuracy')\n",
        "\n",
        "#exécution de GridSearchCV\n",
        "with mlflow.start_run(run_name='random_forest_grid_search_cv'):\n",
        "    grid_search_rf.fit(X_train, y_train)\n",
        "\n",
        "    #meilleurs paramètres et score\n",
        "    best_params_rf = grid_search_rf.best_params_\n",
        "    best_score_rf = grid_search_rf.best_score_\n",
        "\n",
        "    #enregistrement des meilleurs paramètres\n",
        "    mlflow.log_params(best_params_rf)\n",
        "    mlflow.log_param(\"best_score\", best_score_rf)\n",
        "\n",
        "    #la prédictions avec les meilleurs paramètres\n",
        "    y_pred_rf_cv = grid_search_rf.best_estimator_.predict(X_val)\n",
        "    y_prob_rf_cv = grid_search_rf.best_estimator_.predict_proba(X_val)[:, 1]\n",
        "\n",
        "    #calcul des métriques\n",
        "    auc_score_rf_cv = roc_auc_score(y_val, y_prob_rf_cv)\n",
        "    accuracy_rf_cv = accuracy_score(y_val, y_pred_rf_cv)\n",
        "\n",
        "    #enregistrement des métriques\n",
        "    mlflow.log_metric(\"auc_cv\", auc_score_rf_cv)\n",
        "    mlflow.log_metric(\"accuracy_cv\", accuracy_rf_cv)\n",
        "\n",
        "    #enregistrement du modèle RandomForest avec les meilleurs paramètres\n",
        "    mlflow.sklearn.log_model(grid_search_rf.best_estimator_, \"random_forest_best_model\")\n",
        "\n",
        "print(f\"Best Random Forest Parameters: {best_params_rf}\")\n",
        "print(f\"Random Forest AUC_cv: {auc_score_rf_cv}, Accuracy_cv: {accuracy_rf_cv}\")\n"
      ],
      "metadata": {
        "id": "HF2NU_5fZo1v"
      },
      "execution_count": null,
      "outputs": []
    },
    {
      "cell_type": "markdown",
      "source": [
        "penalized_score = fp + 10 * fn\n",
        "\n",
        "Je calcule le score en pénalisant les faux négatifs plus fortement"
      ],
      "metadata": {
        "id": "PMMMXvlldiBM"
      }
    },
    {
      "cell_type": "code",
      "source": [
        "from sklearn.metrics import confusion_matrix\n",
        "\n",
        "#l'expérience MLFlow : RandomForestClassifier\n",
        "mlflow.set_experiment(\"RandomForestClassifier\")\n",
        "\n",
        "#les hyperparamètres à explorer\n",
        "param_grid_rf = {\n",
        "    'n_estimators': [50, 100, 200],\n",
        "    'max_depth': [None, 10, 20, 30],\n",
        "    'min_samples_split': [2, 5, 10],\n",
        "    'random_state': [42]\n",
        "}\n",
        "\n",
        "# RUN 4\n",
        "#initialisation du RandomForestClassifier\n",
        "rf_clf = RandomForestClassifier()\n",
        "\n",
        "#la configuration de GridSearchCV\n",
        "grid_search_rf = GridSearchCV(estimator=rf_clf, param_grid=param_grid_rf, cv=5, scoring='accuracy')\n",
        "\n",
        "#exécution de GridSearchCV\n",
        "with mlflow.start_run(run_name='random_forest_grid_search_score'):\n",
        "    grid_search_rf.fit(X_train, y_train)\n",
        "\n",
        "    # Meilleurs paramètres et score\n",
        "    best_params_rf = grid_search_rf.best_params_\n",
        "    best_score_rf = grid_search_rf.best_score_\n",
        "\n",
        "    # Enregistrement des meilleurs paramètres\n",
        "    mlflow.log_params(best_params_rf)\n",
        "    mlflow.log_param(\"best_score\", best_score_rf)\n",
        "\n",
        "    # Prédictions avec les meilleurs paramètres\n",
        "    y_pred_rf = grid_search_rf.best_estimator_.predict(X_val)\n",
        "\n",
        "    # Calcul des métriques\n",
        "    confusion = confusion_matrix(y_val, y_pred_rf)\n",
        "    fp = confusion[0, 1]  # Faux positifs\n",
        "    fn = confusion[1, 0]  # Faux négatifs\n",
        "\n",
        "    penalized_score = fp + 10 * fn\n",
        "\n",
        "    try:\n",
        "        auc_score_rf = roc_auc_score(y_val, y_pred_rf)\n",
        "    except ValueError:\n",
        "        auc_score_rf = float('nan')\n",
        "\n",
        "    accuracy_rf = accuracy_score(y_val, y_pred_rf)\n",
        "\n",
        "    # Enregistrement des métriques\n",
        "    mlflow.log_metric(\"auc\", auc_score_rf)\n",
        "    mlflow.log_metric(\"accuracy\", accuracy_rf)\n",
        "    mlflow.log_metric(\"penalized_score\", penalized_score)\n",
        "\n",
        "    # Enregistrement du modèle RandomForest avec les meilleurs paramètres\n",
        "    mlflow.sklearn.log_model(grid_search_rf.best_estimator_, \"random_forest_best_model_score\")\n",
        "\n",
        "print(f\"Best Random Forest Parameters: {best_params_rf}\")\n",
        "print(f\"Random Forest AUC: {auc_score_rf}, Accuracy: {accuracy_rf}, Penalized Score: {penalized_score}\")"
      ],
      "metadata": {
        "id": "ZrBN0DHwdpsj"
      },
      "execution_count": null,
      "outputs": []
    },
    {
      "cell_type": "markdown",
      "source": [
        "##Light GBM"
      ],
      "metadata": {
        "id": "Nw4wBJnpVoFA"
      }
    },
    {
      "cell_type": "code",
      "source": [
        "#lightGBM ne prend pas en charge les caractères spéciaux dans les noms de colonnes donc je les supprime\n",
        "import re\n",
        "\n",
        "#la fonction pour nettoyer les noms de colonnes\n",
        "def clean_column_names(df):\n",
        "    df.columns = [re.sub(r'\\W+', '_', col) for col in df.columns]\n",
        "    return df\n",
        "\n",
        "#j'applique la fonction à X_train et X_val\n",
        "X_train = clean_column_names(X_train)\n",
        "X_val = clean_column_names(X_val)\n",
        "\n",
        "#maintenant les colonnes ne contiennent plus de caractères spéciaux"
      ],
      "metadata": {
        "id": "sgbsBZAjVTwg"
      },
      "execution_count": 28,
      "outputs": []
    },
    {
      "cell_type": "code",
      "source": [
        "import lightgbm as lgb\n",
        "from sklearn.metrics import accuracy_score, roc_auc_score\n",
        "import mlflow\n",
        "import mlflow.sklearn\n",
        "\n",
        "#l'expérience MLFlow : LightGBM\n",
        "mlflow.set_experiment(\"LightGBM\")\n",
        "\n",
        "# RUN 1: lightgbm_default\n",
        "\n",
        "#initialisation du LightGBM avec hyperparamètres par défaut\n",
        "lgb_clf = lgb.LGBMClassifier()\n",
        "\n",
        "with mlflow.start_run(run_name='lightgbm_default'):\n",
        "    #enregistrement des hyperparamètres par défaut\n",
        "    mlflow.log_param(\"model_type\", \"LGBMClassifier\")\n",
        "    mlflow.log_param(\"boosting_type\", lgb_clf.boosting_type)  # 'gbdt' par défaut\n",
        "    mlflow.log_param(\"num_leaves\", lgb_clf.num_leaves)  # 31 par défaut\n",
        "    mlflow.log_param(\"learning_rate\", lgb_clf.learning_rate)  # 0.1 par défaut\n",
        "    mlflow.log_param(\"n_estimators\", lgb_clf.n_estimators)  # 100 par défaut\n",
        "    mlflow.log_param(\"max_depth\", lgb_clf.max_depth)  # -1 par défaut (pas de limite)\n",
        "\n",
        "    #entraînement du modèle\n",
        "    lgb_clf.fit(X_train, y_train)\n",
        "\n",
        "    #la prédictions\n",
        "    y_pred_lgb = lgb_clf.predict(X_val)\n",
        "\n",
        "    #la probabilité pour la classe positive\n",
        "    y_prob_lgb = lgb_clf.predict_proba(X_val)[:, 1]\n",
        "\n",
        "    #je calcul les métriques\n",
        "    try:\n",
        "        auc_score_lgb = roc_auc_score(y_val, y_prob_lgb)\n",
        "    except ValueError:\n",
        "        auc_score_lgb = float('nan')\n",
        "\n",
        "    accuracy_lgb = accuracy_score(y_val, y_pred_lgb)\n",
        "\n",
        "    #enregistrement des métriques\n",
        "    mlflow.log_metric(\"auc\", auc_score_lgb)\n",
        "    mlflow.log_metric(\"accuracy\", accuracy_lgb)\n",
        "\n",
        "    #enregistrement du modèle LightGBM\n",
        "    mlflow.sklearn.log_model(lgb_clf, \"lightgbm_model\")\n",
        "\n",
        "#les résultats pour vérification\n",
        "print(f\"LightGBM AUC: {auc_score_lgb}, Accuracy: {accuracy_lgb}\")\n"
      ],
      "metadata": {
        "colab": {
          "base_uri": "https://localhost:8080/"
        },
        "id": "yCfnXDNlUo7U",
        "outputId": "22c168d1-f791-4d44-8633-d4839f5d8d32"
      },
      "execution_count": 29,
      "outputs": [
        {
          "output_type": "stream",
          "name": "stdout",
          "text": [
            "[LightGBM] [Info] Number of positive: 3229, number of negative: 36770\n",
            "[LightGBM] [Info] Auto-choosing col-wise multi-threading, the overhead of testing was 0.767886 seconds.\n",
            "You can set `force_col_wise=true` to remove the overhead.\n",
            "[LightGBM] [Info] Total Bins 68500\n",
            "[LightGBM] [Info] Number of data points in the train set: 39999, number of used features: 601\n",
            "[LightGBM] [Info] [binary:BoostFromScore]: pavg=0.080727 -> initscore=-2.432510\n",
            "[LightGBM] [Info] Start training from score -2.432510\n"
          ]
        },
        {
          "output_type": "stream",
          "name": "stderr",
          "text": [
            "2024/09/21 06:47:49 WARNING mlflow.models.model: Model logged without a signature and input example. Please set `input_example` parameter when logging the model to auto infer the model signature.\n"
          ]
        },
        {
          "output_type": "stream",
          "name": "stdout",
          "text": [
            "LightGBM AUC: 0.7595228630803218, Accuracy: 0.9187\n"
          ]
        }
      ]
    },
    {
      "cell_type": "code",
      "source": [
        "#l'expérience MLFlow : LightGBM\n",
        "mlflow.set_experiment(\"LightGBM\")\n",
        "\n",
        "# RUN 2: lightgbm_hyper\n",
        "\n",
        "#initialisation du LightGBM avec des hyperparamètres personnalisés\n",
        "lgb_clf_h1 = lgb.LGBMClassifier(\n",
        "    num_leaves=50,          #j'augmenter le nombre de feuilles\n",
        "    max_depth=10,           #la profondeur des arbres\n",
        "    learning_rate=0.05,     #je diminue le taux d'apprentissage\n",
        "    n_estimators=200        #j'augmenter le nombre d'estimations (arbres)\n",
        ")\n",
        "\n",
        "with mlflow.start_run(run_name='lightgbm_custom_h1'):\n",
        "    #enregistrement des hyperparamètres personnalisés\n",
        "    mlflow.log_param(\"model_type\", \"LGBMClassifier\")\n",
        "    mlflow.log_param(\"boosting_type\", lgb_clf_h1.boosting_type)  #c'était 'gbdt' par défaut\n",
        "    mlflow.log_param(\"num_leaves\", lgb_clf_h1.num_leaves)\n",
        "    mlflow.log_param(\"learning_rate\", lgb_clf_h1.learning_rate)\n",
        "    mlflow.log_param(\"n_estimators\", lgb_clf_h1.n_estimators)\n",
        "    mlflow.log_param(\"max_depth\", lgb_clf_h1.max_depth)\n",
        "\n",
        "    #entraînement du modèle\n",
        "    lgb_clf_h1.fit(X_train, y_train)\n",
        "\n",
        "    #la prédictions\n",
        "    y_pred_lgb_h1 = lgb_clf_h1.predict(X_val)\n",
        "    y_prob_lgb_h1 = lgb_clf_h1.predict_proba(X_val)[:, 1]\n",
        "\n",
        "    #je calcul les métriques\n",
        "    try:\n",
        "        auc_score_lgb_h1 = roc_auc_score(y_val, y_prob_lgb_h1)\n",
        "    except ValueError:\n",
        "        auc_score_lgb_h1 = float('nan')\n",
        "\n",
        "    accuracy_lgb_h1 = accuracy_score(y_val, y_pred_lgb_h1)\n",
        "\n",
        "    #l'enregistrement des métriques\n",
        "    mlflow.log_metric(\"auc_h1\", auc_score_lgb_h1)\n",
        "    mlflow.log_metric(\"accuracy_h1\", accuracy_lgb_h1)\n",
        "\n",
        "    #l'enregistrement du modèle LightGBM\n",
        "    mlflow.sklearn.log_model(lgb_clf_h1, \"lightgbm_custom_model_h1\")\n",
        "\n",
        "#les résultats pour vérification\n",
        "print(f\"LightGBM AUC_h1: {auc_score_lgb_h1}, Accuracy_h1: {accuracy_lgb_h1}\")\n"
      ],
      "metadata": {
        "colab": {
          "base_uri": "https://localhost:8080/"
        },
        "id": "Z1pA8qbyW6ji",
        "outputId": "a1ad5409-f50d-4928-faa1-e1df3276f7ea"
      },
      "execution_count": 30,
      "outputs": [
        {
          "output_type": "stream",
          "name": "stdout",
          "text": [
            "[LightGBM] [Info] Number of positive: 3229, number of negative: 36770\n",
            "[LightGBM] [Info] Auto-choosing col-wise multi-threading, the overhead of testing was 0.401872 seconds.\n",
            "You can set `force_col_wise=true` to remove the overhead.\n",
            "[LightGBM] [Info] Total Bins 68500\n",
            "[LightGBM] [Info] Number of data points in the train set: 39999, number of used features: 601\n",
            "[LightGBM] [Info] [binary:BoostFromScore]: pavg=0.080727 -> initscore=-2.432510\n",
            "[LightGBM] [Info] Start training from score -2.432510\n",
            "[LightGBM] [Warning] No further splits with positive gain, best gain: -inf\n"
          ]
        },
        {
          "output_type": "stream",
          "name": "stderr",
          "text": [
            "2024/09/21 06:59:28 WARNING mlflow.models.model: Model logged without a signature and input example. Please set `input_example` parameter when logging the model to auto infer the model signature.\n"
          ]
        },
        {
          "output_type": "stream",
          "name": "stdout",
          "text": [
            "LightGBM AUC_h1: 0.7687009578836114, Accuracy_h1: 0.9203\n"
          ]
        }
      ]
    },
    {
      "cell_type": "code",
      "source": [
        "#l'expérience MLFlow : LightGBM\n",
        "mlflow.set_experiment(\"LightGBM\")\n",
        "\n",
        "#les hyperparamètres à explorer\n",
        "param_grid_lgb = {\n",
        "    'num_leaves': [31, 50, 70],\n",
        "    'max_depth': [-1, 10, 20],\n",
        "    'learning_rate': [0.01, 0.05, 0.1],\n",
        "    'n_estimators': [100, 200, 300]\n",
        "}\n",
        "\n",
        "#initialisation du LGBMClassifier\n",
        "lgb_clf_cv = lgb.LGBMClassifier()\n",
        "\n",
        "# RUN 3\n",
        "\n",
        "#configuration de GridSearchCV\n",
        "grid_search_lgb = GridSearchCV(estimator=lgb_clf_cv, param_grid=param_grid_lgb, cv=5, scoring='accuracy')\n",
        "\n",
        "#exécution de GridSearchCV\n",
        "with mlflow.start_run(run_name='lightgbm_grid_search_cv'):\n",
        "    grid_search_lgb.fit(X_train, y_train)\n",
        "\n",
        "    #meilleurs paramètres et score\n",
        "    best_params_lgb = grid_search_lgb.best_params_\n",
        "    best_score_lgb = grid_search_lgb.best_score_\n",
        "\n",
        "    #enregistrement des meilleurs paramètres\n",
        "    mlflow.log_params(best_params_lgb)\n",
        "    mlflow.log_param(\"best_score\", best_score_lgb)\n",
        "\n",
        "    #prédictions avec les meilleurs paramètres\n",
        "    y_pred_lgb_cv = grid_search_lgb.best_estimator_.predict(X_val)\n",
        "    y_prob_lgb_cv = grid_search_lgb.best_estimator_.predict_proba(X_val)[:, 1]\n",
        "\n",
        "    #calcul des métriques\n",
        "    auc_score_lgb_cv = roc_auc_score(y_val, y_prob_lgb_cv)\n",
        "    accuracy_lgb_cv = accuracy_score(y_val, y_pred_lgb_cv)\n",
        "\n",
        "    #enregistrement des métriques\n",
        "    mlflow.log_metric(\"auc_cv\", auc_score_lgb_cv)\n",
        "    mlflow.log_metric(\"accuracy_cv\", accuracy_lgb_cv)\n",
        "\n",
        "    #enregistrement du modèle LGBM avec les meilleurs paramètres\n",
        "    mlflow.sklearn.log_model(grid_search_lgb.best_estimator_, \"lightgbm_best_model\")\n",
        "\n",
        "print(f\"Best LightGBM Parameters: {best_params_lgb}\")\n",
        "print(f\"LightGBM AUC_cv: {auc_score_lgb_cv}, Accuracy_cv: {accuracy_lgb_cv}\")\n"
      ],
      "metadata": {
        "id": "RQBX6BasbFcL"
      },
      "execution_count": null,
      "outputs": []
    },
    {
      "cell_type": "markdown",
      "source": [
        "#MLFlow UI"
      ],
      "metadata": {
        "id": "gT4peLcNYwG5"
      }
    },
    {
      "cell_type": "code",
      "source": [
        "#maintenant pour visualiser sur mlflw j'ai besoin de ngrok\n",
        "#j'installe le package\n",
        "! pip install pyngrok"
      ],
      "metadata": {
        "colab": {
          "base_uri": "https://localhost:8080/"
        },
        "id": "Ud86_hc_YDAc",
        "outputId": "703d61a7-3471-4df9-fb18-a51e795f5f33"
      },
      "execution_count": 22,
      "outputs": [
        {
          "output_type": "stream",
          "name": "stdout",
          "text": [
            "Collecting pyngrok\n",
            "  Downloading pyngrok-7.2.0-py3-none-any.whl.metadata (7.4 kB)\n",
            "Requirement already satisfied: PyYAML>=5.1 in /usr/local/lib/python3.10/dist-packages (from pyngrok) (6.0.2)\n",
            "Downloading pyngrok-7.2.0-py3-none-any.whl (22 kB)\n",
            "Installing collected packages: pyngrok\n",
            "Successfully installed pyngrok-7.2.0\n"
          ]
        }
      ]
    },
    {
      "cell_type": "code",
      "source": [
        "from pyngrok import ngrok\n",
        "#terminate open tunnels if exist\n",
        "ngrok.kill()\n",
        "\n",
        "#setting the authtoken (optional)\n",
        "NGROK_AUTH_TOKEN = \"2m0LsyXXeuXcuZ6p34hmutJGy1u_4yK2gMFBwyn1ka2HPfR1i\"\n",
        "ngrok.set_auth_token(NGROK_AUTH_TOKEN)\n",
        "\n",
        "#open an HTTPs tunnel on port 5000 for http://localhost:5000\n",
        "ngrok_tunnel = ngrok.connect(addr = \"5000\", proto= \"http\", bind_tls =True)\n",
        "print('MLFlow Tracking UI:', ngrok_tunnel.public_url)"
      ],
      "metadata": {
        "colab": {
          "base_uri": "https://localhost:8080/"
        },
        "id": "DyNRcBeRYD7_",
        "outputId": "c35db686-a8de-4000-8fd0-85235fe8a58c"
      },
      "execution_count": 23,
      "outputs": [
        {
          "output_type": "stream",
          "name": "stdout",
          "text": [
            "MLFlow Tracking UI: https://fbfe-34-132-205-88.ngrok-free.app\n"
          ]
        }
      ]
    },
    {
      "cell_type": "code",
      "source": [
        "#afin de visualiser les expérimentations avec MLFlow, j'exécute l'interface utilisateur\n",
        "!mlflow ui"
      ],
      "metadata": {
        "colab": {
          "base_uri": "https://localhost:8080/"
        },
        "id": "Q-NvMgCtYLYa",
        "outputId": "65883f16-8ce4-44a1-8ca3-28a1de14acc4"
      },
      "execution_count": 24,
      "outputs": [
        {
          "output_type": "stream",
          "name": "stdout",
          "text": [
            "[2024-09-21 06:27:54 +0000] [19162] [INFO] Starting gunicorn 23.0.0\n",
            "[2024-09-21 06:27:54 +0000] [19162] [INFO] Listening at: http://127.0.0.1:5000 (19162)\n",
            "[2024-09-21 06:27:54 +0000] [19162] [INFO] Using worker: sync\n",
            "[2024-09-21 06:27:54 +0000] [19167] [INFO] Booting worker with pid: 19167\n",
            "[2024-09-21 06:27:54 +0000] [19168] [INFO] Booting worker with pid: 19168\n",
            "[2024-09-21 06:27:55 +0000] [19169] [INFO] Booting worker with pid: 19169\n",
            "[2024-09-21 06:27:55 +0000] [19170] [INFO] Booting worker with pid: 19170\n",
            "[2024-09-21 06:36:36 +0000] [19162] [INFO] Handling signal: int\n",
            "\n",
            "Aborted!\n",
            "[2024-09-21 06:36:36 +0000] [19168] [INFO] Worker exiting (pid: 19168)\n",
            "[2024-09-21 06:36:36 +0000] [19170] [INFO] Worker exiting (pid: 19170)\n",
            "[2024-09-21 06:36:36 +0000] [19169] [INFO] Worker exiting (pid: 19169)\n",
            "[2024-09-21 06:36:36 +0000] [19167] [INFO] Worker exiting (pid: 19167)\n",
            "[2024-09-21 06:36:38 +0000] [19162] [INFO] Shutting down: Master\n"
          ]
        }
      ]
    }
  ]
}